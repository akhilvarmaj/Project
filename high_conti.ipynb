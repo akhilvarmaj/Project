{
 "cells": [
  {
   "cell_type": "code",
   "execution_count": 1,
   "metadata": {},
   "outputs": [],
   "source": [
    "import pandas as pd\n",
    "import seaborn as sns\n",
    "import numpy as np\n",
    "import matplotlib.pyplot as plt"
   ]
  },
  {
   "cell_type": "code",
   "execution_count": 2,
   "metadata": {},
   "outputs": [],
   "source": [
    "test = pd.read_csv('test_datac.csv')"
   ]
  },
  {
   "cell_type": "code",
   "execution_count": 3,
   "metadata": {},
   "outputs": [
    {
     "data": {
      "text/html": [
       "<div>\n",
       "<style scoped>\n",
       "    .dataframe tbody tr th:only-of-type {\n",
       "        vertical-align: middle;\n",
       "    }\n",
       "\n",
       "    .dataframe tbody tr th {\n",
       "        vertical-align: top;\n",
       "    }\n",
       "\n",
       "    .dataframe thead th {\n",
       "        text-align: right;\n",
       "    }\n",
       "</style>\n",
       "<table border=\"1\" class=\"dataframe\">\n",
       "  <thead>\n",
       "    <tr style=\"text-align: right;\">\n",
       "      <th></th>\n",
       "      <th>row_id</th>\n",
       "      <th>ts_start</th>\n",
       "      <th>lat</th>\n",
       "      <th>lon</th>\n",
       "      <th>ts_valid</th>\n",
       "      <th>temp</th>\n",
       "      <th>dewpt</th>\n",
       "      <th>slp</th>\n",
       "      <th>rh</th>\n",
       "      <th>vis</th>\n",
       "      <th>...</th>\n",
       "      <th>FE_SUN_ALTITUDE</th>\n",
       "      <th>DT_DATA_LAST_UPDATED</th>\n",
       "      <th>SURF_UNIQUE_ID</th>\n",
       "      <th>site_id</th>\n",
       "      <th>anonym_0</th>\n",
       "      <th>anonym_1</th>\n",
       "      <th>anonym_2</th>\n",
       "      <th>anonym_3</th>\n",
       "      <th>anonym_4</th>\n",
       "      <th>anonym_5</th>\n",
       "    </tr>\n",
       "  </thead>\n",
       "  <tbody>\n",
       "    <tr>\n",
       "      <th>0</th>\n",
       "      <td>39062</td>\n",
       "      <td>2019-11-19 04:45:00+00:00</td>\n",
       "      <td>41.02</td>\n",
       "      <td>-92.42</td>\n",
       "      <td>2019-11-19 05:00:00+00:00</td>\n",
       "      <td>5.0</td>\n",
       "      <td>4.0</td>\n",
       "      <td>1005.90</td>\n",
       "      <td>93.0</td>\n",
       "      <td>7.0</td>\n",
       "      <td>...</td>\n",
       "      <td>-63.667340</td>\n",
       "      <td>2019-11-19 04:45:00+00:00</td>\n",
       "      <td>5120360.0</td>\n",
       "      <td>54</td>\n",
       "      <td>0.479819</td>\n",
       "      <td>0.457492</td>\n",
       "      <td>0.715955</td>\n",
       "      <td>-1.974396</td>\n",
       "      <td>-2.088368</td>\n",
       "      <td>-1.184501</td>\n",
       "    </tr>\n",
       "    <tr>\n",
       "      <th>1</th>\n",
       "      <td>42462</td>\n",
       "      <td>2019-11-19 04:45:00+00:00</td>\n",
       "      <td>42.07</td>\n",
       "      <td>-90.68</td>\n",
       "      <td>2019-11-19 05:00:00+00:00</td>\n",
       "      <td>1.0</td>\n",
       "      <td>-1.0</td>\n",
       "      <td>1007.05</td>\n",
       "      <td>85.0</td>\n",
       "      <td>7.0</td>\n",
       "      <td>...</td>\n",
       "      <td>-63.624064</td>\n",
       "      <td>2019-11-19 04:45:00+00:00</td>\n",
       "      <td>5120281.0</td>\n",
       "      <td>39</td>\n",
       "      <td>0.630652</td>\n",
       "      <td>0.829738</td>\n",
       "      <td>0.682391</td>\n",
       "      <td>-1.459596</td>\n",
       "      <td>-1.254026</td>\n",
       "      <td>-1.225418</td>\n",
       "    </tr>\n",
       "    <tr>\n",
       "      <th>2</th>\n",
       "      <td>42461</td>\n",
       "      <td>2019-11-19 04:45:00+00:00</td>\n",
       "      <td>42.07</td>\n",
       "      <td>-90.68</td>\n",
       "      <td>2019-11-19 05:00:00+00:00</td>\n",
       "      <td>1.0</td>\n",
       "      <td>-1.0</td>\n",
       "      <td>1007.05</td>\n",
       "      <td>85.0</td>\n",
       "      <td>7.0</td>\n",
       "      <td>...</td>\n",
       "      <td>-63.624064</td>\n",
       "      <td>2019-11-19 04:45:00+00:00</td>\n",
       "      <td>5120280.0</td>\n",
       "      <td>39</td>\n",
       "      <td>0.610518</td>\n",
       "      <td>0.694695</td>\n",
       "      <td>0.692086</td>\n",
       "      <td>-1.385336</td>\n",
       "      <td>-1.286704</td>\n",
       "      <td>-1.075082</td>\n",
       "    </tr>\n",
       "    <tr>\n",
       "      <th>3</th>\n",
       "      <td>45685</td>\n",
       "      <td>2019-11-19 04:45:00+00:00</td>\n",
       "      <td>41.96</td>\n",
       "      <td>-92.30</td>\n",
       "      <td>2019-11-19 05:00:00+00:00</td>\n",
       "      <td>3.0</td>\n",
       "      <td>2.0</td>\n",
       "      <td>1005.80</td>\n",
       "      <td>96.0</td>\n",
       "      <td>4.5</td>\n",
       "      <td>...</td>\n",
       "      <td>-62.993589</td>\n",
       "      <td>2019-11-19 04:45:00+00:00</td>\n",
       "      <td>5120570.0</td>\n",
       "      <td>13</td>\n",
       "      <td>0.581700</td>\n",
       "      <td>0.471643</td>\n",
       "      <td>0.817873</td>\n",
       "      <td>-1.674626</td>\n",
       "      <td>-1.729747</td>\n",
       "      <td>-0.648543</td>\n",
       "    </tr>\n",
       "    <tr>\n",
       "      <th>4</th>\n",
       "      <td>45686</td>\n",
       "      <td>2019-11-19 04:45:00+00:00</td>\n",
       "      <td>41.96</td>\n",
       "      <td>-92.30</td>\n",
       "      <td>2019-11-19 05:00:00+00:00</td>\n",
       "      <td>3.0</td>\n",
       "      <td>2.0</td>\n",
       "      <td>1005.80</td>\n",
       "      <td>96.0</td>\n",
       "      <td>4.5</td>\n",
       "      <td>...</td>\n",
       "      <td>-62.993589</td>\n",
       "      <td>2019-11-19 04:45:00+00:00</td>\n",
       "      <td>5120571.0</td>\n",
       "      <td>13</td>\n",
       "      <td>0.489562</td>\n",
       "      <td>0.540767</td>\n",
       "      <td>1.007763</td>\n",
       "      <td>-1.653722</td>\n",
       "      <td>-1.813574</td>\n",
       "      <td>-0.595717</td>\n",
       "    </tr>\n",
       "  </tbody>\n",
       "</table>\n",
       "<p>5 rows × 30 columns</p>\n",
       "</div>"
      ],
      "text/plain": [
       "   row_id                   ts_start    lat    lon                   ts_valid  \\\n",
       "0   39062  2019-11-19 04:45:00+00:00  41.02 -92.42  2019-11-19 05:00:00+00:00   \n",
       "1   42462  2019-11-19 04:45:00+00:00  42.07 -90.68  2019-11-19 05:00:00+00:00   \n",
       "2   42461  2019-11-19 04:45:00+00:00  42.07 -90.68  2019-11-19 05:00:00+00:00   \n",
       "3   45685  2019-11-19 04:45:00+00:00  41.96 -92.30  2019-11-19 05:00:00+00:00   \n",
       "4   45686  2019-11-19 04:45:00+00:00  41.96 -92.30  2019-11-19 05:00:00+00:00   \n",
       "\n",
       "   temp  dewpt      slp    rh  vis  ...  FE_SUN_ALTITUDE  \\\n",
       "0   5.0    4.0  1005.90  93.0  7.0  ...       -63.667340   \n",
       "1   1.0   -1.0  1007.05  85.0  7.0  ...       -63.624064   \n",
       "2   1.0   -1.0  1007.05  85.0  7.0  ...       -63.624064   \n",
       "3   3.0    2.0  1005.80  96.0  4.5  ...       -62.993589   \n",
       "4   3.0    2.0  1005.80  96.0  4.5  ...       -62.993589   \n",
       "\n",
       "        DT_DATA_LAST_UPDATED  SURF_UNIQUE_ID  site_id  anonym_0  anonym_1  \\\n",
       "0  2019-11-19 04:45:00+00:00       5120360.0       54  0.479819  0.457492   \n",
       "1  2019-11-19 04:45:00+00:00       5120281.0       39  0.630652  0.829738   \n",
       "2  2019-11-19 04:45:00+00:00       5120280.0       39  0.610518  0.694695   \n",
       "3  2019-11-19 04:45:00+00:00       5120570.0       13  0.581700  0.471643   \n",
       "4  2019-11-19 04:45:00+00:00       5120571.0       13  0.489562  0.540767   \n",
       "\n",
       "   anonym_2  anonym_3  anonym_4  anonym_5  \n",
       "0  0.715955 -1.974396 -2.088368 -1.184501  \n",
       "1  0.682391 -1.459596 -1.254026 -1.225418  \n",
       "2  0.692086 -1.385336 -1.286704 -1.075082  \n",
       "3  0.817873 -1.674626 -1.729747 -0.648543  \n",
       "4  1.007763 -1.653722 -1.813574 -0.595717  \n",
       "\n",
       "[5 rows x 30 columns]"
      ]
     },
     "execution_count": 3,
     "metadata": {},
     "output_type": "execute_result"
    }
   ],
   "source": [
    "test.head()"
   ]
  },
  {
   "cell_type": "code",
   "execution_count": 4,
   "metadata": {},
   "outputs": [
    {
     "data": {
      "text/plain": [
       "Index(['row_id', 'ts_start', 'lat', 'lon', 'ts_valid', 'temp', 'dewpt', 'slp',\n",
       "       'rh', 'vis', 'wspeed', 'wdir', 'wgust', 'pop', 'precip_rate',\n",
       "       'FE_AZIMUTH', 'FE_ZENITH', 'FE_ASCENSION', 'FE_DECLINATION',\n",
       "       'FE_HEIGHT', 'FE_SUN_ALTITUDE', 'DT_DATA_LAST_UPDATED',\n",
       "       'SURF_UNIQUE_ID', 'site_id', 'anonym_0', 'anonym_1', 'anonym_2',\n",
       "       'anonym_3', 'anonym_4', 'anonym_5'],\n",
       "      dtype='object')"
      ]
     },
     "execution_count": 4,
     "metadata": {},
     "output_type": "execute_result"
    }
   ],
   "source": [
    "test.columns"
   ]
  },
  {
   "cell_type": "code",
   "execution_count": 5,
   "metadata": {
    "scrolled": true
   },
   "outputs": [
    {
     "data": {
      "text/plain": [
       "row_id                  53616\n",
       "ts_start                 1996\n",
       "lat                         9\n",
       "lon                         9\n",
       "ts_valid                 1996\n",
       "temp                       33\n",
       "dewpt                      32\n",
       "slp                      3853\n",
       "rh                         68\n",
       "vis                        61\n",
       "wspeed                     55\n",
       "wdir                      360\n",
       "wgust                      55\n",
       "pop                        96\n",
       "precip_rate               231\n",
       "FE_AZIMUTH              17396\n",
       "FE_ZENITH               17396\n",
       "FE_ASCENSION            17396\n",
       "FE_DECLINATION          17396\n",
       "FE_HEIGHT               17396\n",
       "FE_SUN_ALTITUDE         17396\n",
       "DT_DATA_LAST_UPDATED     1996\n",
       "SURF_UNIQUE_ID             28\n",
       "site_id                     9\n",
       "anonym_0                53616\n",
       "anonym_1                53616\n",
       "anonym_2                53616\n",
       "anonym_3                53574\n",
       "anonym_4                53602\n",
       "anonym_5                33555\n",
       "dtype: int64"
      ]
     },
     "execution_count": 5,
     "metadata": {},
     "output_type": "execute_result"
    }
   ],
   "source": [
    "test.nunique()"
   ]
  },
  {
   "cell_type": "code",
   "execution_count": 6,
   "metadata": {},
   "outputs": [],
   "source": [
    "uni_col = {'FE_AZIMUTH', 'FE_ZENITH',\n",
    "           'FE_ASCENSION', 'FE_DECLINATION', 'FE_HEIGHT', 'FE_SUN_ALTITUDE', \n",
    "           'anonym_0', 'anonym_1', 'anonym_2','anonym_3', 'anonym_4', 'anonym_5'}"
   ]
  },
  {
   "cell_type": "code",
   "execution_count": 7,
   "metadata": {},
   "outputs": [],
   "source": [
    "row_id = test['row_id']"
   ]
  },
  {
   "cell_type": "code",
   "execution_count": 8,
   "metadata": {},
   "outputs": [
    {
     "data": {
      "text/plain": [
       "0        39062\n",
       "1        42462\n",
       "2        42461\n",
       "3        45685\n",
       "4        45686\n",
       "         ...  \n",
       "53611    18020\n",
       "53612    18021\n",
       "53613    11978\n",
       "53614     8525\n",
       "53615     8527\n",
       "Name: row_id, Length: 53616, dtype: int64"
      ]
     },
     "execution_count": 8,
     "metadata": {},
     "output_type": "execute_result"
    }
   ],
   "source": [
    "row_id"
   ]
  },
  {
   "cell_type": "code",
   "execution_count": 9,
   "metadata": {},
   "outputs": [
    {
     "data": {
      "text/plain": [
       "<matplotlib.axes._subplots.AxesSubplot at 0x21b1e2936a0>"
      ]
     },
     "execution_count": 9,
     "metadata": {},
     "output_type": "execute_result"
    },
    {
     "data": {
      "image/png": "[encoded data removed]",
      "text/plain": [
       "<Figure size 432x288 with 1 Axes>"
      ]
     },
     "metadata": {
      "needs_background": "light"
     },
     "output_type": "display_data"
    }
   ],
   "source": [
    "sns.countplot(x= 'ts_valid',data = test)"
   ]
  },
  {
   "cell_type": "code",
   "execution_count": 10,
   "metadata": {},
   "outputs": [],
   "source": [
    "corr = test.corr()"
   ]
  },
  {
   "cell_type": "code",
   "execution_count": 11,
   "metadata": {
    "scrolled": true
   },
   "outputs": [
    {
     "data": {
      "text/html": [
       "<div>\n",
       "<style scoped>\n",
       "    .dataframe tbody tr th:only-of-type {\n",
       "        vertical-align: middle;\n",
       "    }\n",
       "\n",
       "    .dataframe tbody tr th {\n",
       "        vertical-align: top;\n",
       "    }\n",
       "\n",
       "    .dataframe thead th {\n",
       "        text-align: right;\n",
       "    }\n",
       "</style>\n",
       "<table border=\"1\" class=\"dataframe\">\n",
       "  <thead>\n",
       "    <tr style=\"text-align: right;\">\n",
       "      <th></th>\n",
       "      <th>row_id</th>\n",
       "      <th>lat</th>\n",
       "      <th>lon</th>\n",
       "      <th>temp</th>\n",
       "      <th>dewpt</th>\n",
       "      <th>slp</th>\n",
       "      <th>rh</th>\n",
       "      <th>vis</th>\n",
       "      <th>wspeed</th>\n",
       "      <th>wdir</th>\n",
       "      <th>...</th>\n",
       "      <th>FE_HEIGHT</th>\n",
       "      <th>FE_SUN_ALTITUDE</th>\n",
       "      <th>SURF_UNIQUE_ID</th>\n",
       "      <th>site_id</th>\n",
       "      <th>anonym_0</th>\n",
       "      <th>anonym_1</th>\n",
       "      <th>anonym_2</th>\n",
       "      <th>anonym_3</th>\n",
       "      <th>anonym_4</th>\n",
       "      <th>anonym_5</th>\n",
       "    </tr>\n",
       "  </thead>\n",
       "  <tbody>\n",
       "    <tr>\n",
       "      <th>row_id</th>\n",
       "      <td>1.000000</td>\n",
       "      <td>-0.012863</td>\n",
       "      <td>0.079970</td>\n",
       "      <td>0.149274</td>\n",
       "      <td>0.231229</td>\n",
       "      <td>-0.055085</td>\n",
       "      <td>0.094153</td>\n",
       "      <td>-0.168600</td>\n",
       "      <td>-0.001308</td>\n",
       "      <td>-0.200546</td>\n",
       "      <td>...</td>\n",
       "      <td>0.055048</td>\n",
       "      <td>0.020112</td>\n",
       "      <td>0.008539</td>\n",
       "      <td>-0.083451</td>\n",
       "      <td>-0.109661</td>\n",
       "      <td>-0.139215</td>\n",
       "      <td>0.132309</td>\n",
       "      <td>-0.124313</td>\n",
       "      <td>-0.213653</td>\n",
       "      <td>0.120023</td>\n",
       "    </tr>\n",
       "    <tr>\n",
       "      <th>lat</th>\n",
       "      <td>-0.012863</td>\n",
       "      <td>1.000000</td>\n",
       "      <td>0.084770</td>\n",
       "      <td>-0.129969</td>\n",
       "      <td>-0.052734</td>\n",
       "      <td>-0.024359</td>\n",
       "      <td>0.148111</td>\n",
       "      <td>-0.109203</td>\n",
       "      <td>-0.010406</td>\n",
       "      <td>-0.010922</td>\n",
       "      <td>...</td>\n",
       "      <td>0.000038</td>\n",
       "      <td>-0.003976</td>\n",
       "      <td>0.243511</td>\n",
       "      <td>-0.374792</td>\n",
       "      <td>0.086851</td>\n",
       "      <td>0.037983</td>\n",
       "      <td>0.085031</td>\n",
       "      <td>0.134717</td>\n",
       "      <td>0.050616</td>\n",
       "      <td>0.073580</td>\n",
       "    </tr>\n",
       "    <tr>\n",
       "      <th>lon</th>\n",
       "      <td>0.079970</td>\n",
       "      <td>0.084770</td>\n",
       "      <td>1.000000</td>\n",
       "      <td>0.092105</td>\n",
       "      <td>0.087758</td>\n",
       "      <td>-0.058935</td>\n",
       "      <td>-0.064600</td>\n",
       "      <td>-0.051731</td>\n",
       "      <td>-0.016329</td>\n",
       "      <td>0.005476</td>\n",
       "      <td>...</td>\n",
       "      <td>0.015749</td>\n",
       "      <td>-0.001637</td>\n",
       "      <td>-0.555272</td>\n",
       "      <td>-0.238076</td>\n",
       "      <td>-0.070667</td>\n",
       "      <td>-0.057329</td>\n",
       "      <td>0.030748</td>\n",
       "      <td>-0.031336</td>\n",
       "      <td>-0.066118</td>\n",
       "      <td>0.026488</td>\n",
       "    </tr>\n",
       "    <tr>\n",
       "      <th>temp</th>\n",
       "      <td>0.149274</td>\n",
       "      <td>-0.129969</td>\n",
       "      <td>0.092105</td>\n",
       "      <td>1.000000</td>\n",
       "      <td>0.826573</td>\n",
       "      <td>-0.469901</td>\n",
       "      <td>-0.496517</td>\n",
       "      <td>-0.006226</td>\n",
       "      <td>0.134754</td>\n",
       "      <td>-0.073508</td>\n",
       "      <td>...</td>\n",
       "      <td>-0.060731</td>\n",
       "      <td>0.293330</td>\n",
       "      <td>-0.107197</td>\n",
       "      <td>0.035746</td>\n",
       "      <td>-0.650660</td>\n",
       "      <td>-0.513896</td>\n",
       "      <td>0.003881</td>\n",
       "      <td>-0.935682</td>\n",
       "      <td>-0.763011</td>\n",
       "      <td>0.148437</td>\n",
       "    </tr>\n",
       "    <tr>\n",
       "      <th>dewpt</th>\n",
       "      <td>0.231229</td>\n",
       "      <td>-0.052734</td>\n",
       "      <td>0.087758</td>\n",
       "      <td>0.826573</td>\n",
       "      <td>1.000000</td>\n",
       "      <td>-0.565636</td>\n",
       "      <td>0.064067</td>\n",
       "      <td>-0.358827</td>\n",
       "      <td>0.140567</td>\n",
       "      <td>-0.211660</td>\n",
       "      <td>...</td>\n",
       "      <td>0.028521</td>\n",
       "      <td>0.079774</td>\n",
       "      <td>-0.028707</td>\n",
       "      <td>-0.004458</td>\n",
       "      <td>-0.551785</td>\n",
       "      <td>-0.616049</td>\n",
       "      <td>0.271872</td>\n",
       "      <td>-0.716330</td>\n",
       "      <td>-0.945102</td>\n",
       "      <td>0.358515</td>\n",
       "    </tr>\n",
       "    <tr>\n",
       "      <th>slp</th>\n",
       "      <td>-0.055085</td>\n",
       "      <td>-0.024359</td>\n",
       "      <td>-0.058935</td>\n",
       "      <td>-0.469901</td>\n",
       "      <td>-0.565636</td>\n",
       "      <td>1.000000</td>\n",
       "      <td>-0.048299</td>\n",
       "      <td>0.289312</td>\n",
       "      <td>-0.193214</td>\n",
       "      <td>-0.039877</td>\n",
       "      <td>...</td>\n",
       "      <td>-0.001281</td>\n",
       "      <td>0.002398</td>\n",
       "      <td>0.025695</td>\n",
       "      <td>0.020016</td>\n",
       "      <td>0.311308</td>\n",
       "      <td>0.342699</td>\n",
       "      <td>-0.224399</td>\n",
       "      <td>0.397735</td>\n",
       "      <td>0.518818</td>\n",
       "      <td>-0.295687</td>\n",
       "    </tr>\n",
       "    <tr>\n",
       "      <th>rh</th>\n",
       "      <td>0.094153</td>\n",
       "      <td>0.148111</td>\n",
       "      <td>-0.064600</td>\n",
       "      <td>-0.496517</td>\n",
       "      <td>0.064067</td>\n",
       "      <td>-0.048299</td>\n",
       "      <td>1.000000</td>\n",
       "      <td>-0.574547</td>\n",
       "      <td>-0.026341</td>\n",
       "      <td>-0.206005</td>\n",
       "      <td>...</td>\n",
       "      <td>0.152008</td>\n",
       "      <td>-0.404320</td>\n",
       "      <td>0.177957</td>\n",
       "      <td>-0.067167</td>\n",
       "      <td>0.305541</td>\n",
       "      <td>-0.031710</td>\n",
       "      <td>0.438756</td>\n",
       "      <td>0.527448</td>\n",
       "      <td>-0.089645</td>\n",
       "      <td>0.558321</td>\n",
       "    </tr>\n",
       "    <tr>\n",
       "      <th>vis</th>\n",
       "      <td>-0.168600</td>\n",
       "      <td>-0.109203</td>\n",
       "      <td>-0.051731</td>\n",
       "      <td>-0.006226</td>\n",
       "      <td>-0.358827</td>\n",
       "      <td>0.289312</td>\n",
       "      <td>-0.574547</td>\n",
       "      <td>1.000000</td>\n",
       "      <td>0.037780</td>\n",
       "      <td>0.297195</td>\n",
       "      <td>...</td>\n",
       "      <td>-0.019747</td>\n",
       "      <td>0.278399</td>\n",
       "      <td>-0.015996</td>\n",
       "      <td>0.045854</td>\n",
       "      <td>0.019003</td>\n",
       "      <td>0.214554</td>\n",
       "      <td>-0.821493</td>\n",
       "      <td>-0.046039</td>\n",
       "      <td>0.344066</td>\n",
       "      <td>-0.938153</td>\n",
       "    </tr>\n",
       "    <tr>\n",
       "      <th>wspeed</th>\n",
       "      <td>-0.001308</td>\n",
       "      <td>-0.010406</td>\n",
       "      <td>-0.016329</td>\n",
       "      <td>0.134754</td>\n",
       "      <td>0.140567</td>\n",
       "      <td>-0.193214</td>\n",
       "      <td>-0.026341</td>\n",
       "      <td>0.037780</td>\n",
       "      <td>1.000000</td>\n",
       "      <td>0.196944</td>\n",
       "      <td>...</td>\n",
       "      <td>0.068626</td>\n",
       "      <td>0.230660</td>\n",
       "      <td>-0.009529</td>\n",
       "      <td>0.006100</td>\n",
       "      <td>-0.082345</td>\n",
       "      <td>-0.072762</td>\n",
       "      <td>-0.010879</td>\n",
       "      <td>-0.140331</td>\n",
       "      <td>-0.168589</td>\n",
       "      <td>-0.023252</td>\n",
       "    </tr>\n",
       "    <tr>\n",
       "      <th>wdir</th>\n",
       "      <td>-0.200546</td>\n",
       "      <td>-0.010922</td>\n",
       "      <td>0.005476</td>\n",
       "      <td>-0.073508</td>\n",
       "      <td>-0.211660</td>\n",
       "      <td>-0.039877</td>\n",
       "      <td>-0.206005</td>\n",
       "      <td>0.297195</td>\n",
       "      <td>0.196944</td>\n",
       "      <td>1.000000</td>\n",
       "      <td>...</td>\n",
       "      <td>-0.040699</td>\n",
       "      <td>0.032128</td>\n",
       "      <td>-0.011467</td>\n",
       "      <td>-0.008383</td>\n",
       "      <td>0.053099</td>\n",
       "      <td>0.128239</td>\n",
       "      <td>-0.238446</td>\n",
       "      <td>0.050198</td>\n",
       "      <td>0.184944</td>\n",
       "      <td>-0.353589</td>\n",
       "    </tr>\n",
       "    <tr>\n",
       "      <th>wgust</th>\n",
       "      <td>0.154801</td>\n",
       "      <td>0.040348</td>\n",
       "      <td>-0.029221</td>\n",
       "      <td>-0.048368</td>\n",
       "      <td>0.080021</td>\n",
       "      <td>-0.228275</td>\n",
       "      <td>0.227473</td>\n",
       "      <td>-0.145023</td>\n",
       "      <td>0.959029</td>\n",
       "      <td>0.136477</td>\n",
       "      <td>...</td>\n",
       "      <td>0.012996</td>\n",
       "      <td>0.081784</td>\n",
       "      <td>0.053534</td>\n",
       "      <td>-0.009358</td>\n",
       "      <td>0.035492</td>\n",
       "      <td>-0.033091</td>\n",
       "      <td>0.116805</td>\n",
       "      <td>0.012994</td>\n",
       "      <td>-0.117613</td>\n",
       "      <td>0.061130</td>\n",
       "    </tr>\n",
       "    <tr>\n",
       "      <th>pop</th>\n",
       "      <td>0.099052</td>\n",
       "      <td>0.039063</td>\n",
       "      <td>-0.005626</td>\n",
       "      <td>0.063496</td>\n",
       "      <td>0.200911</td>\n",
       "      <td>-0.155310</td>\n",
       "      <td>0.205302</td>\n",
       "      <td>-0.577308</td>\n",
       "      <td>0.168973</td>\n",
       "      <td>-0.174307</td>\n",
       "      <td>...</td>\n",
       "      <td>-0.046486</td>\n",
       "      <td>-0.057731</td>\n",
       "      <td>0.013345</td>\n",
       "      <td>-0.007836</td>\n",
       "      <td>-0.042762</td>\n",
       "      <td>-0.118723</td>\n",
       "      <td>0.528088</td>\n",
       "      <td>-0.057333</td>\n",
       "      <td>-0.218441</td>\n",
       "      <td>0.434930</td>\n",
       "    </tr>\n",
       "    <tr>\n",
       "      <th>precip_rate</th>\n",
       "      <td>0.071028</td>\n",
       "      <td>0.025311</td>\n",
       "      <td>0.029430</td>\n",
       "      <td>0.041513</td>\n",
       "      <td>0.102946</td>\n",
       "      <td>-0.068589</td>\n",
       "      <td>0.088121</td>\n",
       "      <td>-0.305929</td>\n",
       "      <td>0.068271</td>\n",
       "      <td>-0.092979</td>\n",
       "      <td>...</td>\n",
       "      <td>-0.029676</td>\n",
       "      <td>-0.052658</td>\n",
       "      <td>-0.011529</td>\n",
       "      <td>-0.014866</td>\n",
       "      <td>-0.026595</td>\n",
       "      <td>-0.061886</td>\n",
       "      <td>0.289352</td>\n",
       "      <td>-0.033552</td>\n",
       "      <td>-0.108730</td>\n",
       "      <td>0.217194</td>\n",
       "    </tr>\n",
       "    <tr>\n",
       "      <th>FE_AZIMUTH</th>\n",
       "      <td>-0.006725</td>\n",
       "      <td>0.001298</td>\n",
       "      <td>0.003633</td>\n",
       "      <td>0.132461</td>\n",
       "      <td>0.011483</td>\n",
       "      <td>0.031704</td>\n",
       "      <td>-0.229223</td>\n",
       "      <td>0.117653</td>\n",
       "      <td>0.006624</td>\n",
       "      <td>0.036087</td>\n",
       "      <td>...</td>\n",
       "      <td>-0.474409</td>\n",
       "      <td>0.009645</td>\n",
       "      <td>-0.005517</td>\n",
       "      <td>0.000553</td>\n",
       "      <td>-0.086293</td>\n",
       "      <td>-0.000849</td>\n",
       "      <td>-0.089399</td>\n",
       "      <td>-0.128227</td>\n",
       "      <td>-0.010385</td>\n",
       "      <td>-0.133013</td>\n",
       "    </tr>\n",
       "    <tr>\n",
       "      <th>FE_ZENITH</th>\n",
       "      <td>-0.020112</td>\n",
       "      <td>0.003976</td>\n",
       "      <td>0.001637</td>\n",
       "      <td>-0.293330</td>\n",
       "      <td>-0.079774</td>\n",
       "      <td>-0.002398</td>\n",
       "      <td>0.404320</td>\n",
       "      <td>-0.278399</td>\n",
       "      <td>-0.230660</td>\n",
       "      <td>-0.032128</td>\n",
       "      <td>...</td>\n",
       "      <td>-0.271417</td>\n",
       "      <td>-1.000000</td>\n",
       "      <td>0.000289</td>\n",
       "      <td>-0.001370</td>\n",
       "      <td>0.182592</td>\n",
       "      <td>0.053694</td>\n",
       "      <td>0.202999</td>\n",
       "      <td>0.282180</td>\n",
       "      <td>0.047069</td>\n",
       "      <td>0.105238</td>\n",
       "    </tr>\n",
       "    <tr>\n",
       "      <th>FE_ASCENSION</th>\n",
       "      <td>-0.729150</td>\n",
       "      <td>-0.005624</td>\n",
       "      <td>-0.007644</td>\n",
       "      <td>-0.236290</td>\n",
       "      <td>-0.299872</td>\n",
       "      <td>0.102519</td>\n",
       "      <td>-0.048311</td>\n",
       "      <td>0.069621</td>\n",
       "      <td>0.037170</td>\n",
       "      <td>0.023393</td>\n",
       "      <td>...</td>\n",
       "      <td>-0.083808</td>\n",
       "      <td>-0.007619</td>\n",
       "      <td>0.002447</td>\n",
       "      <td>0.001894</td>\n",
       "      <td>0.159772</td>\n",
       "      <td>0.188140</td>\n",
       "      <td>-0.048589</td>\n",
       "      <td>0.231203</td>\n",
       "      <td>0.289403</td>\n",
       "      <td>0.036414</td>\n",
       "    </tr>\n",
       "    <tr>\n",
       "      <th>FE_DECLINATION</th>\n",
       "      <td>0.710542</td>\n",
       "      <td>0.009236</td>\n",
       "      <td>0.013299</td>\n",
       "      <td>0.248089</td>\n",
       "      <td>0.309572</td>\n",
       "      <td>-0.102686</td>\n",
       "      <td>0.041544</td>\n",
       "      <td>-0.065671</td>\n",
       "      <td>-0.044976</td>\n",
       "      <td>-0.018165</td>\n",
       "      <td>...</td>\n",
       "      <td>0.082425</td>\n",
       "      <td>0.006677</td>\n",
       "      <td>-0.004379</td>\n",
       "      <td>-0.002997</td>\n",
       "      <td>-0.164787</td>\n",
       "      <td>-0.190991</td>\n",
       "      <td>0.045135</td>\n",
       "      <td>-0.248169</td>\n",
       "      <td>-0.306412</td>\n",
       "      <td>-0.035543</td>\n",
       "    </tr>\n",
       "    <tr>\n",
       "      <th>FE_HEIGHT</th>\n",
       "      <td>0.055048</td>\n",
       "      <td>0.000038</td>\n",
       "      <td>0.015749</td>\n",
       "      <td>-0.060731</td>\n",
       "      <td>0.028521</td>\n",
       "      <td>-0.001281</td>\n",
       "      <td>0.152008</td>\n",
       "      <td>-0.019747</td>\n",
       "      <td>0.068626</td>\n",
       "      <td>-0.040699</td>\n",
       "      <td>...</td>\n",
       "      <td>1.000000</td>\n",
       "      <td>0.271417</td>\n",
       "      <td>-0.009213</td>\n",
       "      <td>-0.003730</td>\n",
       "      <td>0.038980</td>\n",
       "      <td>-0.021145</td>\n",
       "      <td>0.017475</td>\n",
       "      <td>0.069291</td>\n",
       "      <td>-0.022415</td>\n",
       "      <td>0.121322</td>\n",
       "    </tr>\n",
       "    <tr>\n",
       "      <th>FE_SUN_ALTITUDE</th>\n",
       "      <td>0.020112</td>\n",
       "      <td>-0.003976</td>\n",
       "      <td>-0.001637</td>\n",
       "      <td>0.293330</td>\n",
       "      <td>0.079774</td>\n",
       "      <td>0.002398</td>\n",
       "      <td>-0.404320</td>\n",
       "      <td>0.278399</td>\n",
       "      <td>0.230660</td>\n",
       "      <td>0.032128</td>\n",
       "      <td>...</td>\n",
       "      <td>0.271417</td>\n",
       "      <td>1.000000</td>\n",
       "      <td>-0.000289</td>\n",
       "      <td>0.001370</td>\n",
       "      <td>-0.182592</td>\n",
       "      <td>-0.053694</td>\n",
       "      <td>-0.202999</td>\n",
       "      <td>-0.282180</td>\n",
       "      <td>-0.047069</td>\n",
       "      <td>-0.105238</td>\n",
       "    </tr>\n",
       "    <tr>\n",
       "      <th>SURF_UNIQUE_ID</th>\n",
       "      <td>0.008539</td>\n",
       "      <td>0.243511</td>\n",
       "      <td>-0.555272</td>\n",
       "      <td>-0.107197</td>\n",
       "      <td>-0.028707</td>\n",
       "      <td>0.025695</td>\n",
       "      <td>0.177957</td>\n",
       "      <td>-0.015996</td>\n",
       "      <td>-0.009529</td>\n",
       "      <td>-0.011467</td>\n",
       "      <td>...</td>\n",
       "      <td>-0.009213</td>\n",
       "      <td>-0.000289</td>\n",
       "      <td>1.000000</td>\n",
       "      <td>-0.294850</td>\n",
       "      <td>0.074991</td>\n",
       "      <td>0.023462</td>\n",
       "      <td>0.016416</td>\n",
       "      <td>0.071705</td>\n",
       "      <td>0.018221</td>\n",
       "      <td>0.009806</td>\n",
       "    </tr>\n",
       "    <tr>\n",
       "      <th>site_id</th>\n",
       "      <td>-0.083451</td>\n",
       "      <td>-0.374792</td>\n",
       "      <td>-0.238076</td>\n",
       "      <td>0.035746</td>\n",
       "      <td>-0.004458</td>\n",
       "      <td>0.020016</td>\n",
       "      <td>-0.067167</td>\n",
       "      <td>0.045854</td>\n",
       "      <td>0.006100</td>\n",
       "      <td>-0.008383</td>\n",
       "      <td>...</td>\n",
       "      <td>-0.003730</td>\n",
       "      <td>0.001370</td>\n",
       "      <td>-0.294850</td>\n",
       "      <td>1.000000</td>\n",
       "      <td>-0.017453</td>\n",
       "      <td>0.001263</td>\n",
       "      <td>-0.036348</td>\n",
       "      <td>-0.050739</td>\n",
       "      <td>0.000733</td>\n",
       "      <td>-0.029409</td>\n",
       "    </tr>\n",
       "    <tr>\n",
       "      <th>anonym_0</th>\n",
       "      <td>-0.109661</td>\n",
       "      <td>0.086851</td>\n",
       "      <td>-0.070667</td>\n",
       "      <td>-0.650660</td>\n",
       "      <td>-0.551785</td>\n",
       "      <td>0.311308</td>\n",
       "      <td>0.305541</td>\n",
       "      <td>0.019003</td>\n",
       "      <td>-0.082345</td>\n",
       "      <td>0.053099</td>\n",
       "      <td>...</td>\n",
       "      <td>0.038980</td>\n",
       "      <td>-0.182592</td>\n",
       "      <td>0.074991</td>\n",
       "      <td>-0.017453</td>\n",
       "      <td>1.000000</td>\n",
       "      <td>0.344936</td>\n",
       "      <td>-0.011196</td>\n",
       "      <td>0.584233</td>\n",
       "      <td>0.496818</td>\n",
       "      <td>-0.088434</td>\n",
       "    </tr>\n",
       "    <tr>\n",
       "      <th>anonym_1</th>\n",
       "      <td>-0.139215</td>\n",
       "      <td>0.037983</td>\n",
       "      <td>-0.057329</td>\n",
       "      <td>-0.513896</td>\n",
       "      <td>-0.616049</td>\n",
       "      <td>0.342699</td>\n",
       "      <td>-0.031710</td>\n",
       "      <td>0.214554</td>\n",
       "      <td>-0.072762</td>\n",
       "      <td>0.128239</td>\n",
       "      <td>...</td>\n",
       "      <td>-0.021145</td>\n",
       "      <td>-0.053694</td>\n",
       "      <td>0.023462</td>\n",
       "      <td>0.001263</td>\n",
       "      <td>0.344936</td>\n",
       "      <td>1.000000</td>\n",
       "      <td>-0.161777</td>\n",
       "      <td>0.433317</td>\n",
       "      <td>0.563682</td>\n",
       "      <td>-0.198229</td>\n",
       "    </tr>\n",
       "    <tr>\n",
       "      <th>anonym_2</th>\n",
       "      <td>0.132309</td>\n",
       "      <td>0.085031</td>\n",
       "      <td>0.030748</td>\n",
       "      <td>0.003881</td>\n",
       "      <td>0.271872</td>\n",
       "      <td>-0.224399</td>\n",
       "      <td>0.438756</td>\n",
       "      <td>-0.821493</td>\n",
       "      <td>-0.010879</td>\n",
       "      <td>-0.238446</td>\n",
       "      <td>...</td>\n",
       "      <td>0.017475</td>\n",
       "      <td>-0.202999</td>\n",
       "      <td>0.016416</td>\n",
       "      <td>-0.036348</td>\n",
       "      <td>-0.011196</td>\n",
       "      <td>-0.161777</td>\n",
       "      <td>1.000000</td>\n",
       "      <td>0.035391</td>\n",
       "      <td>-0.259022</td>\n",
       "      <td>0.754407</td>\n",
       "    </tr>\n",
       "    <tr>\n",
       "      <th>anonym_3</th>\n",
       "      <td>-0.124313</td>\n",
       "      <td>0.134717</td>\n",
       "      <td>-0.031336</td>\n",
       "      <td>-0.935682</td>\n",
       "      <td>-0.716330</td>\n",
       "      <td>0.397735</td>\n",
       "      <td>0.527448</td>\n",
       "      <td>-0.046039</td>\n",
       "      <td>-0.140331</td>\n",
       "      <td>0.050198</td>\n",
       "      <td>...</td>\n",
       "      <td>0.069291</td>\n",
       "      <td>-0.282180</td>\n",
       "      <td>0.071705</td>\n",
       "      <td>-0.050739</td>\n",
       "      <td>0.584233</td>\n",
       "      <td>0.433317</td>\n",
       "      <td>0.035391</td>\n",
       "      <td>1.000000</td>\n",
       "      <td>0.706934</td>\n",
       "      <td>-0.130376</td>\n",
       "    </tr>\n",
       "    <tr>\n",
       "      <th>anonym_4</th>\n",
       "      <td>-0.213653</td>\n",
       "      <td>0.050616</td>\n",
       "      <td>-0.066118</td>\n",
       "      <td>-0.763011</td>\n",
       "      <td>-0.945102</td>\n",
       "      <td>0.518818</td>\n",
       "      <td>-0.089645</td>\n",
       "      <td>0.344066</td>\n",
       "      <td>-0.168589</td>\n",
       "      <td>0.184944</td>\n",
       "      <td>...</td>\n",
       "      <td>-0.022415</td>\n",
       "      <td>-0.047069</td>\n",
       "      <td>0.018221</td>\n",
       "      <td>0.000733</td>\n",
       "      <td>0.496818</td>\n",
       "      <td>0.563682</td>\n",
       "      <td>-0.259022</td>\n",
       "      <td>0.706934</td>\n",
       "      <td>1.000000</td>\n",
       "      <td>-0.320970</td>\n",
       "    </tr>\n",
       "    <tr>\n",
       "      <th>anonym_5</th>\n",
       "      <td>0.120023</td>\n",
       "      <td>0.073580</td>\n",
       "      <td>0.026488</td>\n",
       "      <td>0.148437</td>\n",
       "      <td>0.358515</td>\n",
       "      <td>-0.295687</td>\n",
       "      <td>0.558321</td>\n",
       "      <td>-0.938153</td>\n",
       "      <td>-0.023252</td>\n",
       "      <td>-0.353589</td>\n",
       "      <td>...</td>\n",
       "      <td>0.121322</td>\n",
       "      <td>-0.105238</td>\n",
       "      <td>0.009806</td>\n",
       "      <td>-0.029409</td>\n",
       "      <td>-0.088434</td>\n",
       "      <td>-0.198229</td>\n",
       "      <td>0.754407</td>\n",
       "      <td>-0.130376</td>\n",
       "      <td>-0.320970</td>\n",
       "      <td>1.000000</td>\n",
       "    </tr>\n",
       "  </tbody>\n",
       "</table>\n",
       "<p>27 rows × 27 columns</p>\n",
       "</div>"
      ],
      "text/plain": [
       "                   row_id       lat       lon      temp     dewpt       slp  \\\n",
       "row_id           1.000000 -0.012863  0.079970  0.149274  0.231229 -0.055085   \n",
       "lat             -0.012863  1.000000  0.084770 -0.129969 -0.052734 -0.024359   \n",
       "lon              0.079970  0.084770  1.000000  0.092105  0.087758 -0.058935   \n",
       "temp             0.149274 -0.129969  0.092105  1.000000  0.826573 -0.469901   \n",
       "dewpt            0.231229 -0.052734  0.087758  0.826573  1.000000 -0.565636   \n",
       "slp             -0.055085 -0.024359 -0.058935 -0.469901 -0.565636  1.000000   \n",
       "rh               0.094153  0.148111 -0.064600 -0.496517  0.064067 -0.048299   \n",
       "vis             -0.168600 -0.109203 -0.051731 -0.006226 -0.358827  0.289312   \n",
       "wspeed          -0.001308 -0.010406 -0.016329  0.134754  0.140567 -0.193214   \n",
       "wdir            -0.200546 -0.010922  0.005476 -0.073508 -0.211660 -0.039877   \n",
       "wgust            0.154801  0.040348 -0.029221 -0.048368  0.080021 -0.228275   \n",
       "pop              0.099052  0.039063 -0.005626  0.063496  0.200911 -0.155310   \n",
       "precip_rate      0.071028  0.025311  0.029430  0.041513  0.102946 -0.068589   \n",
       "FE_AZIMUTH      -0.006725  0.001298  0.003633  0.132461  0.011483  0.031704   \n",
       "FE_ZENITH       -0.020112  0.003976  0.001637 -0.293330 -0.079774 -0.002398   \n",
       "FE_ASCENSION    -0.729150 -0.005624 -0.007644 -0.236290 -0.299872  0.102519   \n",
       "FE_DECLINATION   0.710542  0.009236  0.013299  0.248089  0.309572 -0.102686   \n",
       "FE_HEIGHT        0.055048  0.000038  0.015749 -0.060731  0.028521 -0.001281   \n",
       "FE_SUN_ALTITUDE  0.020112 -0.003976 -0.001637  0.293330  0.079774  0.002398   \n",
       "SURF_UNIQUE_ID   0.008539  0.243511 -0.555272 -0.107197 -0.028707  0.025695   \n",
       "site_id         -0.083451 -0.374792 -0.238076  0.035746 -0.004458  0.020016   \n",
       "anonym_0        -0.109661  0.086851 -0.070667 -0.650660 -0.551785  0.311308   \n",
       "anonym_1        -0.139215  0.037983 -0.057329 -0.513896 -0.616049  0.342699   \n",
       "anonym_2         0.132309  0.085031  0.030748  0.003881  0.271872 -0.224399   \n",
       "anonym_3        -0.124313  0.134717 -0.031336 -0.935682 -0.716330  0.397735   \n",
       "anonym_4        -0.213653  0.050616 -0.066118 -0.763011 -0.945102  0.518818   \n",
       "anonym_5         0.120023  0.073580  0.026488  0.148437  0.358515 -0.295687   \n",
       "\n",
       "                       rh       vis    wspeed      wdir  ...  FE_HEIGHT  \\\n",
       "row_id           0.094153 -0.168600 -0.001308 -0.200546  ...   0.055048   \n",
       "lat              0.148111 -0.109203 -0.010406 -0.010922  ...   0.000038   \n",
       "lon             -0.064600 -0.051731 -0.016329  0.005476  ...   0.015749   \n",
       "temp            -0.496517 -0.006226  0.134754 -0.073508  ...  -0.060731   \n",
       "dewpt            0.064067 -0.358827  0.140567 -0.211660  ...   0.028521   \n",
       "slp             -0.048299  0.289312 -0.193214 -0.039877  ...  -0.001281   \n",
       "rh               1.000000 -0.574547 -0.026341 -0.206005  ...   0.152008   \n",
       "vis             -0.574547  1.000000  0.037780  0.297195  ...  -0.019747   \n",
       "wspeed          -0.026341  0.037780  1.000000  0.196944  ...   0.068626   \n",
       "wdir            -0.206005  0.297195  0.196944  1.000000  ...  -0.040699   \n",
       "wgust            0.227473 -0.145023  0.959029  0.136477  ...   0.012996   \n",
       "pop              0.205302 -0.577308  0.168973 -0.174307  ...  -0.046486   \n",
       "precip_rate      0.088121 -0.305929  0.068271 -0.092979  ...  -0.029676   \n",
       "FE_AZIMUTH      -0.229223  0.117653  0.006624  0.036087  ...  -0.474409   \n",
       "FE_ZENITH        0.404320 -0.278399 -0.230660 -0.032128  ...  -0.271417   \n",
       "FE_ASCENSION    -0.048311  0.069621  0.037170  0.023393  ...  -0.083808   \n",
       "FE_DECLINATION   0.041544 -0.065671 -0.044976 -0.018165  ...   0.082425   \n",
       "FE_HEIGHT        0.152008 -0.019747  0.068626 -0.040699  ...   1.000000   \n",
       "FE_SUN_ALTITUDE -0.404320  0.278399  0.230660  0.032128  ...   0.271417   \n",
       "SURF_UNIQUE_ID   0.177957 -0.015996 -0.009529 -0.011467  ...  -0.009213   \n",
       "site_id         -0.067167  0.045854  0.006100 -0.008383  ...  -0.003730   \n",
       "anonym_0         0.305541  0.019003 -0.082345  0.053099  ...   0.038980   \n",
       "anonym_1        -0.031710  0.214554 -0.072762  0.128239  ...  -0.021145   \n",
       "anonym_2         0.438756 -0.821493 -0.010879 -0.238446  ...   0.017475   \n",
       "anonym_3         0.527448 -0.046039 -0.140331  0.050198  ...   0.069291   \n",
       "anonym_4        -0.089645  0.344066 -0.168589  0.184944  ...  -0.022415   \n",
       "anonym_5         0.558321 -0.938153 -0.023252 -0.353589  ...   0.121322   \n",
       "\n",
       "                 FE_SUN_ALTITUDE  SURF_UNIQUE_ID   site_id  anonym_0  \\\n",
       "row_id                  0.020112        0.008539 -0.083451 -0.109661   \n",
       "lat                    -0.003976        0.243511 -0.374792  0.086851   \n",
       "lon                    -0.001637       -0.555272 -0.238076 -0.070667   \n",
       "temp                    0.293330       -0.107197  0.035746 -0.650660   \n",
       "dewpt                   0.079774       -0.028707 -0.004458 -0.551785   \n",
       "slp                     0.002398        0.025695  0.020016  0.311308   \n",
       "rh                     -0.404320        0.177957 -0.067167  0.305541   \n",
       "vis                     0.278399       -0.015996  0.045854  0.019003   \n",
       "wspeed                  0.230660       -0.009529  0.006100 -0.082345   \n",
       "wdir                    0.032128       -0.011467 -0.008383  0.053099   \n",
       "wgust                   0.081784        0.053534 -0.009358  0.035492   \n",
       "pop                    -0.057731        0.013345 -0.007836 -0.042762   \n",
       "precip_rate            -0.052658       -0.011529 -0.014866 -0.026595   \n",
       "FE_AZIMUTH              0.009645       -0.005517  0.000553 -0.086293   \n",
       "FE_ZENITH              -1.000000        0.000289 -0.001370  0.182592   \n",
       "FE_ASCENSION           -0.007619        0.002447  0.001894  0.159772   \n",
       "FE_DECLINATION          0.006677       -0.004379 -0.002997 -0.164787   \n",
       "FE_HEIGHT               0.271417       -0.009213 -0.003730  0.038980   \n",
       "FE_SUN_ALTITUDE         1.000000       -0.000289  0.001370 -0.182592   \n",
       "SURF_UNIQUE_ID         -0.000289        1.000000 -0.294850  0.074991   \n",
       "site_id                 0.001370       -0.294850  1.000000 -0.017453   \n",
       "anonym_0               -0.182592        0.074991 -0.017453  1.000000   \n",
       "anonym_1               -0.053694        0.023462  0.001263  0.344936   \n",
       "anonym_2               -0.202999        0.016416 -0.036348 -0.011196   \n",
       "anonym_3               -0.282180        0.071705 -0.050739  0.584233   \n",
       "anonym_4               -0.047069        0.018221  0.000733  0.496818   \n",
       "anonym_5               -0.105238        0.009806 -0.029409 -0.088434   \n",
       "\n",
       "                 anonym_1  anonym_2  anonym_3  anonym_4  anonym_5  \n",
       "row_id          -0.139215  0.132309 -0.124313 -0.213653  0.120023  \n",
       "lat              0.037983  0.085031  0.134717  0.050616  0.073580  \n",
       "lon             -0.057329  0.030748 -0.031336 -0.066118  0.026488  \n",
       "temp            -0.513896  0.003881 -0.935682 -0.763011  0.148437  \n",
       "dewpt           -0.616049  0.271872 -0.716330 -0.945102  0.358515  \n",
       "slp              0.342699 -0.224399  0.397735  0.518818 -0.295687  \n",
       "rh              -0.031710  0.438756  0.527448 -0.089645  0.558321  \n",
       "vis              0.214554 -0.821493 -0.046039  0.344066 -0.938153  \n",
       "wspeed          -0.072762 -0.010879 -0.140331 -0.168589 -0.023252  \n",
       "wdir             0.128239 -0.238446  0.050198  0.184944 -0.353589  \n",
       "wgust           -0.033091  0.116805  0.012994 -0.117613  0.061130  \n",
       "pop             -0.118723  0.528088 -0.057333 -0.218441  0.434930  \n",
       "precip_rate     -0.061886  0.289352 -0.033552 -0.108730  0.217194  \n",
       "FE_AZIMUTH      -0.000849 -0.089399 -0.128227 -0.010385 -0.133013  \n",
       "FE_ZENITH        0.053694  0.202999  0.282180  0.047069  0.105238  \n",
       "FE_ASCENSION     0.188140 -0.048589  0.231203  0.289403  0.036414  \n",
       "FE_DECLINATION  -0.190991  0.045135 -0.248169 -0.306412 -0.035543  \n",
       "FE_HEIGHT       -0.021145  0.017475  0.069291 -0.022415  0.121322  \n",
       "FE_SUN_ALTITUDE -0.053694 -0.202999 -0.282180 -0.047069 -0.105238  \n",
       "SURF_UNIQUE_ID   0.023462  0.016416  0.071705  0.018221  0.009806  \n",
       "site_id          0.001263 -0.036348 -0.050739  0.000733 -0.029409  \n",
       "anonym_0         0.344936 -0.011196  0.584233  0.496818 -0.088434  \n",
       "anonym_1         1.000000 -0.161777  0.433317  0.563682 -0.198229  \n",
       "anonym_2        -0.161777  1.000000  0.035391 -0.259022  0.754407  \n",
       "anonym_3         0.433317  0.035391  1.000000  0.706934 -0.130376  \n",
       "anonym_4         0.563682 -0.259022  0.706934  1.000000 -0.320970  \n",
       "anonym_5        -0.198229  0.754407 -0.130376 -0.320970  1.000000  \n",
       "\n",
       "[27 rows x 27 columns]"
      ]
     },
     "execution_count": 11,
     "metadata": {},
     "output_type": "execute_result"
    }
   ],
   "source": [
    "corr"
   ]
  },
  {
   "cell_type": "code",
   "execution_count": 12,
   "metadata": {},
   "outputs": [
    {
     "data": {
      "text/plain": [
       "count    24738.000000\n",
       "mean        41.038605\n",
       "std         10.363347\n",
       "min         26.000000\n",
       "25%         33.000000\n",
       "50%         39.000000\n",
       "75%         48.000000\n",
       "max         80.000000\n",
       "Name: wgust, dtype: float64"
      ]
     },
     "execution_count": 12,
     "metadata": {},
     "output_type": "execute_result"
    }
   ],
   "source": [
    "test['wgust'].describe()"
   ]
  },
  {
   "cell_type": "code",
   "execution_count": 13,
   "metadata": {},
   "outputs": [],
   "source": [
    "test['wgust'] = test['wgust'].fillna(test['wgust'].mean())"
   ]
  },
  {
   "cell_type": "code",
   "execution_count": 14,
   "metadata": {
    "scrolled": true
   },
   "outputs": [
    {
     "data": {
      "text/plain": [
       "row_id                    int64\n",
       "ts_start                 object\n",
       "lat                     float64\n",
       "lon                     float64\n",
       "ts_valid                 object\n",
       "temp                    float64\n",
       "dewpt                   float64\n",
       "slp                     float64\n",
       "rh                      float64\n",
       "vis                     float64\n",
       "wspeed                  float64\n",
       "wdir                    float64\n",
       "wgust                   float64\n",
       "pop                     float64\n",
       "precip_rate             float64\n",
       "FE_AZIMUTH              float64\n",
       "FE_ZENITH               float64\n",
       "FE_ASCENSION            float64\n",
       "FE_DECLINATION          float64\n",
       "FE_HEIGHT               float64\n",
       "FE_SUN_ALTITUDE         float64\n",
       "DT_DATA_LAST_UPDATED     object\n",
       "SURF_UNIQUE_ID          float64\n",
       "site_id                   int64\n",
       "anonym_0                float64\n",
       "anonym_1                float64\n",
       "anonym_2                float64\n",
       "anonym_3                float64\n",
       "anonym_4                float64\n",
       "anonym_5                float64\n",
       "dtype: object"
      ]
     },
     "execution_count": 14,
     "metadata": {},
     "output_type": "execute_result"
    }
   ],
   "source": [
    "test.dtypes"
   ]
  },
  {
   "cell_type": "code",
   "execution_count": 15,
   "metadata": {},
   "outputs": [],
   "source": [
    "test = test.set_index('ts_start')"
   ]
  },
  {
   "cell_type": "code",
   "execution_count": 16,
   "metadata": {},
   "outputs": [],
   "source": [
    "test = test.drop(['DT_DATA_LAST_UPDATED'],axis=1)"
   ]
  },
  {
   "cell_type": "code",
   "execution_count": 17,
   "metadata": {},
   "outputs": [],
   "source": [
    "test_copy = test"
   ]
  },
  {
   "cell_type": "code",
   "execution_count": 149,
   "metadata": {},
   "outputs": [],
   "source": [
    "test = test_copy"
   ]
  },
  {
   "cell_type": "code",
   "execution_count": 150,
   "metadata": {},
   "outputs": [],
   "source": [
    "test = test.drop(['ts_valid'],axis=1)"
   ]
  },
  {
   "cell_type": "code",
   "execution_count": 151,
   "metadata": {},
   "outputs": [],
   "source": [
    "test = test.drop(['row_id'],axis=1)"
   ]
  },
  {
   "cell_type": "code",
   "execution_count": 152,
   "metadata": {},
   "outputs": [],
   "source": [
    "test = test[uni_col]"
   ]
  },
  {
   "cell_type": "code",
   "execution_count": 153,
   "metadata": {
    "scrolled": true
   },
   "outputs": [
    {
     "data": {
      "text/html": [
       "<div>\n",
       "<style scoped>\n",
       "    .dataframe tbody tr th:only-of-type {\n",
       "        vertical-align: middle;\n",
       "    }\n",
       "\n",
       "    .dataframe tbody tr th {\n",
       "        vertical-align: top;\n",
       "    }\n",
       "\n",
       "    .dataframe thead th {\n",
       "        text-align: right;\n",
       "    }\n",
       "</style>\n",
       "<table border=\"1\" class=\"dataframe\">\n",
       "  <thead>\n",
       "    <tr style=\"text-align: right;\">\n",
       "      <th></th>\n",
       "      <th>anonym_1</th>\n",
       "      <th>anonym_0</th>\n",
       "      <th>anonym_5</th>\n",
       "      <th>FE_ZENITH</th>\n",
       "      <th>FE_HEIGHT</th>\n",
       "      <th>FE_ASCENSION</th>\n",
       "      <th>FE_SUN_ALTITUDE</th>\n",
       "      <th>FE_AZIMUTH</th>\n",
       "      <th>anonym_3</th>\n",
       "      <th>anonym_4</th>\n",
       "      <th>FE_DECLINATION</th>\n",
       "      <th>anonym_2</th>\n",
       "    </tr>\n",
       "    <tr>\n",
       "      <th>ts_start</th>\n",
       "      <th></th>\n",
       "      <th></th>\n",
       "      <th></th>\n",
       "      <th></th>\n",
       "      <th></th>\n",
       "      <th></th>\n",
       "      <th></th>\n",
       "      <th></th>\n",
       "      <th></th>\n",
       "      <th></th>\n",
       "      <th></th>\n",
       "      <th></th>\n",
       "    </tr>\n",
       "  </thead>\n",
       "  <tbody>\n",
       "    <tr>\n",
       "      <th>2019-11-19 04:45:00+00:00</th>\n",
       "      <td>0.457492</td>\n",
       "      <td>0.479819</td>\n",
       "      <td>-1.184501</td>\n",
       "      <td>153.667340</td>\n",
       "      <td>162.551725</td>\n",
       "      <td>233.947649</td>\n",
       "      <td>-63.667340</td>\n",
       "      <td>320.369888</td>\n",
       "      <td>-1.974396</td>\n",
       "      <td>-2.088368</td>\n",
       "      <td>-19.289585</td>\n",
       "      <td>0.715955</td>\n",
       "    </tr>\n",
       "    <tr>\n",
       "      <th>2019-11-19 04:45:00+00:00</th>\n",
       "      <td>0.829738</td>\n",
       "      <td>0.630652</td>\n",
       "      <td>-1.225418</td>\n",
       "      <td>153.624064</td>\n",
       "      <td>164.291190</td>\n",
       "      <td>233.948183</td>\n",
       "      <td>-63.624064</td>\n",
       "      <td>324.896594</td>\n",
       "      <td>-1.459596</td>\n",
       "      <td>-1.254026</td>\n",
       "      <td>-19.290761</td>\n",
       "      <td>0.682391</td>\n",
       "    </tr>\n",
       "    <tr>\n",
       "      <th>2019-11-19 04:45:00+00:00</th>\n",
       "      <td>0.694695</td>\n",
       "      <td>0.610518</td>\n",
       "      <td>-1.075082</td>\n",
       "      <td>153.624064</td>\n",
       "      <td>164.291190</td>\n",
       "      <td>233.948183</td>\n",
       "      <td>-63.624064</td>\n",
       "      <td>324.896594</td>\n",
       "      <td>-1.385336</td>\n",
       "      <td>-1.286704</td>\n",
       "      <td>-19.290761</td>\n",
       "      <td>0.692086</td>\n",
       "    </tr>\n",
       "    <tr>\n",
       "      <th>2019-11-19 04:45:00+00:00</th>\n",
       "      <td>0.471643</td>\n",
       "      <td>0.581700</td>\n",
       "      <td>-0.648543</td>\n",
       "      <td>152.993589</td>\n",
       "      <td>162.671293</td>\n",
       "      <td>233.948080</td>\n",
       "      <td>-62.993589</td>\n",
       "      <td>321.762222</td>\n",
       "      <td>-1.674626</td>\n",
       "      <td>-1.729747</td>\n",
       "      <td>-19.290701</td>\n",
       "      <td>0.817873</td>\n",
       "    </tr>\n",
       "    <tr>\n",
       "      <th>2019-11-19 04:45:00+00:00</th>\n",
       "      <td>0.540767</td>\n",
       "      <td>0.489562</td>\n",
       "      <td>-0.595717</td>\n",
       "      <td>152.993589</td>\n",
       "      <td>162.671293</td>\n",
       "      <td>233.948080</td>\n",
       "      <td>-62.993589</td>\n",
       "      <td>321.762222</td>\n",
       "      <td>-1.653722</td>\n",
       "      <td>-1.813574</td>\n",
       "      <td>-19.290701</td>\n",
       "      <td>1.007763</td>\n",
       "    </tr>\n",
       "  </tbody>\n",
       "</table>\n",
       "</div>"
      ],
      "text/plain": [
       "                           anonym_1  anonym_0  anonym_5   FE_ZENITH  \\\n",
       "ts_start                                                              \n",
       "2019-11-19 04:45:00+00:00  0.457492  0.479819 -1.184501  153.667340   \n",
       "2019-11-19 04:45:00+00:00  0.829738  0.630652 -1.225418  153.624064   \n",
       "2019-11-19 04:45:00+00:00  0.694695  0.610518 -1.075082  153.624064   \n",
       "2019-11-19 04:45:00+00:00  0.471643  0.581700 -0.648543  152.993589   \n",
       "2019-11-19 04:45:00+00:00  0.540767  0.489562 -0.595717  152.993589   \n",
       "\n",
       "                            FE_HEIGHT  FE_ASCENSION  FE_SUN_ALTITUDE  \\\n",
       "ts_start                                                               \n",
       "2019-11-19 04:45:00+00:00  162.551725    233.947649       -63.667340   \n",
       "2019-11-19 04:45:00+00:00  164.291190    233.948183       -63.624064   \n",
       "2019-11-19 04:45:00+00:00  164.291190    233.948183       -63.624064   \n",
       "2019-11-19 04:45:00+00:00  162.671293    233.948080       -62.993589   \n",
       "2019-11-19 04:45:00+00:00  162.671293    233.948080       -62.993589   \n",
       "\n",
       "                           FE_AZIMUTH  anonym_3  anonym_4  FE_DECLINATION  \\\n",
       "ts_start                                                                    \n",
       "2019-11-19 04:45:00+00:00  320.369888 -1.974396 -2.088368      -19.289585   \n",
       "2019-11-19 04:45:00+00:00  324.896594 -1.459596 -1.254026      -19.290761   \n",
       "2019-11-19 04:45:00+00:00  324.896594 -1.385336 -1.286704      -19.290761   \n",
       "2019-11-19 04:45:00+00:00  321.762222 -1.674626 -1.729747      -19.290701   \n",
       "2019-11-19 04:45:00+00:00  321.762222 -1.653722 -1.813574      -19.290701   \n",
       "\n",
       "                           anonym_2  \n",
       "ts_start                             \n",
       "2019-11-19 04:45:00+00:00  0.715955  \n",
       "2019-11-19 04:45:00+00:00  0.682391  \n",
       "2019-11-19 04:45:00+00:00  0.692086  \n",
       "2019-11-19 04:45:00+00:00  0.817873  \n",
       "2019-11-19 04:45:00+00:00  1.007763  "
      ]
     },
     "execution_count": 153,
     "metadata": {},
     "output_type": "execute_result"
    }
   ],
   "source": [
    "test.head()"
   ]
  },
  {
   "cell_type": "code",
   "execution_count": 154,
   "metadata": {},
   "outputs": [
    {
     "data": {
      "text/plain": [
       "anonym_1           0\n",
       "anonym_0           0\n",
       "anonym_5           0\n",
       "FE_ZENITH          0\n",
       "FE_HEIGHT          0\n",
       "FE_ASCENSION       0\n",
       "FE_SUN_ALTITUDE    0\n",
       "FE_AZIMUTH         0\n",
       "anonym_3           0\n",
       "anonym_4           0\n",
       "FE_DECLINATION     0\n",
       "anonym_2           0\n",
       "dtype: int64"
      ]
     },
     "execution_count": 154,
     "metadata": {},
     "output_type": "execute_result"
    }
   ],
   "source": [
    "test.isnull().sum()"
   ]
  },
  {
   "cell_type": "code",
   "execution_count": 24,
   "metadata": {},
   "outputs": [],
   "source": [
    "df = pd.read_csv('train_data.csv')"
   ]
  },
  {
   "cell_type": "code",
   "execution_count": 25,
   "metadata": {},
   "outputs": [],
   "source": [
    "df = df.set_index('ts_start')"
   ]
  },
  {
   "cell_type": "code",
   "execution_count": 26,
   "metadata": {},
   "outputs": [
    {
     "data": {
      "text/plain": [
       "Index(['lat', 'lon', 'ts_valid', 'temp', 'dewpt', 'slp', 'rh', 'vis', 'wspeed',\n",
       "       'wdir', 'wgust', 'pop', 'precip_rate', 'FE_AZIMUTH', 'FE_ZENITH',\n",
       "       'FE_ASCENSION', 'FE_DECLINATION', 'FE_HEIGHT', 'FE_SUN_ALTITUDE',\n",
       "       'DT_DATA_LAST_UPDATED', 'SURF_UNIQUE_ID', 'SURF_SURFACE_CONDITION',\n",
       "       'site_id', 'anonym_0', 'anonym_1', 'anonym_2', 'anonym_3', 'anonym_4',\n",
       "       'anonym_5'],\n",
       "      dtype='object')"
      ]
     },
     "execution_count": 26,
     "metadata": {},
     "output_type": "execute_result"
    }
   ],
   "source": [
    "df.columns"
   ]
  },
  {
   "cell_type": "code",
   "execution_count": 27,
   "metadata": {},
   "outputs": [],
   "source": [
    "df['wgust'] = df['wgust'].fillna(df['wgust'].mean())"
   ]
  },
  {
   "cell_type": "code",
   "execution_count": 28,
   "metadata": {},
   "outputs": [],
   "source": [
    "df = df.drop(['DT_DATA_LAST_UPDATED','ts_valid'],axis=1)"
   ]
  },
  {
   "cell_type": "code",
   "execution_count": 29,
   "metadata": {},
   "outputs": [],
   "source": [
    "df_copy = df"
   ]
  },
  {
   "cell_type": "code",
   "execution_count": 129,
   "metadata": {},
   "outputs": [],
   "source": [
    "df = df_copy"
   ]
  },
  {
   "cell_type": "code",
   "execution_count": 130,
   "metadata": {},
   "outputs": [],
   "source": [
    "uni_col_df = {'FE_AZIMUTH', 'FE_ZENITH',\n",
    "           'FE_ASCENSION', 'FE_DECLINATION', 'FE_HEIGHT', 'FE_SUN_ALTITUDE', \n",
    "           'anonym_0', 'anonym_1', 'anonym_2','anonym_3', 'anonym_4', 'anonym_5','SURF_SURFACE_CONDITION'}"
   ]
  },
  {
   "cell_type": "code",
   "execution_count": 131,
   "metadata": {},
   "outputs": [],
   "source": [
    "df = df[uni_col_df]"
   ]
  },
  {
   "cell_type": "code",
   "execution_count": 132,
   "metadata": {},
   "outputs": [
    {
     "data": {
      "text/html": [
       "<div>\n",
       "<style scoped>\n",
       "    .dataframe tbody tr th:only-of-type {\n",
       "        vertical-align: middle;\n",
       "    }\n",
       "\n",
       "    .dataframe tbody tr th {\n",
       "        vertical-align: top;\n",
       "    }\n",
       "\n",
       "    .dataframe thead th {\n",
       "        text-align: right;\n",
       "    }\n",
       "</style>\n",
       "<table border=\"1\" class=\"dataframe\">\n",
       "  <thead>\n",
       "    <tr style=\"text-align: right;\">\n",
       "      <th></th>\n",
       "      <th>anonym_1</th>\n",
       "      <th>anonym_0</th>\n",
       "      <th>anonym_5</th>\n",
       "      <th>FE_ZENITH</th>\n",
       "      <th>FE_HEIGHT</th>\n",
       "      <th>FE_ASCENSION</th>\n",
       "      <th>FE_SUN_ALTITUDE</th>\n",
       "      <th>FE_AZIMUTH</th>\n",
       "      <th>anonym_3</th>\n",
       "      <th>anonym_4</th>\n",
       "      <th>FE_DECLINATION</th>\n",
       "      <th>anonym_2</th>\n",
       "      <th>SURF_SURFACE_CONDITION</th>\n",
       "    </tr>\n",
       "    <tr>\n",
       "      <th>ts_start</th>\n",
       "      <th></th>\n",
       "      <th></th>\n",
       "      <th></th>\n",
       "      <th></th>\n",
       "      <th></th>\n",
       "      <th></th>\n",
       "      <th></th>\n",
       "      <th></th>\n",
       "      <th></th>\n",
       "      <th></th>\n",
       "      <th></th>\n",
       "      <th></th>\n",
       "      <th></th>\n",
       "    </tr>\n",
       "  </thead>\n",
       "  <tbody>\n",
       "    <tr>\n",
       "      <th>2019-11-01 05:00:00+00:00</th>\n",
       "      <td>NaN</td>\n",
       "      <td>NaN</td>\n",
       "      <td>NaN</td>\n",
       "      <td>NaN</td>\n",
       "      <td>NaN</td>\n",
       "      <td>NaN</td>\n",
       "      <td>NaN</td>\n",
       "      <td>NaN</td>\n",
       "      <td>NaN</td>\n",
       "      <td>NaN</td>\n",
       "      <td>NaN</td>\n",
       "      <td>NaN</td>\n",
       "      <td>dry</td>\n",
       "    </tr>\n",
       "    <tr>\n",
       "      <th>2019-11-01 05:00:00+00:00</th>\n",
       "      <td>NaN</td>\n",
       "      <td>NaN</td>\n",
       "      <td>NaN</td>\n",
       "      <td>NaN</td>\n",
       "      <td>NaN</td>\n",
       "      <td>NaN</td>\n",
       "      <td>NaN</td>\n",
       "      <td>NaN</td>\n",
       "      <td>NaN</td>\n",
       "      <td>NaN</td>\n",
       "      <td>NaN</td>\n",
       "      <td>NaN</td>\n",
       "      <td>dry</td>\n",
       "    </tr>\n",
       "    <tr>\n",
       "      <th>2019-11-01 05:00:00+00:00</th>\n",
       "      <td>NaN</td>\n",
       "      <td>NaN</td>\n",
       "      <td>NaN</td>\n",
       "      <td>NaN</td>\n",
       "      <td>NaN</td>\n",
       "      <td>NaN</td>\n",
       "      <td>NaN</td>\n",
       "      <td>NaN</td>\n",
       "      <td>NaN</td>\n",
       "      <td>NaN</td>\n",
       "      <td>NaN</td>\n",
       "      <td>NaN</td>\n",
       "      <td>dry</td>\n",
       "    </tr>\n",
       "    <tr>\n",
       "      <th>2019-11-01 05:00:00+00:00</th>\n",
       "      <td>NaN</td>\n",
       "      <td>NaN</td>\n",
       "      <td>NaN</td>\n",
       "      <td>NaN</td>\n",
       "      <td>NaN</td>\n",
       "      <td>NaN</td>\n",
       "      <td>NaN</td>\n",
       "      <td>NaN</td>\n",
       "      <td>NaN</td>\n",
       "      <td>NaN</td>\n",
       "      <td>NaN</td>\n",
       "      <td>NaN</td>\n",
       "      <td>dry</td>\n",
       "    </tr>\n",
       "    <tr>\n",
       "      <th>2019-11-01 05:15:00+00:00</th>\n",
       "      <td>NaN</td>\n",
       "      <td>NaN</td>\n",
       "      <td>NaN</td>\n",
       "      <td>NaN</td>\n",
       "      <td>NaN</td>\n",
       "      <td>NaN</td>\n",
       "      <td>NaN</td>\n",
       "      <td>NaN</td>\n",
       "      <td>NaN</td>\n",
       "      <td>NaN</td>\n",
       "      <td>NaN</td>\n",
       "      <td>NaN</td>\n",
       "      <td>dry</td>\n",
       "    </tr>\n",
       "  </tbody>\n",
       "</table>\n",
       "</div>"
      ],
      "text/plain": [
       "                           anonym_1  anonym_0  anonym_5  FE_ZENITH  FE_HEIGHT  \\\n",
       "ts_start                                                                        \n",
       "2019-11-01 05:00:00+00:00       NaN       NaN       NaN        NaN        NaN   \n",
       "2019-11-01 05:00:00+00:00       NaN       NaN       NaN        NaN        NaN   \n",
       "2019-11-01 05:00:00+00:00       NaN       NaN       NaN        NaN        NaN   \n",
       "2019-11-01 05:00:00+00:00       NaN       NaN       NaN        NaN        NaN   \n",
       "2019-11-01 05:15:00+00:00       NaN       NaN       NaN        NaN        NaN   \n",
       "\n",
       "                           FE_ASCENSION  FE_SUN_ALTITUDE  FE_AZIMUTH  \\\n",
       "ts_start                                                               \n",
       "2019-11-01 05:00:00+00:00           NaN              NaN         NaN   \n",
       "2019-11-01 05:00:00+00:00           NaN              NaN         NaN   \n",
       "2019-11-01 05:00:00+00:00           NaN              NaN         NaN   \n",
       "2019-11-01 05:00:00+00:00           NaN              NaN         NaN   \n",
       "2019-11-01 05:15:00+00:00           NaN              NaN         NaN   \n",
       "\n",
       "                           anonym_3  anonym_4  FE_DECLINATION  anonym_2  \\\n",
       "ts_start                                                                  \n",
       "2019-11-01 05:00:00+00:00       NaN       NaN             NaN       NaN   \n",
       "2019-11-01 05:00:00+00:00       NaN       NaN             NaN       NaN   \n",
       "2019-11-01 05:00:00+00:00       NaN       NaN             NaN       NaN   \n",
       "2019-11-01 05:00:00+00:00       NaN       NaN             NaN       NaN   \n",
       "2019-11-01 05:15:00+00:00       NaN       NaN             NaN       NaN   \n",
       "\n",
       "                          SURF_SURFACE_CONDITION  \n",
       "ts_start                                          \n",
       "2019-11-01 05:00:00+00:00                    dry  \n",
       "2019-11-01 05:00:00+00:00                    dry  \n",
       "2019-11-01 05:00:00+00:00                    dry  \n",
       "2019-11-01 05:00:00+00:00                    dry  \n",
       "2019-11-01 05:15:00+00:00                    dry  "
      ]
     },
     "execution_count": 132,
     "metadata": {},
     "output_type": "execute_result"
    }
   ],
   "source": [
    "df.head()"
   ]
  },
  {
   "cell_type": "code",
   "execution_count": 133,
   "metadata": {},
   "outputs": [
    {
     "data": {
      "text/plain": [
       "anonym_1                   33597\n",
       "anonym_0                   33597\n",
       "anonym_5                   33597\n",
       "FE_ZENITH                  33595\n",
       "FE_HEIGHT                  33596\n",
       "FE_ASCENSION               33596\n",
       "FE_SUN_ALTITUDE            33596\n",
       "FE_AZIMUTH                 33595\n",
       "anonym_3                   33597\n",
       "anonym_4                   33597\n",
       "FE_DECLINATION             33596\n",
       "anonym_2                   33597\n",
       "SURF_SURFACE_CONDITION    178481\n",
       "dtype: int64"
      ]
     },
     "execution_count": 133,
     "metadata": {},
     "output_type": "execute_result"
    }
   ],
   "source": [
    "df.isnull().sum()"
   ]
  },
  {
   "cell_type": "code",
   "execution_count": 134,
   "metadata": {},
   "outputs": [
    {
     "data": {
      "text/plain": [
       "anonym_1                  float64\n",
       "anonym_0                  float64\n",
       "anonym_5                  float64\n",
       "FE_ZENITH                 float64\n",
       "FE_HEIGHT                 float64\n",
       "FE_ASCENSION              float64\n",
       "FE_SUN_ALTITUDE           float64\n",
       "FE_AZIMUTH                float64\n",
       "anonym_3                  float64\n",
       "anonym_4                  float64\n",
       "FE_DECLINATION            float64\n",
       "anonym_2                  float64\n",
       "SURF_SURFACE_CONDITION     object\n",
       "dtype: object"
      ]
     },
     "execution_count": 134,
     "metadata": {},
     "output_type": "execute_result"
    }
   ],
   "source": [
    "df.dtypes"
   ]
  },
  {
   "cell_type": "code",
   "execution_count": 135,
   "metadata": {},
   "outputs": [],
   "source": [
    "df = df.dropna(axis=0)"
   ]
  },
  {
   "cell_type": "code",
   "execution_count": 136,
   "metadata": {},
   "outputs": [
    {
     "data": {
      "text/html": [
       "<div>\n",
       "<style scoped>\n",
       "    .dataframe tbody tr th:only-of-type {\n",
       "        vertical-align: middle;\n",
       "    }\n",
       "\n",
       "    .dataframe tbody tr th {\n",
       "        vertical-align: top;\n",
       "    }\n",
       "\n",
       "    .dataframe thead th {\n",
       "        text-align: right;\n",
       "    }\n",
       "</style>\n",
       "<table border=\"1\" class=\"dataframe\">\n",
       "  <thead>\n",
       "    <tr style=\"text-align: right;\">\n",
       "      <th></th>\n",
       "      <th>SURF_SURFACE_CONDITION</th>\n",
       "    </tr>\n",
       "    <tr>\n",
       "      <th>ts_start</th>\n",
       "      <th></th>\n",
       "    </tr>\n",
       "  </thead>\n",
       "  <tbody>\n",
       "    <tr>\n",
       "      <th>2019-11-02 04:15:00+00:00</th>\n",
       "      <td>wet</td>\n",
       "    </tr>\n",
       "    <tr>\n",
       "      <th>2019-11-02 04:15:00+00:00</th>\n",
       "      <td>dry</td>\n",
       "    </tr>\n",
       "    <tr>\n",
       "      <th>2019-11-02 04:15:00+00:00</th>\n",
       "      <td>dry</td>\n",
       "    </tr>\n",
       "    <tr>\n",
       "      <th>2019-11-02 04:15:00+00:00</th>\n",
       "      <td>wet</td>\n",
       "    </tr>\n",
       "    <tr>\n",
       "      <th>2019-11-02 04:30:00+00:00</th>\n",
       "      <td>wet</td>\n",
       "    </tr>\n",
       "  </tbody>\n",
       "</table>\n",
       "</div>"
      ],
      "text/plain": [
       "                          SURF_SURFACE_CONDITION\n",
       "ts_start                                        \n",
       "2019-11-02 04:15:00+00:00                    wet\n",
       "2019-11-02 04:15:00+00:00                    dry\n",
       "2019-11-02 04:15:00+00:00                    dry\n",
       "2019-11-02 04:15:00+00:00                    wet\n",
       "2019-11-02 04:30:00+00:00                    wet"
      ]
     },
     "execution_count": 136,
     "metadata": {},
     "output_type": "execute_result"
    }
   ],
   "source": [
    "obj_df = df.select_dtypes(include = ['object']).copy()\n",
    "obj_df.head()"
   ]
  },
  {
   "cell_type": "code",
   "execution_count": 137,
   "metadata": {},
   "outputs": [],
   "source": [
    "obj_df[\"SURF_SURFACE_CONDITION\"] = obj_df[\"SURF_SURFACE_CONDITION\"].astype('category')\n",
    "obj_df[\"SURF_SURFACE_CONDITION\"] = obj_df[\"SURF_SURFACE_CONDITION\"].cat.codes"
   ]
  },
  {
   "cell_type": "code",
   "execution_count": 138,
   "metadata": {},
   "outputs": [],
   "source": [
    "obj_df = obj_df.rename(columns={'SURF_SURFACE_CONDITION':'Surface_Condition'})"
   ]
  },
  {
   "cell_type": "code",
   "execution_count": 139,
   "metadata": {},
   "outputs": [],
   "source": [
    "df = pd.concat([df,obj_df],axis=1)"
   ]
  },
  {
   "cell_type": "code",
   "execution_count": 144,
   "metadata": {},
   "outputs": [
    {
     "data": {
      "text/plain": [
       "anonym_1                  0\n",
       "anonym_0                  0\n",
       "FE_ZENITH                 0\n",
       "FE_HEIGHT                 0\n",
       "FE_ASCENSION              0\n",
       "FE_SUN_ALTITUDE           0\n",
       "FE_AZIMUTH                0\n",
       "anonym_3                  0\n",
       "anonym_4                  0\n",
       "FE_DECLINATION            0\n",
       "anonym_2                  0\n",
       "SURF_SURFACE_CONDITION    0\n",
       "Surface_Condition         0\n",
       "dtype: int64"
      ]
     },
     "execution_count": 144,
     "metadata": {},
     "output_type": "execute_result"
    }
   ],
   "source": [
    "df.isnull().sum()"
   ]
  },
  {
   "cell_type": "code",
   "execution_count": 141,
   "metadata": {},
   "outputs": [],
   "source": [
    "df = df.replace([np.inf, -np.inf], np.nan)"
   ]
  },
  {
   "cell_type": "code",
   "execution_count": 142,
   "metadata": {},
   "outputs": [],
   "source": [
    "df = df.drop(['anonym_5'],axis=1)"
   ]
  },
  {
   "cell_type": "code",
   "execution_count": 143,
   "metadata": {},
   "outputs": [],
   "source": [
    "df = df.dropna(axis=0)"
   ]
  },
  {
   "cell_type": "code",
   "execution_count": 145,
   "metadata": {},
   "outputs": [],
   "source": [
    "df = df.drop(['SURF_SURFACE_CONDITION'],axis=1)"
   ]
  },
  {
   "cell_type": "code",
   "execution_count": 183,
   "metadata": {},
   "outputs": [],
   "source": [
    "X = df.drop(['Surface_Condition'],axis=1)"
   ]
  },
  {
   "cell_type": "code",
   "execution_count": 184,
   "metadata": {},
   "outputs": [],
   "source": [
    "y = df['Surface_Condition']"
   ]
  },
  {
   "cell_type": "code",
   "execution_count": 185,
   "metadata": {
    "scrolled": true
   },
   "outputs": [
    {
     "ename": "KeyError",
     "evalue": "\"['anonym_5'] not found in axis\"",
     "output_type": "error",
     "traceback": [
      "\u001b[1;31m---------------------------------------------------------------------------\u001b[0m",
      "\u001b[1;31mKeyError\u001b[0m                                  Traceback (most recent call last)",
      "\u001b[1;32m<ipython-input-185-5ae36d8de507>\u001b[0m in \u001b[0;36m<module>\u001b[1;34m\u001b[0m\n\u001b[1;32m----> 1\u001b[1;33m \u001b[0mtest\u001b[0m \u001b[1;33m=\u001b[0m \u001b[0mtest\u001b[0m\u001b[1;33m.\u001b[0m\u001b[0mdrop\u001b[0m\u001b[1;33m(\u001b[0m\u001b[1;33m[\u001b[0m\u001b[1;34m'anonym_5'\u001b[0m\u001b[1;33m]\u001b[0m\u001b[1;33m,\u001b[0m\u001b[0maxis\u001b[0m\u001b[1;33m=\u001b[0m\u001b[1;36m1\u001b[0m\u001b[1;33m)\u001b[0m\u001b[1;33m\u001b[0m\u001b[1;33m\u001b[0m\u001b[0m\n\u001b[0m",
      "\u001b[1;32m~\\AppData\\Local\\Continuum\\anaconda3\\lib\\site-packages\\pandas\\core\\frame.py\u001b[0m in \u001b[0;36mdrop\u001b[1;34m(self, labels, axis, index, columns, level, inplace, errors)\u001b[0m\n\u001b[0;32m   4115\u001b[0m             \u001b[0mlevel\u001b[0m\u001b[1;33m=\u001b[0m\u001b[0mlevel\u001b[0m\u001b[1;33m,\u001b[0m\u001b[1;33m\u001b[0m\u001b[1;33m\u001b[0m\u001b[0m\n\u001b[0;32m   4116\u001b[0m             \u001b[0minplace\u001b[0m\u001b[1;33m=\u001b[0m\u001b[0minplace\u001b[0m\u001b[1;33m,\u001b[0m\u001b[1;33m\u001b[0m\u001b[1;33m\u001b[0m\u001b[0m\n\u001b[1;32m-> 4117\u001b[1;33m             \u001b[0merrors\u001b[0m\u001b[1;33m=\u001b[0m\u001b[0merrors\u001b[0m\u001b[1;33m,\u001b[0m\u001b[1;33m\u001b[0m\u001b[1;33m\u001b[0m\u001b[0m\n\u001b[0m\u001b[0;32m   4118\u001b[0m         )\n\u001b[0;32m   4119\u001b[0m \u001b[1;33m\u001b[0m\u001b[0m\n",
      "\u001b[1;32m~\\AppData\\Local\\Continuum\\anaconda3\\lib\\site-packages\\pandas\\core\\generic.py\u001b[0m in \u001b[0;36mdrop\u001b[1;34m(self, labels, axis, index, columns, level, inplace, errors)\u001b[0m\n\u001b[0;32m   3912\u001b[0m         \u001b[1;32mfor\u001b[0m \u001b[0maxis\u001b[0m\u001b[1;33m,\u001b[0m \u001b[0mlabels\u001b[0m \u001b[1;32min\u001b[0m \u001b[0maxes\u001b[0m\u001b[1;33m.\u001b[0m\u001b[0mitems\u001b[0m\u001b[1;33m(\u001b[0m\u001b[1;33m)\u001b[0m\u001b[1;33m:\u001b[0m\u001b[1;33m\u001b[0m\u001b[1;33m\u001b[0m\u001b[0m\n\u001b[0;32m   3913\u001b[0m             \u001b[1;32mif\u001b[0m \u001b[0mlabels\u001b[0m \u001b[1;32mis\u001b[0m \u001b[1;32mnot\u001b[0m \u001b[1;32mNone\u001b[0m\u001b[1;33m:\u001b[0m\u001b[1;33m\u001b[0m\u001b[1;33m\u001b[0m\u001b[0m\n\u001b[1;32m-> 3914\u001b[1;33m                 \u001b[0mobj\u001b[0m \u001b[1;33m=\u001b[0m \u001b[0mobj\u001b[0m\u001b[1;33m.\u001b[0m\u001b[0m_drop_axis\u001b[0m\u001b[1;33m(\u001b[0m\u001b[0mlabels\u001b[0m\u001b[1;33m,\u001b[0m \u001b[0maxis\u001b[0m\u001b[1;33m,\u001b[0m \u001b[0mlevel\u001b[0m\u001b[1;33m=\u001b[0m\u001b[0mlevel\u001b[0m\u001b[1;33m,\u001b[0m \u001b[0merrors\u001b[0m\u001b[1;33m=\u001b[0m\u001b[0merrors\u001b[0m\u001b[1;33m)\u001b[0m\u001b[1;33m\u001b[0m\u001b[1;33m\u001b[0m\u001b[0m\n\u001b[0m\u001b[0;32m   3915\u001b[0m \u001b[1;33m\u001b[0m\u001b[0m\n\u001b[0;32m   3916\u001b[0m         \u001b[1;32mif\u001b[0m \u001b[0minplace\u001b[0m\u001b[1;33m:\u001b[0m\u001b[1;33m\u001b[0m\u001b[1;33m\u001b[0m\u001b[0m\n",
      "\u001b[1;32m~\\AppData\\Local\\Continuum\\anaconda3\\lib\\site-packages\\pandas\\core\\generic.py\u001b[0m in \u001b[0;36m_drop_axis\u001b[1;34m(self, labels, axis, level, errors)\u001b[0m\n\u001b[0;32m   3944\u001b[0m                 \u001b[0mnew_axis\u001b[0m \u001b[1;33m=\u001b[0m \u001b[0maxis\u001b[0m\u001b[1;33m.\u001b[0m\u001b[0mdrop\u001b[0m\u001b[1;33m(\u001b[0m\u001b[0mlabels\u001b[0m\u001b[1;33m,\u001b[0m \u001b[0mlevel\u001b[0m\u001b[1;33m=\u001b[0m\u001b[0mlevel\u001b[0m\u001b[1;33m,\u001b[0m \u001b[0merrors\u001b[0m\u001b[1;33m=\u001b[0m\u001b[0merrors\u001b[0m\u001b[1;33m)\u001b[0m\u001b[1;33m\u001b[0m\u001b[1;33m\u001b[0m\u001b[0m\n\u001b[0;32m   3945\u001b[0m             \u001b[1;32melse\u001b[0m\u001b[1;33m:\u001b[0m\u001b[1;33m\u001b[0m\u001b[1;33m\u001b[0m\u001b[0m\n\u001b[1;32m-> 3946\u001b[1;33m                 \u001b[0mnew_axis\u001b[0m \u001b[1;33m=\u001b[0m \u001b[0maxis\u001b[0m\u001b[1;33m.\u001b[0m\u001b[0mdrop\u001b[0m\u001b[1;33m(\u001b[0m\u001b[0mlabels\u001b[0m\u001b[1;33m,\u001b[0m \u001b[0merrors\u001b[0m\u001b[1;33m=\u001b[0m\u001b[0merrors\u001b[0m\u001b[1;33m)\u001b[0m\u001b[1;33m\u001b[0m\u001b[1;33m\u001b[0m\u001b[0m\n\u001b[0m\u001b[0;32m   3947\u001b[0m             \u001b[0mresult\u001b[0m \u001b[1;33m=\u001b[0m \u001b[0mself\u001b[0m\u001b[1;33m.\u001b[0m\u001b[0mreindex\u001b[0m\u001b[1;33m(\u001b[0m\u001b[1;33m**\u001b[0m\u001b[1;33m{\u001b[0m\u001b[0maxis_name\u001b[0m\u001b[1;33m:\u001b[0m \u001b[0mnew_axis\u001b[0m\u001b[1;33m}\u001b[0m\u001b[1;33m)\u001b[0m\u001b[1;33m\u001b[0m\u001b[1;33m\u001b[0m\u001b[0m\n\u001b[0;32m   3948\u001b[0m \u001b[1;33m\u001b[0m\u001b[0m\n",
      "\u001b[1;32m~\\AppData\\Local\\Continuum\\anaconda3\\lib\\site-packages\\pandas\\core\\indexes\\base.py\u001b[0m in \u001b[0;36mdrop\u001b[1;34m(self, labels, errors)\u001b[0m\n\u001b[0;32m   5338\u001b[0m         \u001b[1;32mif\u001b[0m \u001b[0mmask\u001b[0m\u001b[1;33m.\u001b[0m\u001b[0many\u001b[0m\u001b[1;33m(\u001b[0m\u001b[1;33m)\u001b[0m\u001b[1;33m:\u001b[0m\u001b[1;33m\u001b[0m\u001b[1;33m\u001b[0m\u001b[0m\n\u001b[0;32m   5339\u001b[0m             \u001b[1;32mif\u001b[0m \u001b[0merrors\u001b[0m \u001b[1;33m!=\u001b[0m \u001b[1;34m\"ignore\"\u001b[0m\u001b[1;33m:\u001b[0m\u001b[1;33m\u001b[0m\u001b[1;33m\u001b[0m\u001b[0m\n\u001b[1;32m-> 5340\u001b[1;33m                 \u001b[1;32mraise\u001b[0m \u001b[0mKeyError\u001b[0m\u001b[1;33m(\u001b[0m\u001b[1;34m\"{} not found in axis\"\u001b[0m\u001b[1;33m.\u001b[0m\u001b[0mformat\u001b[0m\u001b[1;33m(\u001b[0m\u001b[0mlabels\u001b[0m\u001b[1;33m[\u001b[0m\u001b[0mmask\u001b[0m\u001b[1;33m]\u001b[0m\u001b[1;33m)\u001b[0m\u001b[1;33m)\u001b[0m\u001b[1;33m\u001b[0m\u001b[1;33m\u001b[0m\u001b[0m\n\u001b[0m\u001b[0;32m   5341\u001b[0m             \u001b[0mindexer\u001b[0m \u001b[1;33m=\u001b[0m \u001b[0mindexer\u001b[0m\u001b[1;33m[\u001b[0m\u001b[1;33m~\u001b[0m\u001b[0mmask\u001b[0m\u001b[1;33m]\u001b[0m\u001b[1;33m\u001b[0m\u001b[1;33m\u001b[0m\u001b[0m\n\u001b[0;32m   5342\u001b[0m         \u001b[1;32mreturn\u001b[0m \u001b[0mself\u001b[0m\u001b[1;33m.\u001b[0m\u001b[0mdelete\u001b[0m\u001b[1;33m(\u001b[0m\u001b[0mindexer\u001b[0m\u001b[1;33m)\u001b[0m\u001b[1;33m\u001b[0m\u001b[1;33m\u001b[0m\u001b[0m\n",
      "\u001b[1;31mKeyError\u001b[0m: \"['anonym_5'] not found in axis\""
     ]
    }
   ],
   "source": [
    "test = test.drop(['anonym_5'],axis=1)"
   ]
  },
  {
   "cell_type": "code",
   "execution_count": 156,
   "metadata": {},
   "outputs": [],
   "source": [
    "test = test.replace([np.inf, -np.inf], np.nan)"
   ]
  },
  {
   "cell_type": "code",
   "execution_count": 157,
   "metadata": {},
   "outputs": [
    {
     "data": {
      "text/plain": [
       "anonym_1            0\n",
       "anonym_0            0\n",
       "FE_ZENITH           0\n",
       "FE_HEIGHT           0\n",
       "FE_ASCENSION        0\n",
       "FE_SUN_ALTITUDE     0\n",
       "FE_AZIMUTH          0\n",
       "anonym_3           43\n",
       "anonym_4           15\n",
       "FE_DECLINATION      0\n",
       "anonym_2            0\n",
       "dtype: int64"
      ]
     },
     "execution_count": 157,
     "metadata": {},
     "output_type": "execute_result"
    }
   ],
   "source": [
    "test.isnull().sum()"
   ]
  },
  {
   "cell_type": "code",
   "execution_count": 158,
   "metadata": {},
   "outputs": [],
   "source": [
    "test = test.dropna(axis=0)"
   ]
  },
  {
   "cell_type": "markdown",
   "metadata": {},
   "source": [
    "from sklearn.preprocessing import StandardScaler"
   ]
  },
  {
   "cell_type": "markdown",
   "metadata": {},
   "source": [
    "scaler = StandardScaler()"
   ]
  },
  {
   "cell_type": "markdown",
   "metadata": {},
   "source": [
    "X = scaler.fit_transform(X)"
   ]
  },
  {
   "cell_type": "markdown",
   "metadata": {},
   "source": [
    "test = scaler.fit_transform(test)"
   ]
  },
  {
   "cell_type": "markdown",
   "metadata": {},
   "source": [
    "X = pd.DataFrame(X)"
   ]
  },
  {
   "cell_type": "markdown",
   "metadata": {},
   "source": [
    "X = X.rename(columns={0:'FE_AZIMUTH',1: 'FE_ZENITH',\n",
    "           2:'FE_ASCENSION', 3:'FE_DECLINATION', 4:'FE_HEIGHT', 5:'FE_SUN_ALTITUDE', \n",
    "          6: 'anonym_0',7: 'anonym_1',8: 'anonym_2',9:'anonym_3',10: 'anonym_4'})"
   ]
  },
  {
   "cell_type": "markdown",
   "metadata": {},
   "source": [
    "test = pd.DataFrame(test)"
   ]
  },
  {
   "cell_type": "markdown",
   "metadata": {},
   "source": [
    "test = test.rename(columns={0:'FE_AZIMUTH',1: 'FE_ZENITH',\n",
    "           2:'FE_ASCENSION', 3:'FE_DECLINATION', 4:'FE_HEIGHT', 5:'FE_SUN_ALTITUDE', \n",
    "          6: 'anonym_0',7: 'anonym_1',8: 'anonym_2',9:'anonym_3',10: 'anonym_4'})"
   ]
  },
  {
   "cell_type": "markdown",
   "metadata": {},
   "source": [
    "y = y.iloc[:824395]"
   ]
  },
  {
   "cell_type": "markdown",
   "metadata": {},
   "source": [
    "from imblearn.over_sampling import RandomOverSampler"
   ]
  },
  {
   "cell_type": "markdown",
   "metadata": {},
   "source": [
    "ros = RandomOverSampler(random_state=0)"
   ]
  },
  {
   "cell_type": "markdown",
   "metadata": {},
   "source": [
    "X_res, y_res = ros.fit_resample(X, y)"
   ]
  },
  {
   "cell_type": "markdown",
   "metadata": {},
   "source": [
    "y_res = pd.DataFrame(y_res)"
   ]
  },
  {
   "cell_type": "markdown",
   "metadata": {},
   "source": [
    "sns.countplot(x='Surface_Condition',data = y_res)"
   ]
  },
  {
   "cell_type": "code",
   "execution_count": 211,
   "metadata": {},
   "outputs": [],
   "source": [
    "from sklearn.multiclass import OneVsRestClassifier\n",
    "from xgboost import XGBClassifier\n"
   ]
  },
  {
   "cell_type": "code",
   "execution_count": 212,
   "metadata": {},
   "outputs": [],
   "source": [
    "clf = OneVsRestClassifier(XGBClassifier(n_jobs=-1, max_depth=20,n_estimators=100,learning_rate=0.1))"
   ]
  },
  {
   "cell_type": "code",
   "execution_count": null,
   "metadata": {},
   "outputs": [],
   "source": [
    "clf.fit(X_res, y_res)"
   ]
  },
  {
   "cell_type": "code",
   "execution_count": null,
   "metadata": {},
   "outputs": [],
   "source": [
    "y_pred = clf.predict(test)"
   ]
  },
  {
   "cell_type": "code",
   "execution_count": null,
   "metadata": {},
   "outputs": [],
   "source": [
    "y_pred = pd.DataFrame(y_pred)"
   ]
  },
  {
   "cell_type": "code",
   "execution_count": null,
   "metadata": {},
   "outputs": [],
   "source": [
    "prediction = y_pred\n",
    "prediction = prediction.rename(columns={0:'SURF_SURFACE_CONDITION'})\n",
    "prediction = prediction.replace(0,'dry')\n",
    "prediction = prediction.replace(1,'icy')\n",
    "prediction = prediction.replace(2,'wet')\n",
    "sns.countplot(x='SURF_SURFACE_CONDITION',data=prediction)"
   ]
  },
  {
   "cell_type": "code",
   "execution_count": null,
   "metadata": {},
   "outputs": [],
   "source": []
  },
  {
   "cell_type": "code",
   "execution_count": 186,
   "metadata": {},
   "outputs": [],
   "source": [
    "from sklearn.tree import DecisionTreeClassifier"
   ]
  },
  {
   "cell_type": "code",
   "execution_count": 205,
   "metadata": {},
   "outputs": [],
   "source": [
    "clf = DecisionTreeClassifier(random_state=1)"
   ]
  },
  {
   "cell_type": "code",
   "execution_count": 206,
   "metadata": {},
   "outputs": [
    {
     "data": {
      "text/plain": [
       "DecisionTreeClassifier(ccp_alpha=0.0, class_weight=None, criterion='gini',\n",
       "                       max_depth=None, max_features=None, max_leaf_nodes=None,\n",
       "                       min_impurity_decrease=0.0, min_impurity_split=None,\n",
       "                       min_samples_leaf=1, min_samples_split=2,\n",
       "                       min_weight_fraction_leaf=0.0, presort='deprecated',\n",
       "                       random_state=1, splitter='best')"
      ]
     },
     "execution_count": 206,
     "metadata": {},
     "output_type": "execute_result"
    }
   ],
   "source": [
    "clf.fit(X, y)"
   ]
  },
  {
   "cell_type": "code",
   "execution_count": 207,
   "metadata": {},
   "outputs": [],
   "source": [
    "y_pred = clf.predict(test)"
   ]
  },
  {
   "cell_type": "code",
   "execution_count": 208,
   "metadata": {},
   "outputs": [],
   "source": [
    "y_pred = pd.DataFrame(y_pred)"
   ]
  },
  {
   "cell_type": "code",
   "execution_count": null,
   "metadata": {},
   "outputs": [],
   "source": []
  },
  {
   "cell_type": "code",
   "execution_count": null,
   "metadata": {},
   "outputs": [],
   "source": []
  },
  {
   "cell_type": "code",
   "execution_count": 209,
   "metadata": {},
   "outputs": [],
   "source": [
    "prediction = y_pred\n",
    "prediction = prediction.rename(columns={0:'SURF_SURFACE_CONDITION'})\n",
    "prediction = prediction.replace(0,'dry')\n",
    "prediction = prediction.replace(1,'icy')\n",
    "prediction = prediction.replace(2,'wet')"
   ]
  },
  {
   "cell_type": "code",
   "execution_count": 210,
   "metadata": {},
   "outputs": [
    {
     "data": {
      "text/plain": [
       "<matplotlib.axes._subplots.AxesSubplot at 0x21b3f959400>"
      ]
     },
     "execution_count": 210,
     "metadata": {},
     "output_type": "execute_result"
    },
    {
     "data": {
      "image/png": "[encoded data removed]",
      "text/plain": [
       "<Figure size 432x288 with 1 Axes>"
      ]
     },
     "metadata": {
      "needs_background": "light"
     },
     "output_type": "display_data"
    }
   ],
   "source": [
    "sns.countplot(x='SURF_SURFACE_CONDITION',data=prediction)"
   ]
  },
  {
   "cell_type": "code",
   "execution_count": 181,
   "metadata": {},
   "outputs": [],
   "source": [
    "export_csv = prediction.to_csv(r'y_pred.csv',index=None,header=True)"
   ]
  },
  {
   "cell_type": "code",
   "execution_count": 182,
   "metadata": {},
   "outputs": [],
   "source": [
    "export_csv = row_id.to_csv(r'row_id.csv',index=None,header=True)"
   ]
  },
  {
   "cell_type": "code",
   "execution_count": null,
   "metadata": {},
   "outputs": [],
   "source": []
  },
  {
   "cell_type": "code",
   "execution_count": null,
   "metadata": {},
   "outputs": [],
   "source": []
  }
 ],
 "metadata": {
  "kernelspec": {
   "display_name": "Python 3",
   "language": "python",
   "name": "python3"
  },
  "language_info": {
   "codemirror_mode": {
    "name": "ipython",
    "version": 3
   },
   "file_extension": ".py",
   "mimetype": "text/x-python",
   "name": "python",
   "nbconvert_exporter": "python",
   "pygments_lexer": "ipython3",
   "version": "3.7.1"
  }
 },
 "nbformat": 4,
 "nbformat_minor": 2
}
