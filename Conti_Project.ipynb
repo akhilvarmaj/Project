{
 "cells": [
  {
   "cell_type": "code",
   "execution_count": 1,
   "metadata": {},
   "outputs": [],
   "source": [
    "import pandas as pd"
   ]
  },
  {
   "cell_type": "code",
   "execution_count": 2,
   "metadata": {},
   "outputs": [],
   "source": [
    "df = pd.read_csv('train_data.csv',parse_dates=['ts_start'])"
   ]
  },
  {
   "cell_type": "code",
   "execution_count": 3,
   "metadata": {},
   "outputs": [
    {
     "data": {
      "text/html": [
       "<div>\n",
       "<style scoped>\n",
       "    .dataframe tbody tr th:only-of-type {\n",
       "        vertical-align: middle;\n",
       "    }\n",
       "\n",
       "    .dataframe tbody tr th {\n",
       "        vertical-align: top;\n",
       "    }\n",
       "\n",
       "    .dataframe thead th {\n",
       "        text-align: right;\n",
       "    }\n",
       "</style>\n",
       "<table border=\"1\" class=\"dataframe\">\n",
       "  <thead>\n",
       "    <tr style=\"text-align: right;\">\n",
       "      <th></th>\n",
       "      <th>ts_start</th>\n",
       "      <th>lat</th>\n",
       "      <th>lon</th>\n",
       "      <th>ts_valid</th>\n",
       "      <th>temp</th>\n",
       "      <th>dewpt</th>\n",
       "      <th>slp</th>\n",
       "      <th>rh</th>\n",
       "      <th>vis</th>\n",
       "      <th>wspeed</th>\n",
       "      <th>...</th>\n",
       "      <th>DT_DATA_LAST_UPDATED</th>\n",
       "      <th>SURF_UNIQUE_ID</th>\n",
       "      <th>SURF_SURFACE_CONDITION</th>\n",
       "      <th>site_id</th>\n",
       "      <th>anonym_0</th>\n",
       "      <th>anonym_1</th>\n",
       "      <th>anonym_2</th>\n",
       "      <th>anonym_3</th>\n",
       "      <th>anonym_4</th>\n",
       "      <th>anonym_5</th>\n",
       "    </tr>\n",
       "  </thead>\n",
       "  <tbody>\n",
       "    <tr>\n",
       "      <th>0</th>\n",
       "      <td>2019-11-01 05:00:00+00:00</td>\n",
       "      <td>40.69</td>\n",
       "      <td>-95.78</td>\n",
       "      <td>NaN</td>\n",
       "      <td>NaN</td>\n",
       "      <td>NaN</td>\n",
       "      <td>NaN</td>\n",
       "      <td>NaN</td>\n",
       "      <td>NaN</td>\n",
       "      <td>NaN</td>\n",
       "      <td>...</td>\n",
       "      <td>2019-11-01 05:00:00+00:00</td>\n",
       "      <td>5120390.0</td>\n",
       "      <td>dry</td>\n",
       "      <td>65.0</td>\n",
       "      <td>NaN</td>\n",
       "      <td>NaN</td>\n",
       "      <td>NaN</td>\n",
       "      <td>NaN</td>\n",
       "      <td>NaN</td>\n",
       "      <td>NaN</td>\n",
       "    </tr>\n",
       "  </tbody>\n",
       "</table>\n",
       "<p>1 rows × 30 columns</p>\n",
       "</div>"
      ],
      "text/plain": [
       "                   ts_start    lat    lon ts_valid  temp  dewpt  slp  rh  vis  \\\n",
       "0 2019-11-01 05:00:00+00:00  40.69 -95.78      NaN   NaN    NaN  NaN NaN  NaN   \n",
       "\n",
       "   wspeed  ...       DT_DATA_LAST_UPDATED  SURF_UNIQUE_ID  \\\n",
       "0     NaN  ...  2019-11-01 05:00:00+00:00       5120390.0   \n",
       "\n",
       "   SURF_SURFACE_CONDITION  site_id  anonym_0  anonym_1  anonym_2  anonym_3  \\\n",
       "0                     dry     65.0       NaN       NaN       NaN       NaN   \n",
       "\n",
       "   anonym_4  anonym_5  \n",
       "0       NaN       NaN  \n",
       "\n",
       "[1 rows x 30 columns]"
      ]
     },
     "execution_count": 3,
     "metadata": {},
     "output_type": "execute_result"
    }
   ],
   "source": [
    "df.head(1)"
   ]
  },
  {
   "cell_type": "code",
   "execution_count": 4,
   "metadata": {},
   "outputs": [],
   "source": [
    "df_copy = df"
   ]
  },
  {
   "cell_type": "code",
   "execution_count": 5,
   "metadata": {},
   "outputs": [],
   "source": [
    "df = df.drop(['DT_DATA_LAST_UPDATED'],axis=1)"
   ]
  },
  {
   "cell_type": "code",
   "execution_count": 6,
   "metadata": {},
   "outputs": [],
   "source": [
    "df = df.set_index('ts_start')"
   ]
  },
  {
   "cell_type": "code",
   "execution_count": 7,
   "metadata": {},
   "outputs": [
    {
     "data": {
      "text/html": [
       "<div>\n",
       "<style scoped>\n",
       "    .dataframe tbody tr th:only-of-type {\n",
       "        vertical-align: middle;\n",
       "    }\n",
       "\n",
       "    .dataframe tbody tr th {\n",
       "        vertical-align: top;\n",
       "    }\n",
       "\n",
       "    .dataframe thead th {\n",
       "        text-align: right;\n",
       "    }\n",
       "</style>\n",
       "<table border=\"1\" class=\"dataframe\">\n",
       "  <thead>\n",
       "    <tr style=\"text-align: right;\">\n",
       "      <th></th>\n",
       "      <th>lat</th>\n",
       "      <th>lon</th>\n",
       "      <th>ts_valid</th>\n",
       "      <th>temp</th>\n",
       "      <th>dewpt</th>\n",
       "      <th>slp</th>\n",
       "      <th>rh</th>\n",
       "      <th>vis</th>\n",
       "      <th>wspeed</th>\n",
       "      <th>wdir</th>\n",
       "      <th>...</th>\n",
       "      <th>FE_SUN_ALTITUDE</th>\n",
       "      <th>SURF_UNIQUE_ID</th>\n",
       "      <th>SURF_SURFACE_CONDITION</th>\n",
       "      <th>site_id</th>\n",
       "      <th>anonym_0</th>\n",
       "      <th>anonym_1</th>\n",
       "      <th>anonym_2</th>\n",
       "      <th>anonym_3</th>\n",
       "      <th>anonym_4</th>\n",
       "      <th>anonym_5</th>\n",
       "    </tr>\n",
       "    <tr>\n",
       "      <th>ts_start</th>\n",
       "      <th></th>\n",
       "      <th></th>\n",
       "      <th></th>\n",
       "      <th></th>\n",
       "      <th></th>\n",
       "      <th></th>\n",
       "      <th></th>\n",
       "      <th></th>\n",
       "      <th></th>\n",
       "      <th></th>\n",
       "      <th></th>\n",
       "      <th></th>\n",
       "      <th></th>\n",
       "      <th></th>\n",
       "      <th></th>\n",
       "      <th></th>\n",
       "      <th></th>\n",
       "      <th></th>\n",
       "      <th></th>\n",
       "      <th></th>\n",
       "      <th></th>\n",
       "    </tr>\n",
       "  </thead>\n",
       "  <tbody>\n",
       "    <tr>\n",
       "      <th>2019-11-01 05:00:00+00:00</th>\n",
       "      <td>40.69</td>\n",
       "      <td>-95.78</td>\n",
       "      <td>NaN</td>\n",
       "      <td>NaN</td>\n",
       "      <td>NaN</td>\n",
       "      <td>NaN</td>\n",
       "      <td>NaN</td>\n",
       "      <td>NaN</td>\n",
       "      <td>NaN</td>\n",
       "      <td>NaN</td>\n",
       "      <td>...</td>\n",
       "      <td>NaN</td>\n",
       "      <td>5120390.0</td>\n",
       "      <td>dry</td>\n",
       "      <td>65.0</td>\n",
       "      <td>NaN</td>\n",
       "      <td>NaN</td>\n",
       "      <td>NaN</td>\n",
       "      <td>NaN</td>\n",
       "      <td>NaN</td>\n",
       "      <td>NaN</td>\n",
       "    </tr>\n",
       "    <tr>\n",
       "      <th>2019-11-01 05:00:00+00:00</th>\n",
       "      <td>40.69</td>\n",
       "      <td>-95.78</td>\n",
       "      <td>NaN</td>\n",
       "      <td>NaN</td>\n",
       "      <td>NaN</td>\n",
       "      <td>NaN</td>\n",
       "      <td>NaN</td>\n",
       "      <td>NaN</td>\n",
       "      <td>NaN</td>\n",
       "      <td>NaN</td>\n",
       "      <td>...</td>\n",
       "      <td>NaN</td>\n",
       "      <td>5120391.0</td>\n",
       "      <td>dry</td>\n",
       "      <td>65.0</td>\n",
       "      <td>NaN</td>\n",
       "      <td>NaN</td>\n",
       "      <td>NaN</td>\n",
       "      <td>NaN</td>\n",
       "      <td>NaN</td>\n",
       "      <td>NaN</td>\n",
       "    </tr>\n",
       "    <tr>\n",
       "      <th>2019-11-01 05:00:00+00:00</th>\n",
       "      <td>40.69</td>\n",
       "      <td>-95.78</td>\n",
       "      <td>NaN</td>\n",
       "      <td>NaN</td>\n",
       "      <td>NaN</td>\n",
       "      <td>NaN</td>\n",
       "      <td>NaN</td>\n",
       "      <td>NaN</td>\n",
       "      <td>NaN</td>\n",
       "      <td>NaN</td>\n",
       "      <td>...</td>\n",
       "      <td>NaN</td>\n",
       "      <td>5120392.0</td>\n",
       "      <td>dry</td>\n",
       "      <td>65.0</td>\n",
       "      <td>NaN</td>\n",
       "      <td>NaN</td>\n",
       "      <td>NaN</td>\n",
       "      <td>NaN</td>\n",
       "      <td>NaN</td>\n",
       "      <td>NaN</td>\n",
       "    </tr>\n",
       "    <tr>\n",
       "      <th>2019-11-01 05:00:00+00:00</th>\n",
       "      <td>40.69</td>\n",
       "      <td>-95.78</td>\n",
       "      <td>NaN</td>\n",
       "      <td>NaN</td>\n",
       "      <td>NaN</td>\n",
       "      <td>NaN</td>\n",
       "      <td>NaN</td>\n",
       "      <td>NaN</td>\n",
       "      <td>NaN</td>\n",
       "      <td>NaN</td>\n",
       "      <td>...</td>\n",
       "      <td>NaN</td>\n",
       "      <td>5120393.0</td>\n",
       "      <td>dry</td>\n",
       "      <td>65.0</td>\n",
       "      <td>NaN</td>\n",
       "      <td>NaN</td>\n",
       "      <td>NaN</td>\n",
       "      <td>NaN</td>\n",
       "      <td>NaN</td>\n",
       "      <td>NaN</td>\n",
       "    </tr>\n",
       "    <tr>\n",
       "      <th>2019-11-01 05:15:00+00:00</th>\n",
       "      <td>40.69</td>\n",
       "      <td>-95.78</td>\n",
       "      <td>NaN</td>\n",
       "      <td>NaN</td>\n",
       "      <td>NaN</td>\n",
       "      <td>NaN</td>\n",
       "      <td>NaN</td>\n",
       "      <td>NaN</td>\n",
       "      <td>NaN</td>\n",
       "      <td>NaN</td>\n",
       "      <td>...</td>\n",
       "      <td>NaN</td>\n",
       "      <td>5120390.0</td>\n",
       "      <td>dry</td>\n",
       "      <td>65.0</td>\n",
       "      <td>NaN</td>\n",
       "      <td>NaN</td>\n",
       "      <td>NaN</td>\n",
       "      <td>NaN</td>\n",
       "      <td>NaN</td>\n",
       "      <td>NaN</td>\n",
       "    </tr>\n",
       "    <tr>\n",
       "      <th>2019-11-01 05:15:00+00:00</th>\n",
       "      <td>40.69</td>\n",
       "      <td>-95.78</td>\n",
       "      <td>NaN</td>\n",
       "      <td>NaN</td>\n",
       "      <td>NaN</td>\n",
       "      <td>NaN</td>\n",
       "      <td>NaN</td>\n",
       "      <td>NaN</td>\n",
       "      <td>NaN</td>\n",
       "      <td>NaN</td>\n",
       "      <td>...</td>\n",
       "      <td>NaN</td>\n",
       "      <td>5120391.0</td>\n",
       "      <td>dry</td>\n",
       "      <td>65.0</td>\n",
       "      <td>NaN</td>\n",
       "      <td>NaN</td>\n",
       "      <td>NaN</td>\n",
       "      <td>NaN</td>\n",
       "      <td>NaN</td>\n",
       "      <td>NaN</td>\n",
       "    </tr>\n",
       "    <tr>\n",
       "      <th>2019-11-01 05:15:00+00:00</th>\n",
       "      <td>40.69</td>\n",
       "      <td>-95.78</td>\n",
       "      <td>NaN</td>\n",
       "      <td>NaN</td>\n",
       "      <td>NaN</td>\n",
       "      <td>NaN</td>\n",
       "      <td>NaN</td>\n",
       "      <td>NaN</td>\n",
       "      <td>NaN</td>\n",
       "      <td>NaN</td>\n",
       "      <td>...</td>\n",
       "      <td>NaN</td>\n",
       "      <td>5120392.0</td>\n",
       "      <td>dry</td>\n",
       "      <td>65.0</td>\n",
       "      <td>NaN</td>\n",
       "      <td>NaN</td>\n",
       "      <td>NaN</td>\n",
       "      <td>NaN</td>\n",
       "      <td>NaN</td>\n",
       "      <td>NaN</td>\n",
       "    </tr>\n",
       "    <tr>\n",
       "      <th>2019-11-01 05:15:00+00:00</th>\n",
       "      <td>40.69</td>\n",
       "      <td>-95.78</td>\n",
       "      <td>NaN</td>\n",
       "      <td>NaN</td>\n",
       "      <td>NaN</td>\n",
       "      <td>NaN</td>\n",
       "      <td>NaN</td>\n",
       "      <td>NaN</td>\n",
       "      <td>NaN</td>\n",
       "      <td>NaN</td>\n",
       "      <td>...</td>\n",
       "      <td>NaN</td>\n",
       "      <td>5120393.0</td>\n",
       "      <td>dry</td>\n",
       "      <td>65.0</td>\n",
       "      <td>NaN</td>\n",
       "      <td>NaN</td>\n",
       "      <td>NaN</td>\n",
       "      <td>NaN</td>\n",
       "      <td>NaN</td>\n",
       "      <td>NaN</td>\n",
       "    </tr>\n",
       "    <tr>\n",
       "      <th>2019-11-01 05:30:00+00:00</th>\n",
       "      <td>40.69</td>\n",
       "      <td>-95.78</td>\n",
       "      <td>NaN</td>\n",
       "      <td>NaN</td>\n",
       "      <td>NaN</td>\n",
       "      <td>NaN</td>\n",
       "      <td>NaN</td>\n",
       "      <td>NaN</td>\n",
       "      <td>NaN</td>\n",
       "      <td>NaN</td>\n",
       "      <td>...</td>\n",
       "      <td>NaN</td>\n",
       "      <td>5120390.0</td>\n",
       "      <td>dry</td>\n",
       "      <td>65.0</td>\n",
       "      <td>NaN</td>\n",
       "      <td>NaN</td>\n",
       "      <td>NaN</td>\n",
       "      <td>NaN</td>\n",
       "      <td>NaN</td>\n",
       "      <td>NaN</td>\n",
       "    </tr>\n",
       "    <tr>\n",
       "      <th>2019-11-01 05:30:00+00:00</th>\n",
       "      <td>40.69</td>\n",
       "      <td>-95.78</td>\n",
       "      <td>NaN</td>\n",
       "      <td>NaN</td>\n",
       "      <td>NaN</td>\n",
       "      <td>NaN</td>\n",
       "      <td>NaN</td>\n",
       "      <td>NaN</td>\n",
       "      <td>NaN</td>\n",
       "      <td>NaN</td>\n",
       "      <td>...</td>\n",
       "      <td>NaN</td>\n",
       "      <td>5120391.0</td>\n",
       "      <td>dry</td>\n",
       "      <td>65.0</td>\n",
       "      <td>NaN</td>\n",
       "      <td>NaN</td>\n",
       "      <td>NaN</td>\n",
       "      <td>NaN</td>\n",
       "      <td>NaN</td>\n",
       "      <td>NaN</td>\n",
       "    </tr>\n",
       "  </tbody>\n",
       "</table>\n",
       "<p>10 rows × 28 columns</p>\n",
       "</div>"
      ],
      "text/plain": [
       "                             lat    lon ts_valid  temp  dewpt  slp  rh  vis  \\\n",
       "ts_start                                                                      \n",
       "2019-11-01 05:00:00+00:00  40.69 -95.78      NaN   NaN    NaN  NaN NaN  NaN   \n",
       "2019-11-01 05:00:00+00:00  40.69 -95.78      NaN   NaN    NaN  NaN NaN  NaN   \n",
       "2019-11-01 05:00:00+00:00  40.69 -95.78      NaN   NaN    NaN  NaN NaN  NaN   \n",
       "2019-11-01 05:00:00+00:00  40.69 -95.78      NaN   NaN    NaN  NaN NaN  NaN   \n",
       "2019-11-01 05:15:00+00:00  40.69 -95.78      NaN   NaN    NaN  NaN NaN  NaN   \n",
       "2019-11-01 05:15:00+00:00  40.69 -95.78      NaN   NaN    NaN  NaN NaN  NaN   \n",
       "2019-11-01 05:15:00+00:00  40.69 -95.78      NaN   NaN    NaN  NaN NaN  NaN   \n",
       "2019-11-01 05:15:00+00:00  40.69 -95.78      NaN   NaN    NaN  NaN NaN  NaN   \n",
       "2019-11-01 05:30:00+00:00  40.69 -95.78      NaN   NaN    NaN  NaN NaN  NaN   \n",
       "2019-11-01 05:30:00+00:00  40.69 -95.78      NaN   NaN    NaN  NaN NaN  NaN   \n",
       "\n",
       "                           wspeed  wdir  ...  FE_SUN_ALTITUDE  SURF_UNIQUE_ID  \\\n",
       "ts_start                                 ...                                    \n",
       "2019-11-01 05:00:00+00:00     NaN   NaN  ...              NaN       5120390.0   \n",
       "2019-11-01 05:00:00+00:00     NaN   NaN  ...              NaN       5120391.0   \n",
       "2019-11-01 05:00:00+00:00     NaN   NaN  ...              NaN       5120392.0   \n",
       "2019-11-01 05:00:00+00:00     NaN   NaN  ...              NaN       5120393.0   \n",
       "2019-11-01 05:15:00+00:00     NaN   NaN  ...              NaN       5120390.0   \n",
       "2019-11-01 05:15:00+00:00     NaN   NaN  ...              NaN       5120391.0   \n",
       "2019-11-01 05:15:00+00:00     NaN   NaN  ...              NaN       5120392.0   \n",
       "2019-11-01 05:15:00+00:00     NaN   NaN  ...              NaN       5120393.0   \n",
       "2019-11-01 05:30:00+00:00     NaN   NaN  ...              NaN       5120390.0   \n",
       "2019-11-01 05:30:00+00:00     NaN   NaN  ...              NaN       5120391.0   \n",
       "\n",
       "                           SURF_SURFACE_CONDITION  site_id  anonym_0  \\\n",
       "ts_start                                                               \n",
       "2019-11-01 05:00:00+00:00                     dry     65.0       NaN   \n",
       "2019-11-01 05:00:00+00:00                     dry     65.0       NaN   \n",
       "2019-11-01 05:00:00+00:00                     dry     65.0       NaN   \n",
       "2019-11-01 05:00:00+00:00                     dry     65.0       NaN   \n",
       "2019-11-01 05:15:00+00:00                     dry     65.0       NaN   \n",
       "2019-11-01 05:15:00+00:00                     dry     65.0       NaN   \n",
       "2019-11-01 05:15:00+00:00                     dry     65.0       NaN   \n",
       "2019-11-01 05:15:00+00:00                     dry     65.0       NaN   \n",
       "2019-11-01 05:30:00+00:00                     dry     65.0       NaN   \n",
       "2019-11-01 05:30:00+00:00                     dry     65.0       NaN   \n",
       "\n",
       "                           anonym_1  anonym_2  anonym_3  anonym_4  anonym_5  \n",
       "ts_start                                                                     \n",
       "2019-11-01 05:00:00+00:00       NaN       NaN       NaN       NaN       NaN  \n",
       "2019-11-01 05:00:00+00:00       NaN       NaN       NaN       NaN       NaN  \n",
       "2019-11-01 05:00:00+00:00       NaN       NaN       NaN       NaN       NaN  \n",
       "2019-11-01 05:00:00+00:00       NaN       NaN       NaN       NaN       NaN  \n",
       "2019-11-01 05:15:00+00:00       NaN       NaN       NaN       NaN       NaN  \n",
       "2019-11-01 05:15:00+00:00       NaN       NaN       NaN       NaN       NaN  \n",
       "2019-11-01 05:15:00+00:00       NaN       NaN       NaN       NaN       NaN  \n",
       "2019-11-01 05:15:00+00:00       NaN       NaN       NaN       NaN       NaN  \n",
       "2019-11-01 05:30:00+00:00       NaN       NaN       NaN       NaN       NaN  \n",
       "2019-11-01 05:30:00+00:00       NaN       NaN       NaN       NaN       NaN  \n",
       "\n",
       "[10 rows x 28 columns]"
      ]
     },
     "execution_count": 7,
     "metadata": {},
     "output_type": "execute_result"
    }
   ],
   "source": [
    "df.head(10)"
   ]
  },
  {
   "cell_type": "code",
   "execution_count": 8,
   "metadata": {},
   "outputs": [
    {
     "name": "stderr",
     "output_type": "stream",
     "text": [
      "C:\\Users\\uib43221\\AppData\\Local\\Continuum\\anaconda3\\lib\\site-packages\\numpy\\lib\\function_base.py:3949: RuntimeWarning: invalid value encountered in multiply\n",
      "  x2 = take(ap, indices_above, axis=axis) * weights_above\n"
     ]
    },
    {
     "data": {
      "text/html": [
       "<div>\n",
       "<style scoped>\n",
       "    .dataframe tbody tr th:only-of-type {\n",
       "        vertical-align: middle;\n",
       "    }\n",
       "\n",
       "    .dataframe tbody tr th {\n",
       "        vertical-align: top;\n",
       "    }\n",
       "\n",
       "    .dataframe thead th {\n",
       "        text-align: right;\n",
       "    }\n",
       "</style>\n",
       "<table border=\"1\" class=\"dataframe\">\n",
       "  <thead>\n",
       "    <tr style=\"text-align: right;\">\n",
       "      <th></th>\n",
       "      <th>lat</th>\n",
       "      <th>lon</th>\n",
       "      <th>temp</th>\n",
       "      <th>dewpt</th>\n",
       "      <th>slp</th>\n",
       "      <th>rh</th>\n",
       "      <th>vis</th>\n",
       "      <th>wspeed</th>\n",
       "      <th>wdir</th>\n",
       "      <th>wgust</th>\n",
       "      <th>...</th>\n",
       "      <th>FE_HEIGHT</th>\n",
       "      <th>FE_SUN_ALTITUDE</th>\n",
       "      <th>SURF_UNIQUE_ID</th>\n",
       "      <th>site_id</th>\n",
       "      <th>anonym_0</th>\n",
       "      <th>anonym_1</th>\n",
       "      <th>anonym_2</th>\n",
       "      <th>anonym_3</th>\n",
       "      <th>anonym_4</th>\n",
       "      <th>anonym_5</th>\n",
       "    </tr>\n",
       "  </thead>\n",
       "  <tbody>\n",
       "    <tr>\n",
       "      <th>count</th>\n",
       "      <td>1.030886e+06</td>\n",
       "      <td>1.030886e+06</td>\n",
       "      <td>997291.000000</td>\n",
       "      <td>997291.000000</td>\n",
       "      <td>997291.000000</td>\n",
       "      <td>997291.000000</td>\n",
       "      <td>997291.000000</td>\n",
       "      <td>997291.000000</td>\n",
       "      <td>997291.000000</td>\n",
       "      <td>398542.000000</td>\n",
       "      <td>...</td>\n",
       "      <td>997290.000000</td>\n",
       "      <td>997290.000000</td>\n",
       "      <td>1.030884e+06</td>\n",
       "      <td>1.030884e+06</td>\n",
       "      <td>997289.000000</td>\n",
       "      <td>997289.000000</td>\n",
       "      <td>997289.000000</td>\n",
       "      <td>9.972890e+05</td>\n",
       "      <td>9.972890e+05</td>\n",
       "      <td>9.972890e+05</td>\n",
       "    </tr>\n",
       "    <tr>\n",
       "      <th>mean</th>\n",
       "      <td>4.189746e+01</td>\n",
       "      <td>-9.333642e+01</td>\n",
       "      <td>10.245164</td>\n",
       "      <td>5.958292</td>\n",
       "      <td>1017.117816</td>\n",
       "      <td>76.657330</td>\n",
       "      <td>13.261695</td>\n",
       "      <td>14.140709</td>\n",
       "      <td>209.322439</td>\n",
       "      <td>36.049611</td>\n",
       "      <td>...</td>\n",
       "      <td>249.854040</td>\n",
       "      <td>-5.877081</td>\n",
       "      <td>5.120305e+06</td>\n",
       "      <td>3.670262e+01</td>\n",
       "      <td>0.575795</td>\n",
       "      <td>0.563983</td>\n",
       "      <td>0.452725</td>\n",
       "      <td>-inf</td>\n",
       "      <td>-inf</td>\n",
       "      <td>-inf</td>\n",
       "    </tr>\n",
       "    <tr>\n",
       "      <th>std</th>\n",
       "      <td>7.259734e-01</td>\n",
       "      <td>1.534165e+00</td>\n",
       "      <td>9.882644</td>\n",
       "      <td>9.910327</td>\n",
       "      <td>7.649693</td>\n",
       "      <td>16.408161</td>\n",
       "      <td>3.962970</td>\n",
       "      <td>7.891645</td>\n",
       "      <td>91.641403</td>\n",
       "      <td>8.444377</td>\n",
       "      <td>...</td>\n",
       "      <td>104.457245</td>\n",
       "      <td>33.605708</td>\n",
       "      <td>2.019791e+02</td>\n",
       "      <td>1.901082e+01</td>\n",
       "      <td>0.144157</td>\n",
       "      <td>0.155308</td>\n",
       "      <td>0.170109</td>\n",
       "      <td>NaN</td>\n",
       "      <td>NaN</td>\n",
       "      <td>NaN</td>\n",
       "    </tr>\n",
       "    <tr>\n",
       "      <th>min</th>\n",
       "      <td>4.066000e+01</td>\n",
       "      <td>-9.623000e+01</td>\n",
       "      <td>-21.000000</td>\n",
       "      <td>-22.000000</td>\n",
       "      <td>988.180000</td>\n",
       "      <td>23.000000</td>\n",
       "      <td>0.100000</td>\n",
       "      <td>0.000000</td>\n",
       "      <td>0.000000</td>\n",
       "      <td>26.000000</td>\n",
       "      <td>...</td>\n",
       "      <td>-2.370721</td>\n",
       "      <td>-68.371615</td>\n",
       "      <td>5.120000e+06</td>\n",
       "      <td>0.000000e+00</td>\n",
       "      <td>-0.003307</td>\n",
       "      <td>-0.066985</td>\n",
       "      <td>-0.098788</td>\n",
       "      <td>-inf</td>\n",
       "      <td>-inf</td>\n",
       "      <td>-inf</td>\n",
       "    </tr>\n",
       "    <tr>\n",
       "      <th>25%</th>\n",
       "      <td>4.150000e+01</td>\n",
       "      <td>-9.440000e+01</td>\n",
       "      <td>3.000000</td>\n",
       "      <td>-1.000000</td>\n",
       "      <td>1012.370000</td>\n",
       "      <td>65.000000</td>\n",
       "      <td>11.000000</td>\n",
       "      <td>9.000000</td>\n",
       "      <td>151.000000</td>\n",
       "      <td>29.000000</td>\n",
       "      <td>...</td>\n",
       "      <td>161.936429</td>\n",
       "      <td>-36.714383</td>\n",
       "      <td>5.120130e+06</td>\n",
       "      <td>2.300000e+01</td>\n",
       "      <td>0.474923</td>\n",
       "      <td>0.453814</td>\n",
       "      <td>0.339713</td>\n",
       "      <td>-2.507496e+00</td>\n",
       "      <td>-3.049859e+00</td>\n",
       "      <td>NaN</td>\n",
       "    </tr>\n",
       "    <tr>\n",
       "      <th>50%</th>\n",
       "      <td>4.176000e+01</td>\n",
       "      <td>-9.352000e+01</td>\n",
       "      <td>10.000000</td>\n",
       "      <td>5.000000</td>\n",
       "      <td>1016.200000</td>\n",
       "      <td>79.000000</td>\n",
       "      <td>15.000000</td>\n",
       "      <td>13.000000</td>\n",
       "      <td>202.000000</td>\n",
       "      <td>34.000000</td>\n",
       "      <td>...</td>\n",
       "      <td>250.042527</td>\n",
       "      <td>-5.196642</td>\n",
       "      <td>5.120291e+06</td>\n",
       "      <td>3.700000e+01</td>\n",
       "      <td>0.572220</td>\n",
       "      <td>0.560716</td>\n",
       "      <td>0.424215</td>\n",
       "      <td>-1.646152e+00</td>\n",
       "      <td>-1.689495e+00</td>\n",
       "      <td>-5.582250e+00</td>\n",
       "    </tr>\n",
       "    <tr>\n",
       "      <th>75%</th>\n",
       "      <td>4.245000e+01</td>\n",
       "      <td>-9.201000e+01</td>\n",
       "      <td>18.000000</td>\n",
       "      <td>15.000000</td>\n",
       "      <td>1021.450000</td>\n",
       "      <td>90.000000</td>\n",
       "      <td>16.000000</td>\n",
       "      <td>19.000000</td>\n",
       "      <td>289.000000</td>\n",
       "      <td>41.000000</td>\n",
       "      <td>...</td>\n",
       "      <td>337.974425</td>\n",
       "      <td>25.225813</td>\n",
       "      <td>5.120471e+06</td>\n",
       "      <td>5.300000e+01</td>\n",
       "      <td>0.672548</td>\n",
       "      <td>0.668345</td>\n",
       "      <td>0.530082</td>\n",
       "      <td>-1.119922e+00</td>\n",
       "      <td>-1.151707e+00</td>\n",
       "      <td>-2.423528e+00</td>\n",
       "    </tr>\n",
       "    <tr>\n",
       "      <th>max</th>\n",
       "      <td>4.343000e+01</td>\n",
       "      <td>-9.051000e+01</td>\n",
       "      <td>34.000000</td>\n",
       "      <td>25.000000</td>\n",
       "      <td>1042.100000</td>\n",
       "      <td>100.000000</td>\n",
       "      <td>16.000000</td>\n",
       "      <td>55.000000</td>\n",
       "      <td>359.000000</td>\n",
       "      <td>88.000000</td>\n",
       "      <td>...</td>\n",
       "      <td>468.102960</td>\n",
       "      <td>57.589386</td>\n",
       "      <td>5.120701e+06</td>\n",
       "      <td>6.800000e+01</td>\n",
       "      <td>1.330984</td>\n",
       "      <td>1.327465</td>\n",
       "      <td>1.405108</td>\n",
       "      <td>1.077928e-01</td>\n",
       "      <td>1.512356e-01</td>\n",
       "      <td>1.786448e-01</td>\n",
       "    </tr>\n",
       "  </tbody>\n",
       "</table>\n",
       "<p>8 rows × 26 columns</p>\n",
       "</div>"
      ],
      "text/plain": [
       "                lat           lon           temp          dewpt  \\\n",
       "count  1.030886e+06  1.030886e+06  997291.000000  997291.000000   \n",
       "mean   4.189746e+01 -9.333642e+01      10.245164       5.958292   \n",
       "std    7.259734e-01  1.534165e+00       9.882644       9.910327   \n",
       "min    4.066000e+01 -9.623000e+01     -21.000000     -22.000000   \n",
       "25%    4.150000e+01 -9.440000e+01       3.000000      -1.000000   \n",
       "50%    4.176000e+01 -9.352000e+01      10.000000       5.000000   \n",
       "75%    4.245000e+01 -9.201000e+01      18.000000      15.000000   \n",
       "max    4.343000e+01 -9.051000e+01      34.000000      25.000000   \n",
       "\n",
       "                 slp             rh            vis         wspeed  \\\n",
       "count  997291.000000  997291.000000  997291.000000  997291.000000   \n",
       "mean     1017.117816      76.657330      13.261695      14.140709   \n",
       "std         7.649693      16.408161       3.962970       7.891645   \n",
       "min       988.180000      23.000000       0.100000       0.000000   \n",
       "25%      1012.370000      65.000000      11.000000       9.000000   \n",
       "50%      1016.200000      79.000000      15.000000      13.000000   \n",
       "75%      1021.450000      90.000000      16.000000      19.000000   \n",
       "max      1042.100000     100.000000      16.000000      55.000000   \n",
       "\n",
       "                wdir          wgust  ...      FE_HEIGHT  FE_SUN_ALTITUDE  \\\n",
       "count  997291.000000  398542.000000  ...  997290.000000    997290.000000   \n",
       "mean      209.322439      36.049611  ...     249.854040        -5.877081   \n",
       "std        91.641403       8.444377  ...     104.457245        33.605708   \n",
       "min         0.000000      26.000000  ...      -2.370721       -68.371615   \n",
       "25%       151.000000      29.000000  ...     161.936429       -36.714383   \n",
       "50%       202.000000      34.000000  ...     250.042527        -5.196642   \n",
       "75%       289.000000      41.000000  ...     337.974425        25.225813   \n",
       "max       359.000000      88.000000  ...     468.102960        57.589386   \n",
       "\n",
       "       SURF_UNIQUE_ID       site_id       anonym_0       anonym_1  \\\n",
       "count    1.030884e+06  1.030884e+06  997289.000000  997289.000000   \n",
       "mean     5.120305e+06  3.670262e+01       0.575795       0.563983   \n",
       "std      2.019791e+02  1.901082e+01       0.144157       0.155308   \n",
       "min      5.120000e+06  0.000000e+00      -0.003307      -0.066985   \n",
       "25%      5.120130e+06  2.300000e+01       0.474923       0.453814   \n",
       "50%      5.120291e+06  3.700000e+01       0.572220       0.560716   \n",
       "75%      5.120471e+06  5.300000e+01       0.672548       0.668345   \n",
       "max      5.120701e+06  6.800000e+01       1.330984       1.327465   \n",
       "\n",
       "            anonym_2      anonym_3      anonym_4      anonym_5  \n",
       "count  997289.000000  9.972890e+05  9.972890e+05  9.972890e+05  \n",
       "mean        0.452725          -inf          -inf          -inf  \n",
       "std         0.170109           NaN           NaN           NaN  \n",
       "min        -0.098788          -inf          -inf          -inf  \n",
       "25%         0.339713 -2.507496e+00 -3.049859e+00           NaN  \n",
       "50%         0.424215 -1.646152e+00 -1.689495e+00 -5.582250e+00  \n",
       "75%         0.530082 -1.119922e+00 -1.151707e+00 -2.423528e+00  \n",
       "max         1.405108  1.077928e-01  1.512356e-01  1.786448e-01  \n",
       "\n",
       "[8 rows x 26 columns]"
      ]
     },
     "execution_count": 8,
     "metadata": {},
     "output_type": "execute_result"
    }
   ],
   "source": [
    "df.describe()"
   ]
  },
  {
   "cell_type": "code",
   "execution_count": 9,
   "metadata": {},
   "outputs": [],
   "source": [
    "#df.isna().sum()"
   ]
  },
  {
   "cell_type": "code",
   "execution_count": 10,
   "metadata": {},
   "outputs": [
    {
     "data": {
      "text/plain": [
       "(1030886, 28)"
      ]
     },
     "execution_count": 10,
     "metadata": {},
     "output_type": "execute_result"
    }
   ],
   "source": [
    "df.shape"
   ]
  },
  {
   "cell_type": "code",
   "execution_count": 11,
   "metadata": {},
   "outputs": [],
   "source": [
    "df = df.drop(['wgust'],axis=1)"
   ]
  },
  {
   "cell_type": "code",
   "execution_count": 12,
   "metadata": {},
   "outputs": [],
   "source": [
    "df = df.drop(['ts_valid'],axis=1)"
   ]
  },
  {
   "cell_type": "code",
   "execution_count": 13,
   "metadata": {},
   "outputs": [],
   "source": [
    "import seaborn as sns\n",
    "import matplotlib.pyplot as plt"
   ]
  },
  {
   "cell_type": "code",
   "execution_count": 14,
   "metadata": {},
   "outputs": [],
   "source": [
    "#plt.figure(figsize=(20,10))\n",
    "#sns.heatmap(df.isnull() , yticklabels='False')\n"
   ]
  },
  {
   "cell_type": "code",
   "execution_count": 15,
   "metadata": {},
   "outputs": [
    {
     "data": {
      "text/plain": [
       "lat                       float64\n",
       "lon                       float64\n",
       "temp                      float64\n",
       "dewpt                     float64\n",
       "slp                       float64\n",
       "rh                        float64\n",
       "vis                       float64\n",
       "wspeed                    float64\n",
       "wdir                      float64\n",
       "pop                       float64\n",
       "precip_rate               float64\n",
       "FE_AZIMUTH                float64\n",
       "FE_ZENITH                 float64\n",
       "FE_ASCENSION              float64\n",
       "FE_DECLINATION            float64\n",
       "FE_HEIGHT                 float64\n",
       "FE_SUN_ALTITUDE           float64\n",
       "SURF_UNIQUE_ID            float64\n",
       "SURF_SURFACE_CONDITION     object\n",
       "site_id                   float64\n",
       "anonym_0                  float64\n",
       "anonym_1                  float64\n",
       "anonym_2                  float64\n",
       "anonym_3                  float64\n",
       "anonym_4                  float64\n",
       "anonym_5                  float64\n",
       "dtype: object"
      ]
     },
     "execution_count": 15,
     "metadata": {},
     "output_type": "execute_result"
    }
   ],
   "source": [
    "df.dtypes"
   ]
  },
  {
   "cell_type": "code",
   "execution_count": null,
   "metadata": {},
   "outputs": [],
   "source": []
  },
  {
   "cell_type": "code",
   "execution_count": 16,
   "metadata": {},
   "outputs": [
    {
     "data": {
      "text/plain": [
       "<matplotlib.axes._subplots.AxesSubplot at 0x226b88ffd30>"
      ]
     },
     "execution_count": 16,
     "metadata": {},
     "output_type": "execute_result"
    },
    {
     "data": {
      "image/png": "[encoded data removed]",
      "text/plain": [
       "<Figure size 432x288 with 1 Axes>"
      ]
     },
     "metadata": {
      "needs_background": "light"
     },
     "output_type": "display_data"
    }
   ],
   "source": [
    "sns.countplot(x='SURF_SURFACE_CONDITION',data = df)"
   ]
  },
  {
   "cell_type": "code",
   "execution_count": 17,
   "metadata": {},
   "outputs": [
    {
     "data": {
      "text/plain": [
       "3"
      ]
     },
     "execution_count": 17,
     "metadata": {},
     "output_type": "execute_result"
    }
   ],
   "source": [
    "df['SURF_SURFACE_CONDITION'].nunique()"
   ]
  },
  {
   "cell_type": "code",
   "execution_count": 18,
   "metadata": {},
   "outputs": [],
   "source": [
    "df1 = df['SURF_SURFACE_CONDITION']"
   ]
  },
  {
   "cell_type": "code",
   "execution_count": 19,
   "metadata": {},
   "outputs": [],
   "source": [
    "df = df.drop(['SURF_SURFACE_CONDITION'],axis=1)"
   ]
  },
  {
   "cell_type": "code",
   "execution_count": 20,
   "metadata": {},
   "outputs": [],
   "source": [
    "df = pd.concat([df,df1],axis=1)"
   ]
  },
  {
   "cell_type": "code",
   "execution_count": 21,
   "metadata": {},
   "outputs": [
    {
     "data": {
      "text/plain": [
       "178481"
      ]
     },
     "execution_count": 21,
     "metadata": {},
     "output_type": "execute_result"
    }
   ],
   "source": [
    "df['SURF_SURFACE_CONDITION'].isna().sum()"
   ]
  },
  {
   "cell_type": "code",
   "execution_count": 22,
   "metadata": {},
   "outputs": [],
   "source": [
    "df = df.dropna(axis=0)"
   ]
  },
  {
   "cell_type": "code",
   "execution_count": 23,
   "metadata": {},
   "outputs": [
    {
     "data": {
      "text/html": [
       "<div>\n",
       "<style scoped>\n",
       "    .dataframe tbody tr th:only-of-type {\n",
       "        vertical-align: middle;\n",
       "    }\n",
       "\n",
       "    .dataframe tbody tr th {\n",
       "        vertical-align: top;\n",
       "    }\n",
       "\n",
       "    .dataframe thead th {\n",
       "        text-align: right;\n",
       "    }\n",
       "</style>\n",
       "<table border=\"1\" class=\"dataframe\">\n",
       "  <thead>\n",
       "    <tr style=\"text-align: right;\">\n",
       "      <th></th>\n",
       "      <th>lat</th>\n",
       "      <th>lon</th>\n",
       "      <th>temp</th>\n",
       "      <th>dewpt</th>\n",
       "      <th>slp</th>\n",
       "      <th>rh</th>\n",
       "      <th>vis</th>\n",
       "      <th>wspeed</th>\n",
       "      <th>wdir</th>\n",
       "      <th>pop</th>\n",
       "      <th>...</th>\n",
       "      <th>FE_HEIGHT</th>\n",
       "      <th>FE_SUN_ALTITUDE</th>\n",
       "      <th>SURF_UNIQUE_ID</th>\n",
       "      <th>site_id</th>\n",
       "      <th>anonym_0</th>\n",
       "      <th>anonym_1</th>\n",
       "      <th>anonym_2</th>\n",
       "      <th>anonym_3</th>\n",
       "      <th>anonym_4</th>\n",
       "      <th>anonym_5</th>\n",
       "    </tr>\n",
       "  </thead>\n",
       "  <tbody>\n",
       "    <tr>\n",
       "      <th>count</th>\n",
       "      <td>824486.00000</td>\n",
       "      <td>824486.000000</td>\n",
       "      <td>824486.000000</td>\n",
       "      <td>824486.000000</td>\n",
       "      <td>824486.000000</td>\n",
       "      <td>824486.000000</td>\n",
       "      <td>824486.000000</td>\n",
       "      <td>824486.000000</td>\n",
       "      <td>824486.000000</td>\n",
       "      <td>824486.000000</td>\n",
       "      <td>...</td>\n",
       "      <td>824486.000000</td>\n",
       "      <td>824486.000000</td>\n",
       "      <td>8.244860e+05</td>\n",
       "      <td>824486.000000</td>\n",
       "      <td>824486.000000</td>\n",
       "      <td>824486.000000</td>\n",
       "      <td>824486.000000</td>\n",
       "      <td>8.244860e+05</td>\n",
       "      <td>8.244860e+05</td>\n",
       "      <td>8.244860e+05</td>\n",
       "    </tr>\n",
       "    <tr>\n",
       "      <th>mean</th>\n",
       "      <td>41.88185</td>\n",
       "      <td>-93.457637</td>\n",
       "      <td>10.224753</td>\n",
       "      <td>5.919034</td>\n",
       "      <td>1017.147430</td>\n",
       "      <td>76.593256</td>\n",
       "      <td>13.339646</td>\n",
       "      <td>14.135432</td>\n",
       "      <td>209.577018</td>\n",
       "      <td>9.049276</td>\n",
       "      <td>...</td>\n",
       "      <td>249.928963</td>\n",
       "      <td>-5.730836</td>\n",
       "      <td>5.120314e+06</td>\n",
       "      <td>37.712821</td>\n",
       "      <td>0.576038</td>\n",
       "      <td>0.564430</td>\n",
       "      <td>0.450179</td>\n",
       "      <td>-inf</td>\n",
       "      <td>-inf</td>\n",
       "      <td>-inf</td>\n",
       "    </tr>\n",
       "    <tr>\n",
       "      <th>std</th>\n",
       "      <td>0.74086</td>\n",
       "      <td>1.522293</td>\n",
       "      <td>9.886755</td>\n",
       "      <td>9.893919</td>\n",
       "      <td>7.664413</td>\n",
       "      <td>16.516060</td>\n",
       "      <td>3.919044</td>\n",
       "      <td>7.901267</td>\n",
       "      <td>91.457053</td>\n",
       "      <td>21.669928</td>\n",
       "      <td>...</td>\n",
       "      <td>104.885697</td>\n",
       "      <td>33.682712</td>\n",
       "      <td>1.953039e+02</td>\n",
       "      <td>18.844869</td>\n",
       "      <td>0.144060</td>\n",
       "      <td>0.155116</td>\n",
       "      <td>0.168794</td>\n",
       "      <td>NaN</td>\n",
       "      <td>NaN</td>\n",
       "      <td>NaN</td>\n",
       "    </tr>\n",
       "    <tr>\n",
       "      <th>min</th>\n",
       "      <td>40.66000</td>\n",
       "      <td>-96.230000</td>\n",
       "      <td>-21.000000</td>\n",
       "      <td>-22.000000</td>\n",
       "      <td>988.180000</td>\n",
       "      <td>23.000000</td>\n",
       "      <td>0.100000</td>\n",
       "      <td>0.000000</td>\n",
       "      <td>0.000000</td>\n",
       "      <td>0.000000</td>\n",
       "      <td>...</td>\n",
       "      <td>31.259989</td>\n",
       "      <td>-68.371615</td>\n",
       "      <td>5.120000e+06</td>\n",
       "      <td>0.000000</td>\n",
       "      <td>-0.003307</td>\n",
       "      <td>-0.066985</td>\n",
       "      <td>-0.098788</td>\n",
       "      <td>-inf</td>\n",
       "      <td>-inf</td>\n",
       "      <td>-inf</td>\n",
       "    </tr>\n",
       "    <tr>\n",
       "      <th>25%</th>\n",
       "      <td>41.50000</td>\n",
       "      <td>-94.730000</td>\n",
       "      <td>3.000000</td>\n",
       "      <td>-1.000000</td>\n",
       "      <td>1012.370000</td>\n",
       "      <td>65.000000</td>\n",
       "      <td>12.000000</td>\n",
       "      <td>9.000000</td>\n",
       "      <td>152.000000</td>\n",
       "      <td>0.000000</td>\n",
       "      <td>...</td>\n",
       "      <td>161.299291</td>\n",
       "      <td>-36.682619</td>\n",
       "      <td>5.120150e+06</td>\n",
       "      <td>24.000000</td>\n",
       "      <td>0.475274</td>\n",
       "      <td>0.454515</td>\n",
       "      <td>0.338429</td>\n",
       "      <td>-2.500613e+00</td>\n",
       "      <td>-3.034515e+00</td>\n",
       "      <td>-inf</td>\n",
       "    </tr>\n",
       "    <tr>\n",
       "      <th>50%</th>\n",
       "      <td>41.76000</td>\n",
       "      <td>-93.570000</td>\n",
       "      <td>10.000000</td>\n",
       "      <td>5.000000</td>\n",
       "      <td>1016.240000</td>\n",
       "      <td>79.000000</td>\n",
       "      <td>15.000000</td>\n",
       "      <td>13.000000</td>\n",
       "      <td>202.000000</td>\n",
       "      <td>0.000000</td>\n",
       "      <td>...</td>\n",
       "      <td>250.119152</td>\n",
       "      <td>-4.938489</td>\n",
       "      <td>5.120302e+06</td>\n",
       "      <td>38.000000</td>\n",
       "      <td>0.572626</td>\n",
       "      <td>0.561384</td>\n",
       "      <td>0.422204</td>\n",
       "      <td>-1.639032e+00</td>\n",
       "      <td>-1.682373e+00</td>\n",
       "      <td>-5.599968e+00</td>\n",
       "    </tr>\n",
       "    <tr>\n",
       "      <th>75%</th>\n",
       "      <td>42.45000</td>\n",
       "      <td>-92.010000</td>\n",
       "      <td>18.000000</td>\n",
       "      <td>15.000000</td>\n",
       "      <td>1021.510000</td>\n",
       "      <td>90.000000</td>\n",
       "      <td>16.000000</td>\n",
       "      <td>19.000000</td>\n",
       "      <td>289.000000</td>\n",
       "      <td>10.000000</td>\n",
       "      <td>...</td>\n",
       "      <td>338.924003</td>\n",
       "      <td>25.457548</td>\n",
       "      <td>5.120480e+06</td>\n",
       "      <td>53.000000</td>\n",
       "      <td>0.672732</td>\n",
       "      <td>0.668790</td>\n",
       "      <td>0.526384</td>\n",
       "      <td>-1.119552e+00</td>\n",
       "      <td>-1.150301e+00</td>\n",
       "      <td>-2.717386e+00</td>\n",
       "    </tr>\n",
       "    <tr>\n",
       "      <th>max</th>\n",
       "      <td>43.43000</td>\n",
       "      <td>-90.510000</td>\n",
       "      <td>34.000000</td>\n",
       "      <td>25.000000</td>\n",
       "      <td>1042.100000</td>\n",
       "      <td>100.000000</td>\n",
       "      <td>16.000000</td>\n",
       "      <td>55.000000</td>\n",
       "      <td>359.000000</td>\n",
       "      <td>100.000000</td>\n",
       "      <td>...</td>\n",
       "      <td>468.102960</td>\n",
       "      <td>57.589386</td>\n",
       "      <td>5.120701e+06</td>\n",
       "      <td>68.000000</td>\n",
       "      <td>1.306558</td>\n",
       "      <td>1.323777</td>\n",
       "      <td>1.368052</td>\n",
       "      <td>1.077928e-01</td>\n",
       "      <td>1.512356e-01</td>\n",
       "      <td>1.786448e-01</td>\n",
       "    </tr>\n",
       "  </tbody>\n",
       "</table>\n",
       "<p>8 rows × 25 columns</p>\n",
       "</div>"
      ],
      "text/plain": [
       "                lat            lon           temp          dewpt  \\\n",
       "count  824486.00000  824486.000000  824486.000000  824486.000000   \n",
       "mean       41.88185     -93.457637      10.224753       5.919034   \n",
       "std         0.74086       1.522293       9.886755       9.893919   \n",
       "min        40.66000     -96.230000     -21.000000     -22.000000   \n",
       "25%        41.50000     -94.730000       3.000000      -1.000000   \n",
       "50%        41.76000     -93.570000      10.000000       5.000000   \n",
       "75%        42.45000     -92.010000      18.000000      15.000000   \n",
       "max        43.43000     -90.510000      34.000000      25.000000   \n",
       "\n",
       "                 slp             rh            vis         wspeed  \\\n",
       "count  824486.000000  824486.000000  824486.000000  824486.000000   \n",
       "mean     1017.147430      76.593256      13.339646      14.135432   \n",
       "std         7.664413      16.516060       3.919044       7.901267   \n",
       "min       988.180000      23.000000       0.100000       0.000000   \n",
       "25%      1012.370000      65.000000      12.000000       9.000000   \n",
       "50%      1016.240000      79.000000      15.000000      13.000000   \n",
       "75%      1021.510000      90.000000      16.000000      19.000000   \n",
       "max      1042.100000     100.000000      16.000000      55.000000   \n",
       "\n",
       "                wdir            pop  ...      FE_HEIGHT  FE_SUN_ALTITUDE  \\\n",
       "count  824486.000000  824486.000000  ...  824486.000000    824486.000000   \n",
       "mean      209.577018       9.049276  ...     249.928963        -5.730836   \n",
       "std        91.457053      21.669928  ...     104.885697        33.682712   \n",
       "min         0.000000       0.000000  ...      31.259989       -68.371615   \n",
       "25%       152.000000       0.000000  ...     161.299291       -36.682619   \n",
       "50%       202.000000       0.000000  ...     250.119152        -4.938489   \n",
       "75%       289.000000      10.000000  ...     338.924003        25.457548   \n",
       "max       359.000000     100.000000  ...     468.102960        57.589386   \n",
       "\n",
       "       SURF_UNIQUE_ID        site_id       anonym_0       anonym_1  \\\n",
       "count    8.244860e+05  824486.000000  824486.000000  824486.000000   \n",
       "mean     5.120314e+06      37.712821       0.576038       0.564430   \n",
       "std      1.953039e+02      18.844869       0.144060       0.155116   \n",
       "min      5.120000e+06       0.000000      -0.003307      -0.066985   \n",
       "25%      5.120150e+06      24.000000       0.475274       0.454515   \n",
       "50%      5.120302e+06      38.000000       0.572626       0.561384   \n",
       "75%      5.120480e+06      53.000000       0.672732       0.668790   \n",
       "max      5.120701e+06      68.000000       1.306558       1.323777   \n",
       "\n",
       "            anonym_2      anonym_3      anonym_4      anonym_5  \n",
       "count  824486.000000  8.244860e+05  8.244860e+05  8.244860e+05  \n",
       "mean        0.450179          -inf          -inf          -inf  \n",
       "std         0.168794           NaN           NaN           NaN  \n",
       "min        -0.098788          -inf          -inf          -inf  \n",
       "25%         0.338429 -2.500613e+00 -3.034515e+00          -inf  \n",
       "50%         0.422204 -1.639032e+00 -1.682373e+00 -5.599968e+00  \n",
       "75%         0.526384 -1.119552e+00 -1.150301e+00 -2.717386e+00  \n",
       "max         1.368052  1.077928e-01  1.512356e-01  1.786448e-01  \n",
       "\n",
       "[8 rows x 25 columns]"
      ]
     },
     "execution_count": 23,
     "metadata": {},
     "output_type": "execute_result"
    }
   ],
   "source": [
    "df.describe()"
   ]
  },
  {
   "cell_type": "code",
   "execution_count": null,
   "metadata": {},
   "outputs": [],
   "source": []
  },
  {
   "cell_type": "code",
   "execution_count": 24,
   "metadata": {},
   "outputs": [
    {
     "data": {
      "text/html": [
       "<div>\n",
       "<style scoped>\n",
       "    .dataframe tbody tr th:only-of-type {\n",
       "        vertical-align: middle;\n",
       "    }\n",
       "\n",
       "    .dataframe tbody tr th {\n",
       "        vertical-align: top;\n",
       "    }\n",
       "\n",
       "    .dataframe thead th {\n",
       "        text-align: right;\n",
       "    }\n",
       "</style>\n",
       "<table border=\"1\" class=\"dataframe\">\n",
       "  <thead>\n",
       "    <tr style=\"text-align: right;\">\n",
       "      <th></th>\n",
       "      <th>SURF_SURFACE_CONDITION</th>\n",
       "    </tr>\n",
       "    <tr>\n",
       "      <th>ts_start</th>\n",
       "      <th></th>\n",
       "    </tr>\n",
       "  </thead>\n",
       "  <tbody>\n",
       "    <tr>\n",
       "      <th>2019-11-02 04:15:00+00:00</th>\n",
       "      <td>wet</td>\n",
       "    </tr>\n",
       "    <tr>\n",
       "      <th>2019-11-02 04:15:00+00:00</th>\n",
       "      <td>dry</td>\n",
       "    </tr>\n",
       "    <tr>\n",
       "      <th>2019-11-02 04:15:00+00:00</th>\n",
       "      <td>dry</td>\n",
       "    </tr>\n",
       "    <tr>\n",
       "      <th>2019-11-02 04:15:00+00:00</th>\n",
       "      <td>wet</td>\n",
       "    </tr>\n",
       "    <tr>\n",
       "      <th>2019-11-02 04:30:00+00:00</th>\n",
       "      <td>wet</td>\n",
       "    </tr>\n",
       "  </tbody>\n",
       "</table>\n",
       "</div>"
      ],
      "text/plain": [
       "                          SURF_SURFACE_CONDITION\n",
       "ts_start                                        \n",
       "2019-11-02 04:15:00+00:00                    wet\n",
       "2019-11-02 04:15:00+00:00                    dry\n",
       "2019-11-02 04:15:00+00:00                    dry\n",
       "2019-11-02 04:15:00+00:00                    wet\n",
       "2019-11-02 04:30:00+00:00                    wet"
      ]
     },
     "execution_count": 24,
     "metadata": {},
     "output_type": "execute_result"
    }
   ],
   "source": [
    "obj_df = df.select_dtypes(include = ['object']).copy()\n",
    "obj_df.head()"
   ]
  },
  {
   "cell_type": "code",
   "execution_count": 25,
   "metadata": {},
   "outputs": [],
   "source": [
    "obj_df[\"SURF_SURFACE_CONDITION\"] = obj_df[\"SURF_SURFACE_CONDITION\"].astype('category')"
   ]
  },
  {
   "cell_type": "code",
   "execution_count": 26,
   "metadata": {},
   "outputs": [],
   "source": [
    "obj_df[\"SURF_SURFACE_CONDITION\"] = obj_df[\"SURF_SURFACE_CONDITION\"].cat.codes"
   ]
  },
  {
   "cell_type": "code",
   "execution_count": 27,
   "metadata": {},
   "outputs": [
    {
     "data": {
      "text/plain": [
       "SURF_SURFACE_CONDITION    3\n",
       "dtype: int64"
      ]
     },
     "execution_count": 27,
     "metadata": {},
     "output_type": "execute_result"
    }
   ],
   "source": [
    "obj_df.nunique()"
   ]
  },
  {
   "cell_type": "code",
   "execution_count": 28,
   "metadata": {},
   "outputs": [],
   "source": [
    "obj_df = obj_df.rename(columns={'SURF_SURFACE_CONDITION':'Surface_Condition'})"
   ]
  },
  {
   "cell_type": "code",
   "execution_count": 29,
   "metadata": {},
   "outputs": [
    {
     "data": {
      "text/html": [
       "<div>\n",
       "<style scoped>\n",
       "    .dataframe tbody tr th:only-of-type {\n",
       "        vertical-align: middle;\n",
       "    }\n",
       "\n",
       "    .dataframe tbody tr th {\n",
       "        vertical-align: top;\n",
       "    }\n",
       "\n",
       "    .dataframe thead th {\n",
       "        text-align: right;\n",
       "    }\n",
       "</style>\n",
       "<table border=\"1\" class=\"dataframe\">\n",
       "  <thead>\n",
       "    <tr style=\"text-align: right;\">\n",
       "      <th></th>\n",
       "      <th>Surface_Condition</th>\n",
       "    </tr>\n",
       "    <tr>\n",
       "      <th>ts_start</th>\n",
       "      <th></th>\n",
       "    </tr>\n",
       "  </thead>\n",
       "  <tbody>\n",
       "    <tr>\n",
       "      <th>2019-11-02 04:15:00+00:00</th>\n",
       "      <td>2</td>\n",
       "    </tr>\n",
       "    <tr>\n",
       "      <th>2019-11-02 04:15:00+00:00</th>\n",
       "      <td>0</td>\n",
       "    </tr>\n",
       "    <tr>\n",
       "      <th>2019-11-02 04:15:00+00:00</th>\n",
       "      <td>0</td>\n",
       "    </tr>\n",
       "    <tr>\n",
       "      <th>2019-11-02 04:15:00+00:00</th>\n",
       "      <td>2</td>\n",
       "    </tr>\n",
       "    <tr>\n",
       "      <th>2019-11-02 04:30:00+00:00</th>\n",
       "      <td>2</td>\n",
       "    </tr>\n",
       "  </tbody>\n",
       "</table>\n",
       "</div>"
      ],
      "text/plain": [
       "                           Surface_Condition\n",
       "ts_start                                    \n",
       "2019-11-02 04:15:00+00:00                  2\n",
       "2019-11-02 04:15:00+00:00                  0\n",
       "2019-11-02 04:15:00+00:00                  0\n",
       "2019-11-02 04:15:00+00:00                  2\n",
       "2019-11-02 04:30:00+00:00                  2"
      ]
     },
     "execution_count": 29,
     "metadata": {},
     "output_type": "execute_result"
    }
   ],
   "source": [
    "obj_df.head()"
   ]
  },
  {
   "cell_type": "code",
   "execution_count": 30,
   "metadata": {},
   "outputs": [],
   "source": [
    "df = pd.concat([df,obj_df],axis=1)"
   ]
  },
  {
   "cell_type": "code",
   "execution_count": 31,
   "metadata": {},
   "outputs": [],
   "source": [
    "df_copy = df"
   ]
  },
  {
   "cell_type": "code",
   "execution_count": 32,
   "metadata": {},
   "outputs": [],
   "source": [
    "df = df_copy"
   ]
  },
  {
   "cell_type": "code",
   "execution_count": 33,
   "metadata": {},
   "outputs": [
    {
     "data": {
      "text/plain": [
       "Index(['lat', 'lon', 'temp', 'dewpt', 'slp', 'rh', 'vis', 'wspeed', 'wdir',\n",
       "       'pop', 'precip_rate', 'FE_AZIMUTH', 'FE_ZENITH', 'FE_ASCENSION',\n",
       "       'FE_DECLINATION', 'FE_HEIGHT', 'FE_SUN_ALTITUDE', 'SURF_UNIQUE_ID',\n",
       "       'site_id', 'anonym_0', 'anonym_1', 'anonym_2', 'anonym_3', 'anonym_4',\n",
       "       'anonym_5', 'SURF_SURFACE_CONDITION', 'Surface_Condition'],\n",
       "      dtype='object')"
      ]
     },
     "execution_count": 33,
     "metadata": {},
     "output_type": "execute_result"
    }
   ],
   "source": [
    "df_copy.columns"
   ]
  },
  {
   "cell_type": "code",
   "execution_count": 34,
   "metadata": {},
   "outputs": [
    {
     "data": {
      "text/html": [
       "<div>\n",
       "<style scoped>\n",
       "    .dataframe tbody tr th:only-of-type {\n",
       "        vertical-align: middle;\n",
       "    }\n",
       "\n",
       "    .dataframe tbody tr th {\n",
       "        vertical-align: top;\n",
       "    }\n",
       "\n",
       "    .dataframe thead th {\n",
       "        text-align: right;\n",
       "    }\n",
       "</style>\n",
       "<table border=\"1\" class=\"dataframe\">\n",
       "  <thead>\n",
       "    <tr style=\"text-align: right;\">\n",
       "      <th></th>\n",
       "      <th>lat</th>\n",
       "      <th>lon</th>\n",
       "      <th>temp</th>\n",
       "      <th>dewpt</th>\n",
       "      <th>slp</th>\n",
       "      <th>rh</th>\n",
       "      <th>vis</th>\n",
       "      <th>wspeed</th>\n",
       "      <th>wdir</th>\n",
       "      <th>pop</th>\n",
       "      <th>...</th>\n",
       "      <th>SURF_UNIQUE_ID</th>\n",
       "      <th>site_id</th>\n",
       "      <th>anonym_0</th>\n",
       "      <th>anonym_1</th>\n",
       "      <th>anonym_2</th>\n",
       "      <th>anonym_3</th>\n",
       "      <th>anonym_4</th>\n",
       "      <th>anonym_5</th>\n",
       "      <th>SURF_SURFACE_CONDITION</th>\n",
       "      <th>Surface_Condition</th>\n",
       "    </tr>\n",
       "    <tr>\n",
       "      <th>ts_start</th>\n",
       "      <th></th>\n",
       "      <th></th>\n",
       "      <th></th>\n",
       "      <th></th>\n",
       "      <th></th>\n",
       "      <th></th>\n",
       "      <th></th>\n",
       "      <th></th>\n",
       "      <th></th>\n",
       "      <th></th>\n",
       "      <th></th>\n",
       "      <th></th>\n",
       "      <th></th>\n",
       "      <th></th>\n",
       "      <th></th>\n",
       "      <th></th>\n",
       "      <th></th>\n",
       "      <th></th>\n",
       "      <th></th>\n",
       "      <th></th>\n",
       "      <th></th>\n",
       "    </tr>\n",
       "  </thead>\n",
       "  <tbody>\n",
       "    <tr>\n",
       "      <th>2019-11-02 04:15:00+00:00</th>\n",
       "      <td>40.69</td>\n",
       "      <td>-95.78</td>\n",
       "      <td>3.0</td>\n",
       "      <td>0.0</td>\n",
       "      <td>1027.0</td>\n",
       "      <td>77.0</td>\n",
       "      <td>16.0</td>\n",
       "      <td>15.0</td>\n",
       "      <td>301.0</td>\n",
       "      <td>0.0</td>\n",
       "      <td>...</td>\n",
       "      <td>5120390.0</td>\n",
       "      <td>65.0</td>\n",
       "      <td>0.857639</td>\n",
       "      <td>0.470287</td>\n",
       "      <td>0.354746</td>\n",
       "      <td>-1.272234</td>\n",
       "      <td>-1.350717</td>\n",
       "      <td>-inf</td>\n",
       "      <td>wet</td>\n",
       "      <td>2</td>\n",
       "    </tr>\n",
       "    <tr>\n",
       "      <th>2019-11-02 04:15:00+00:00</th>\n",
       "      <td>40.69</td>\n",
       "      <td>-95.78</td>\n",
       "      <td>3.0</td>\n",
       "      <td>0.0</td>\n",
       "      <td>1027.0</td>\n",
       "      <td>77.0</td>\n",
       "      <td>16.0</td>\n",
       "      <td>15.0</td>\n",
       "      <td>301.0</td>\n",
       "      <td>0.0</td>\n",
       "      <td>...</td>\n",
       "      <td>5120391.0</td>\n",
       "      <td>65.0</td>\n",
       "      <td>0.631902</td>\n",
       "      <td>0.663599</td>\n",
       "      <td>0.224475</td>\n",
       "      <td>-1.215891</td>\n",
       "      <td>-1.283653</td>\n",
       "      <td>-inf</td>\n",
       "      <td>dry</td>\n",
       "      <td>0</td>\n",
       "    </tr>\n",
       "    <tr>\n",
       "      <th>2019-11-02 04:15:00+00:00</th>\n",
       "      <td>40.69</td>\n",
       "      <td>-95.78</td>\n",
       "      <td>3.0</td>\n",
       "      <td>0.0</td>\n",
       "      <td>1027.0</td>\n",
       "      <td>77.0</td>\n",
       "      <td>16.0</td>\n",
       "      <td>15.0</td>\n",
       "      <td>301.0</td>\n",
       "      <td>0.0</td>\n",
       "      <td>...</td>\n",
       "      <td>5120392.0</td>\n",
       "      <td>65.0</td>\n",
       "      <td>0.669398</td>\n",
       "      <td>0.582117</td>\n",
       "      <td>0.453220</td>\n",
       "      <td>-1.093798</td>\n",
       "      <td>-1.233569</td>\n",
       "      <td>-inf</td>\n",
       "      <td>dry</td>\n",
       "      <td>0</td>\n",
       "    </tr>\n",
       "    <tr>\n",
       "      <th>2019-11-02 04:15:00+00:00</th>\n",
       "      <td>40.69</td>\n",
       "      <td>-95.78</td>\n",
       "      <td>3.0</td>\n",
       "      <td>0.0</td>\n",
       "      <td>1027.0</td>\n",
       "      <td>77.0</td>\n",
       "      <td>16.0</td>\n",
       "      <td>15.0</td>\n",
       "      <td>301.0</td>\n",
       "      <td>0.0</td>\n",
       "      <td>...</td>\n",
       "      <td>5120393.0</td>\n",
       "      <td>65.0</td>\n",
       "      <td>0.739336</td>\n",
       "      <td>0.575585</td>\n",
       "      <td>0.270314</td>\n",
       "      <td>-1.095513</td>\n",
       "      <td>-1.241008</td>\n",
       "      <td>-inf</td>\n",
       "      <td>wet</td>\n",
       "      <td>2</td>\n",
       "    </tr>\n",
       "    <tr>\n",
       "      <th>2019-11-02 04:30:00+00:00</th>\n",
       "      <td>40.69</td>\n",
       "      <td>-95.78</td>\n",
       "      <td>3.0</td>\n",
       "      <td>0.0</td>\n",
       "      <td>1027.1</td>\n",
       "      <td>78.0</td>\n",
       "      <td>16.0</td>\n",
       "      <td>15.0</td>\n",
       "      <td>301.0</td>\n",
       "      <td>0.0</td>\n",
       "      <td>...</td>\n",
       "      <td>5120390.0</td>\n",
       "      <td>65.0</td>\n",
       "      <td>0.551431</td>\n",
       "      <td>0.624262</td>\n",
       "      <td>0.327368</td>\n",
       "      <td>-1.113647</td>\n",
       "      <td>-1.275418</td>\n",
       "      <td>-inf</td>\n",
       "      <td>wet</td>\n",
       "      <td>2</td>\n",
       "    </tr>\n",
       "  </tbody>\n",
       "</table>\n",
       "<p>5 rows × 27 columns</p>\n",
       "</div>"
      ],
      "text/plain": [
       "                             lat    lon  temp  dewpt     slp    rh   vis  \\\n",
       "ts_start                                                                   \n",
       "2019-11-02 04:15:00+00:00  40.69 -95.78   3.0    0.0  1027.0  77.0  16.0   \n",
       "2019-11-02 04:15:00+00:00  40.69 -95.78   3.0    0.0  1027.0  77.0  16.0   \n",
       "2019-11-02 04:15:00+00:00  40.69 -95.78   3.0    0.0  1027.0  77.0  16.0   \n",
       "2019-11-02 04:15:00+00:00  40.69 -95.78   3.0    0.0  1027.0  77.0  16.0   \n",
       "2019-11-02 04:30:00+00:00  40.69 -95.78   3.0    0.0  1027.1  78.0  16.0   \n",
       "\n",
       "                           wspeed   wdir  pop  ...  SURF_UNIQUE_ID  site_id  \\\n",
       "ts_start                                       ...                            \n",
       "2019-11-02 04:15:00+00:00    15.0  301.0  0.0  ...       5120390.0     65.0   \n",
       "2019-11-02 04:15:00+00:00    15.0  301.0  0.0  ...       5120391.0     65.0   \n",
       "2019-11-02 04:15:00+00:00    15.0  301.0  0.0  ...       5120392.0     65.0   \n",
       "2019-11-02 04:15:00+00:00    15.0  301.0  0.0  ...       5120393.0     65.0   \n",
       "2019-11-02 04:30:00+00:00    15.0  301.0  0.0  ...       5120390.0     65.0   \n",
       "\n",
       "                           anonym_0  anonym_1  anonym_2  anonym_3  anonym_4  \\\n",
       "ts_start                                                                      \n",
       "2019-11-02 04:15:00+00:00  0.857639  0.470287  0.354746 -1.272234 -1.350717   \n",
       "2019-11-02 04:15:00+00:00  0.631902  0.663599  0.224475 -1.215891 -1.283653   \n",
       "2019-11-02 04:15:00+00:00  0.669398  0.582117  0.453220 -1.093798 -1.233569   \n",
       "2019-11-02 04:15:00+00:00  0.739336  0.575585  0.270314 -1.095513 -1.241008   \n",
       "2019-11-02 04:30:00+00:00  0.551431  0.624262  0.327368 -1.113647 -1.275418   \n",
       "\n",
       "                           anonym_5  SURF_SURFACE_CONDITION  Surface_Condition  \n",
       "ts_start                                                                        \n",
       "2019-11-02 04:15:00+00:00      -inf                     wet                  2  \n",
       "2019-11-02 04:15:00+00:00      -inf                     dry                  0  \n",
       "2019-11-02 04:15:00+00:00      -inf                     dry                  0  \n",
       "2019-11-02 04:15:00+00:00      -inf                     wet                  2  \n",
       "2019-11-02 04:30:00+00:00      -inf                     wet                  2  \n",
       "\n",
       "[5 rows x 27 columns]"
      ]
     },
     "execution_count": 34,
     "metadata": {},
     "output_type": "execute_result"
    }
   ],
   "source": [
    "df.head()"
   ]
  },
  {
   "cell_type": "code",
   "execution_count": 35,
   "metadata": {},
   "outputs": [],
   "source": [
    "df = df.drop(['SURF_SURFACE_CONDITION'],axis=1)"
   ]
  },
  {
   "cell_type": "code",
   "execution_count": 36,
   "metadata": {},
   "outputs": [],
   "source": [
    "import numpy as np"
   ]
  },
  {
   "cell_type": "code",
   "execution_count": 37,
   "metadata": {},
   "outputs": [],
   "source": [
    "df = np.float32(df)"
   ]
  },
  {
   "cell_type": "code",
   "execution_count": 38,
   "metadata": {},
   "outputs": [
    {
     "data": {
      "text/plain": [
       "numpy.ndarray"
      ]
     },
     "execution_count": 38,
     "metadata": {},
     "output_type": "execute_result"
    }
   ],
   "source": [
    "type(df)"
   ]
  },
  {
   "cell_type": "code",
   "execution_count": 39,
   "metadata": {},
   "outputs": [
    {
     "data": {
      "text/plain": [
       "array([[ 40.69      , -95.78      ,   3.        , ...,  -1.3507167 ,\n",
       "                -inf,   2.        ],\n",
       "       [ 40.69      , -95.78      ,   3.        , ...,  -1.2836528 ,\n",
       "                -inf,   0.        ],\n",
       "       [ 40.69      , -95.78      ,   3.        , ...,  -1.2335694 ,\n",
       "                -inf,   0.        ],\n",
       "       ...,\n",
       "       [ 43.39      , -93.35      ,  17.        , ...,  -3.2967927 ,\n",
       "         -0.36481017,   2.        ],\n",
       "       [ 43.39      , -93.35      ,  17.        , ...,  -3.5449846 ,\n",
       "         -0.39483804,   0.        ],\n",
       "       [ 43.39      , -93.35      ,  17.        , ...,  -3.512642  ,\n",
       "         -0.4753294 ,   2.        ]], dtype=float32)"
      ]
     },
     "execution_count": 39,
     "metadata": {},
     "output_type": "execute_result"
    }
   ],
   "source": [
    "df"
   ]
  },
  {
   "cell_type": "code",
   "execution_count": 40,
   "metadata": {},
   "outputs": [
    {
     "data": {
      "text/plain": [
       "False"
      ]
     },
     "execution_count": 40,
     "metadata": {},
     "output_type": "execute_result"
    }
   ],
   "source": [
    "np.any(np.isnan(df))"
   ]
  },
  {
   "cell_type": "code",
   "execution_count": 41,
   "metadata": {},
   "outputs": [
    {
     "data": {
      "text/plain": [
       "False"
      ]
     },
     "execution_count": 41,
     "metadata": {},
     "output_type": "execute_result"
    }
   ],
   "source": [
    "np.all(np.isfinite(df))"
   ]
  },
  {
   "cell_type": "code",
   "execution_count": 42,
   "metadata": {},
   "outputs": [],
   "source": [
    "df = pd.DataFrame(df)"
   ]
  },
  {
   "cell_type": "code",
   "execution_count": null,
   "metadata": {},
   "outputs": [],
   "source": []
  },
  {
   "cell_type": "code",
   "execution_count": 43,
   "metadata": {},
   "outputs": [],
   "source": [
    "df = df.rename(columns={0:'lat',1: 'lon', 2:'temp',3: 'dewpt',4: 'slp',5: 'rh',6: 'vis',7: 'wspeed',8: 'wdir',\n",
    "      9: 'pop',10: 'precip_rate',11: 'FE_AZIMUTH',12: 'FE_ZENITH',13: 'FE_ASCENSION',\n",
    "      14: 'FE_DECLINATION',15: 'FE_HEIGHT',16: 'FE_SUN_ALTITUDE',17: 'SURF_UNIQUE_ID',\n",
    "      18: 'site_id',19: 'anonym_0', 20:'anonym_1',21: 'anonym_2',22: 'anonym_3',23: 'anonym_4',\n",
    "      24: 'anonym_5',  25:'Surface_Condition'})"
   ]
  },
  {
   "cell_type": "code",
   "execution_count": null,
   "metadata": {},
   "outputs": [],
   "source": []
  },
  {
   "cell_type": "code",
   "execution_count": 44,
   "metadata": {},
   "outputs": [
    {
     "data": {
      "text/html": [
       "<div>\n",
       "<style scoped>\n",
       "    .dataframe tbody tr th:only-of-type {\n",
       "        vertical-align: middle;\n",
       "    }\n",
       "\n",
       "    .dataframe tbody tr th {\n",
       "        vertical-align: top;\n",
       "    }\n",
       "\n",
       "    .dataframe thead th {\n",
       "        text-align: right;\n",
       "    }\n",
       "</style>\n",
       "<table border=\"1\" class=\"dataframe\">\n",
       "  <thead>\n",
       "    <tr style=\"text-align: right;\">\n",
       "      <th></th>\n",
       "      <th>lat</th>\n",
       "      <th>lon</th>\n",
       "      <th>temp</th>\n",
       "      <th>dewpt</th>\n",
       "      <th>slp</th>\n",
       "      <th>rh</th>\n",
       "      <th>vis</th>\n",
       "      <th>wspeed</th>\n",
       "      <th>wdir</th>\n",
       "      <th>pop</th>\n",
       "      <th>...</th>\n",
       "      <th>FE_SUN_ALTITUDE</th>\n",
       "      <th>SURF_UNIQUE_ID</th>\n",
       "      <th>site_id</th>\n",
       "      <th>anonym_0</th>\n",
       "      <th>anonym_1</th>\n",
       "      <th>anonym_2</th>\n",
       "      <th>anonym_3</th>\n",
       "      <th>anonym_4</th>\n",
       "      <th>anonym_5</th>\n",
       "      <th>Surface_Condition</th>\n",
       "    </tr>\n",
       "  </thead>\n",
       "  <tbody>\n",
       "    <tr>\n",
       "      <th>0</th>\n",
       "      <td>40.689999</td>\n",
       "      <td>-95.779999</td>\n",
       "      <td>3.0</td>\n",
       "      <td>0.0</td>\n",
       "      <td>1027.000000</td>\n",
       "      <td>77.0</td>\n",
       "      <td>16.0</td>\n",
       "      <td>15.0</td>\n",
       "      <td>301.0</td>\n",
       "      <td>0.0</td>\n",
       "      <td>...</td>\n",
       "      <td>-54.323242</td>\n",
       "      <td>5120390.0</td>\n",
       "      <td>65.0</td>\n",
       "      <td>0.857639</td>\n",
       "      <td>0.470287</td>\n",
       "      <td>0.354746</td>\n",
       "      <td>-1.272234</td>\n",
       "      <td>-1.350717</td>\n",
       "      <td>-inf</td>\n",
       "      <td>2.0</td>\n",
       "    </tr>\n",
       "    <tr>\n",
       "      <th>1</th>\n",
       "      <td>40.689999</td>\n",
       "      <td>-95.779999</td>\n",
       "      <td>3.0</td>\n",
       "      <td>0.0</td>\n",
       "      <td>1027.000000</td>\n",
       "      <td>77.0</td>\n",
       "      <td>16.0</td>\n",
       "      <td>15.0</td>\n",
       "      <td>301.0</td>\n",
       "      <td>0.0</td>\n",
       "      <td>...</td>\n",
       "      <td>-54.323242</td>\n",
       "      <td>5120391.0</td>\n",
       "      <td>65.0</td>\n",
       "      <td>0.631902</td>\n",
       "      <td>0.663599</td>\n",
       "      <td>0.224475</td>\n",
       "      <td>-1.215891</td>\n",
       "      <td>-1.283653</td>\n",
       "      <td>-inf</td>\n",
       "      <td>0.0</td>\n",
       "    </tr>\n",
       "    <tr>\n",
       "      <th>2</th>\n",
       "      <td>40.689999</td>\n",
       "      <td>-95.779999</td>\n",
       "      <td>3.0</td>\n",
       "      <td>0.0</td>\n",
       "      <td>1027.000000</td>\n",
       "      <td>77.0</td>\n",
       "      <td>16.0</td>\n",
       "      <td>15.0</td>\n",
       "      <td>301.0</td>\n",
       "      <td>0.0</td>\n",
       "      <td>...</td>\n",
       "      <td>-54.323242</td>\n",
       "      <td>5120392.0</td>\n",
       "      <td>65.0</td>\n",
       "      <td>0.669398</td>\n",
       "      <td>0.582117</td>\n",
       "      <td>0.453220</td>\n",
       "      <td>-1.093798</td>\n",
       "      <td>-1.233569</td>\n",
       "      <td>-inf</td>\n",
       "      <td>0.0</td>\n",
       "    </tr>\n",
       "    <tr>\n",
       "      <th>3</th>\n",
       "      <td>40.689999</td>\n",
       "      <td>-95.779999</td>\n",
       "      <td>3.0</td>\n",
       "      <td>0.0</td>\n",
       "      <td>1027.000000</td>\n",
       "      <td>77.0</td>\n",
       "      <td>16.0</td>\n",
       "      <td>15.0</td>\n",
       "      <td>301.0</td>\n",
       "      <td>0.0</td>\n",
       "      <td>...</td>\n",
       "      <td>-54.323242</td>\n",
       "      <td>5120393.0</td>\n",
       "      <td>65.0</td>\n",
       "      <td>0.739336</td>\n",
       "      <td>0.575585</td>\n",
       "      <td>0.270314</td>\n",
       "      <td>-1.095513</td>\n",
       "      <td>-1.241008</td>\n",
       "      <td>-inf</td>\n",
       "      <td>2.0</td>\n",
       "    </tr>\n",
       "    <tr>\n",
       "      <th>4</th>\n",
       "      <td>40.689999</td>\n",
       "      <td>-95.779999</td>\n",
       "      <td>3.0</td>\n",
       "      <td>0.0</td>\n",
       "      <td>1027.099976</td>\n",
       "      <td>78.0</td>\n",
       "      <td>16.0</td>\n",
       "      <td>15.0</td>\n",
       "      <td>301.0</td>\n",
       "      <td>0.0</td>\n",
       "      <td>...</td>\n",
       "      <td>-56.450661</td>\n",
       "      <td>5120390.0</td>\n",
       "      <td>65.0</td>\n",
       "      <td>0.551431</td>\n",
       "      <td>0.624262</td>\n",
       "      <td>0.327368</td>\n",
       "      <td>-1.113647</td>\n",
       "      <td>-1.275418</td>\n",
       "      <td>-inf</td>\n",
       "      <td>2.0</td>\n",
       "    </tr>\n",
       "  </tbody>\n",
       "</table>\n",
       "<p>5 rows × 26 columns</p>\n",
       "</div>"
      ],
      "text/plain": [
       "         lat        lon  temp  dewpt          slp    rh   vis  wspeed   wdir  \\\n",
       "0  40.689999 -95.779999   3.0    0.0  1027.000000  77.0  16.0    15.0  301.0   \n",
       "1  40.689999 -95.779999   3.0    0.0  1027.000000  77.0  16.0    15.0  301.0   \n",
       "2  40.689999 -95.779999   3.0    0.0  1027.000000  77.0  16.0    15.0  301.0   \n",
       "3  40.689999 -95.779999   3.0    0.0  1027.000000  77.0  16.0    15.0  301.0   \n",
       "4  40.689999 -95.779999   3.0    0.0  1027.099976  78.0  16.0    15.0  301.0   \n",
       "\n",
       "   pop  ...  FE_SUN_ALTITUDE  SURF_UNIQUE_ID  site_id  anonym_0  anonym_1  \\\n",
       "0  0.0  ...       -54.323242       5120390.0     65.0  0.857639  0.470287   \n",
       "1  0.0  ...       -54.323242       5120391.0     65.0  0.631902  0.663599   \n",
       "2  0.0  ...       -54.323242       5120392.0     65.0  0.669398  0.582117   \n",
       "3  0.0  ...       -54.323242       5120393.0     65.0  0.739336  0.575585   \n",
       "4  0.0  ...       -56.450661       5120390.0     65.0  0.551431  0.624262   \n",
       "\n",
       "   anonym_2  anonym_3  anonym_4  anonym_5  Surface_Condition  \n",
       "0  0.354746 -1.272234 -1.350717      -inf                2.0  \n",
       "1  0.224475 -1.215891 -1.283653      -inf                0.0  \n",
       "2  0.453220 -1.093798 -1.233569      -inf                0.0  \n",
       "3  0.270314 -1.095513 -1.241008      -inf                2.0  \n",
       "4  0.327368 -1.113647 -1.275418      -inf                2.0  \n",
       "\n",
       "[5 rows x 26 columns]"
      ]
     },
     "execution_count": 44,
     "metadata": {},
     "output_type": "execute_result"
    }
   ],
   "source": [
    "df.head()"
   ]
  },
  {
   "cell_type": "code",
   "execution_count": null,
   "metadata": {},
   "outputs": [],
   "source": []
  },
  {
   "cell_type": "code",
   "execution_count": null,
   "metadata": {},
   "outputs": [],
   "source": []
  },
  {
   "cell_type": "code",
   "execution_count": null,
   "metadata": {},
   "outputs": [],
   "source": []
  },
  {
   "cell_type": "code",
   "execution_count": null,
   "metadata": {},
   "outputs": [],
   "source": []
  },
  {
   "cell_type": "code",
   "execution_count": null,
   "metadata": {},
   "outputs": [],
   "source": []
  },
  {
   "cell_type": "code",
   "execution_count": 45,
   "metadata": {},
   "outputs": [],
   "source": [
    "df = df.replace([np.inf, -np.inf], np.nan)"
   ]
  },
  {
   "cell_type": "code",
   "execution_count": 46,
   "metadata": {
    "scrolled": true
   },
   "outputs": [
    {
     "data": {
      "text/plain": [
       "lat                       0\n",
       "lon                       0\n",
       "temp                      0\n",
       "dewpt                     0\n",
       "slp                       0\n",
       "rh                        0\n",
       "vis                       0\n",
       "wspeed                    0\n",
       "wdir                      0\n",
       "pop                       0\n",
       "precip_rate               0\n",
       "FE_AZIMUTH                0\n",
       "FE_ZENITH                 0\n",
       "FE_ASCENSION              0\n",
       "FE_DECLINATION            0\n",
       "FE_HEIGHT                 0\n",
       "FE_SUN_ALTITUDE           0\n",
       "SURF_UNIQUE_ID            0\n",
       "site_id                   0\n",
       "anonym_0                  0\n",
       "anonym_1                  0\n",
       "anonym_2                  0\n",
       "anonym_3                 63\n",
       "anonym_4                 28\n",
       "anonym_5             403619\n",
       "Surface_Condition         0\n",
       "dtype: int64"
      ]
     },
     "execution_count": 46,
     "metadata": {},
     "output_type": "execute_result"
    }
   ],
   "source": [
    "df.isna().sum()"
   ]
  },
  {
   "cell_type": "code",
   "execution_count": 47,
   "metadata": {},
   "outputs": [],
   "source": [
    "df = df.drop(['anonym_5'],axis=1)"
   ]
  },
  {
   "cell_type": "code",
   "execution_count": 48,
   "metadata": {},
   "outputs": [],
   "source": [
    "df = df.dropna(axis=0)"
   ]
  },
  {
   "cell_type": "code",
   "execution_count": 49,
   "metadata": {},
   "outputs": [],
   "source": [
    "df['Surface_Condition'] = df['Surface_Condition'].astype(int)"
   ]
  },
  {
   "cell_type": "code",
   "execution_count": 50,
   "metadata": {},
   "outputs": [],
   "source": [
    "df.columns = df.columns.str.strip()"
   ]
  },
  {
   "cell_type": "code",
   "execution_count": 51,
   "metadata": {},
   "outputs": [],
   "source": [
    "X = df.drop(['Surface_Condition'],axis=1)"
   ]
  },
  {
   "cell_type": "code",
   "execution_count": 52,
   "metadata": {},
   "outputs": [],
   "source": [
    "y=df['Surface_Condition']"
   ]
  },
  {
   "cell_type": "code",
   "execution_count": 53,
   "metadata": {},
   "outputs": [
    {
     "data": {
      "text/plain": [
       "(824395, 24)"
      ]
     },
     "execution_count": 53,
     "metadata": {},
     "output_type": "execute_result"
    }
   ],
   "source": [
    "X.shape"
   ]
  },
  {
   "cell_type": "code",
   "execution_count": 54,
   "metadata": {},
   "outputs": [
    {
     "data": {
      "text/plain": [
       "(824395,)"
      ]
     },
     "execution_count": 54,
     "metadata": {},
     "output_type": "execute_result"
    }
   ],
   "source": [
    "y.shape"
   ]
  },
  {
   "cell_type": "code",
   "execution_count": 55,
   "metadata": {},
   "outputs": [],
   "source": [
    "dry = df[df['Surface_Condition']==0]"
   ]
  },
  {
   "cell_type": "code",
   "execution_count": 56,
   "metadata": {},
   "outputs": [],
   "source": [
    "wet = df[df['Surface_Condition']==2]"
   ]
  },
  {
   "cell_type": "code",
   "execution_count": 57,
   "metadata": {},
   "outputs": [],
   "source": [
    "icy = df[df['Surface_Condition']==1]"
   ]
  },
  {
   "cell_type": "code",
   "execution_count": 58,
   "metadata": {},
   "outputs": [
    {
     "name": "stdout",
     "output_type": "stream",
     "text": [
      "(47134, 25) (158005, 25) (619256, 25)\n"
     ]
    }
   ],
   "source": [
    "print(icy.shape,wet.shape,dry.shape)"
   ]
  },
  {
   "cell_type": "code",
   "execution_count": 59,
   "metadata": {},
   "outputs": [
    {
     "data": {
      "text/plain": [
       "(824395, 25)"
      ]
     },
     "execution_count": 59,
     "metadata": {},
     "output_type": "execute_result"
    }
   ],
   "source": [
    "df.shape"
   ]
  },
  {
   "cell_type": "code",
   "execution_count": 60,
   "metadata": {},
   "outputs": [
    {
     "name": "stderr",
     "output_type": "stream",
     "text": [
      "C:\\Users\\uib43221\\AppData\\Local\\Continuum\\anaconda3\\lib\\site-packages\\tensorflow\\python\\framework\\dtypes.py:526: FutureWarning: Passing (type, 1) or '1type' as a synonym of type is deprecated; in a future version of numpy, it will be understood as (type, (1,)) / '(1,)type'.\n",
      "  _np_qint8 = np.dtype([(\"qint8\", np.int8, 1)])\n",
      "C:\\Users\\uib43221\\AppData\\Local\\Continuum\\anaconda3\\lib\\site-packages\\tensorflow\\python\\framework\\dtypes.py:527: FutureWarning: Passing (type, 1) or '1type' as a synonym of type is deprecated; in a future version of numpy, it will be understood as (type, (1,)) / '(1,)type'.\n",
      "  _np_quint8 = np.dtype([(\"quint8\", np.uint8, 1)])\n",
      "C:\\Users\\uib43221\\AppData\\Local\\Continuum\\anaconda3\\lib\\site-packages\\tensorflow\\python\\framework\\dtypes.py:528: FutureWarning: Passing (type, 1) or '1type' as a synonym of type is deprecated; in a future version of numpy, it will be understood as (type, (1,)) / '(1,)type'.\n",
      "  _np_qint16 = np.dtype([(\"qint16\", np.int16, 1)])\n",
      "C:\\Users\\uib43221\\AppData\\Local\\Continuum\\anaconda3\\lib\\site-packages\\tensorflow\\python\\framework\\dtypes.py:529: FutureWarning: Passing (type, 1) or '1type' as a synonym of type is deprecated; in a future version of numpy, it will be understood as (type, (1,)) / '(1,)type'.\n",
      "  _np_quint16 = np.dtype([(\"quint16\", np.uint16, 1)])\n",
      "C:\\Users\\uib43221\\AppData\\Local\\Continuum\\anaconda3\\lib\\site-packages\\tensorflow\\python\\framework\\dtypes.py:530: FutureWarning: Passing (type, 1) or '1type' as a synonym of type is deprecated; in a future version of numpy, it will be understood as (type, (1,)) / '(1,)type'.\n",
      "  _np_qint32 = np.dtype([(\"qint32\", np.int32, 1)])\n",
      "C:\\Users\\uib43221\\AppData\\Local\\Continuum\\anaconda3\\lib\\site-packages\\tensorflow\\python\\framework\\dtypes.py:535: FutureWarning: Passing (type, 1) or '1type' as a synonym of type is deprecated; in a future version of numpy, it will be understood as (type, (1,)) / '(1,)type'.\n",
      "  np_resource = np.dtype([(\"resource\", np.ubyte, 1)])\n"
     ]
    }
   ],
   "source": [
    "from imblearn.combine import SMOTETomek"
   ]
  },
  {
   "cell_type": "code",
   "execution_count": 61,
   "metadata": {
    "scrolled": true
   },
   "outputs": [],
   "source": [
    "smk = SMOTETomek(random_state=42)"
   ]
  },
  {
   "cell_type": "code",
   "execution_count": 62,
   "metadata": {},
   "outputs": [],
   "source": [
    "X_res,y_res = smk.fit_sample(X,y)"
   ]
  },
  {
   "cell_type": "code",
   "execution_count": null,
   "metadata": {},
   "outputs": [],
   "source": []
  },
  {
   "cell_type": "code",
   "execution_count": 63,
   "metadata": {},
   "outputs": [],
   "source": [
    "from collections import Counter"
   ]
  },
  {
   "cell_type": "code",
   "execution_count": 64,
   "metadata": {},
   "outputs": [
    {
     "name": "stdout",
     "output_type": "stream",
     "text": [
      "Original dataset shape Counter({0: 619256, 2: 158005, 1: 47134})\n",
      "Resampled dataset shape Counter({1: 616369, 0: 605281, 2: 604672})\n"
     ]
    }
   ],
   "source": [
    "print('Original dataset shape {}'.format(Counter(y)))\n",
    "print('Resampled dataset shape {}'.format(Counter(y_res)))"
   ]
  },
  {
   "cell_type": "code",
   "execution_count": null,
   "metadata": {},
   "outputs": [],
   "source": []
  },
  {
   "cell_type": "code",
   "execution_count": null,
   "metadata": {},
   "outputs": [],
   "source": []
  },
  {
   "cell_type": "code",
   "execution_count": 65,
   "metadata": {},
   "outputs": [],
   "source": [
    "y_res = pd.DataFrame(y_res)"
   ]
  },
  {
   "cell_type": "code",
   "execution_count": 66,
   "metadata": {},
   "outputs": [
    {
     "data": {
      "text/html": [
       "<div>\n",
       "<style scoped>\n",
       "    .dataframe tbody tr th:only-of-type {\n",
       "        vertical-align: middle;\n",
       "    }\n",
       "\n",
       "    .dataframe tbody tr th {\n",
       "        vertical-align: top;\n",
       "    }\n",
       "\n",
       "    .dataframe thead th {\n",
       "        text-align: right;\n",
       "    }\n",
       "</style>\n",
       "<table border=\"1\" class=\"dataframe\">\n",
       "  <thead>\n",
       "    <tr style=\"text-align: right;\">\n",
       "      <th></th>\n",
       "      <th>Surface_Condition</th>\n",
       "    </tr>\n",
       "  </thead>\n",
       "  <tbody>\n",
       "    <tr>\n",
       "      <th>0</th>\n",
       "      <td>2</td>\n",
       "    </tr>\n",
       "    <tr>\n",
       "      <th>1</th>\n",
       "      <td>0</td>\n",
       "    </tr>\n",
       "    <tr>\n",
       "      <th>2</th>\n",
       "      <td>2</td>\n",
       "    </tr>\n",
       "    <tr>\n",
       "      <th>3</th>\n",
       "      <td>2</td>\n",
       "    </tr>\n",
       "    <tr>\n",
       "      <th>4</th>\n",
       "      <td>2</td>\n",
       "    </tr>\n",
       "  </tbody>\n",
       "</table>\n",
       "</div>"
      ],
      "text/plain": [
       "   Surface_Condition\n",
       "0                  2\n",
       "1                  0\n",
       "2                  2\n",
       "3                  2\n",
       "4                  2"
      ]
     },
     "execution_count": 66,
     "metadata": {},
     "output_type": "execute_result"
    }
   ],
   "source": [
    "y_res.head()"
   ]
  },
  {
   "cell_type": "code",
   "execution_count": null,
   "metadata": {},
   "outputs": [],
   "source": []
  },
  {
   "cell_type": "code",
   "execution_count": 67,
   "metadata": {},
   "outputs": [
    {
     "data": {
      "text/plain": [
       "array([2, 0, 1], dtype=int64)"
      ]
     },
     "execution_count": 67,
     "metadata": {},
     "output_type": "execute_result"
    }
   ],
   "source": [
    "df['Surface_Condition'].unique()"
   ]
  },
  {
   "cell_type": "code",
   "execution_count": 69,
   "metadata": {},
   "outputs": [],
   "source": [
    "from sklearn.ensemble import ExtraTreesClassifier\n",
    "from sklearn.model_selection import train_test_split\n",
    "from sklearn.datasets import make_classification"
   ]
  },
  {
   "cell_type": "code",
   "execution_count": 70,
   "metadata": {},
   "outputs": [],
   "source": [
    "#X_train,X_test,y_train,y_test = train_test_split(X_res,y_res, test_size = 0.2, random_state = 10)"
   ]
  },
  {
   "cell_type": "markdown",
   "metadata": {},
   "source": [
    "X_test.shape"
   ]
  },
  {
   "cell_type": "markdown",
   "metadata": {},
   "source": []
  },
  {
   "cell_type": "markdown",
   "metadata": {},
   "source": [
    "X_df = pd.DataFrame(X)"
   ]
  },
  {
   "cell_type": "markdown",
   "metadata": {},
   "source": [
    "X_df.shape"
   ]
  },
  {
   "cell_type": "markdown",
   "metadata": {},
   "source": [
    "X_df.columns"
   ]
  },
  {
   "cell_type": "markdown",
   "metadata": {},
   "source": [
    "X,y = make_classification(n_features=24 , random_state=100)"
   ]
  },
  {
   "cell_type": "markdown",
   "metadata": {},
   "source": [
    "clf = ExtraTreesClassifier(n_estimators=100, random_state=100)"
   ]
  },
  {
   "cell_type": "markdown",
   "metadata": {},
   "source": [
    "clf.fit(X, y)"
   ]
  },
  {
   "cell_type": "markdown",
   "metadata": {},
   "source": [
    "y_pred = clf.predict(X_test)"
   ]
  },
  {
   "cell_type": "markdown",
   "metadata": {},
   "source": [
    "y_pred = pd.DataFrame(y_pred)"
   ]
  },
  {
   "cell_type": "markdown",
   "metadata": {},
   "source": [
    "y_pred = y_pred.rename(columns={0:'Surf_Cond'})"
   ]
  },
  {
   "cell_type": "markdown",
   "metadata": {},
   "source": [
    "y_pred.tail()"
   ]
  },
  {
   "cell_type": "code",
   "execution_count": 103,
   "metadata": {},
   "outputs": [],
   "source": [
    "X_train = X"
   ]
  },
  {
   "cell_type": "code",
   "execution_count": 104,
   "metadata": {},
   "outputs": [],
   "source": [
    "y_train = y"
   ]
  },
  {
   "cell_type": "code",
   "execution_count": 112,
   "metadata": {},
   "outputs": [],
   "source": [
    "test = test.replace([np.inf, -np.inf], np.nan)"
   ]
  },
  {
   "cell_type": "code",
   "execution_count": 114,
   "metadata": {},
   "outputs": [
    {
     "data": {
      "text/plain": [
       "temp                0\n",
       "slp                 0\n",
       "rh                  0\n",
       "vis                 0\n",
       "pop                 0\n",
       "precip_rate         0\n",
       "FE_ZENITH           0\n",
       "FE_ASCENSION        0\n",
       "FE_DECLINATION      0\n",
       "FE_SUN_ALTITUDE     0\n",
       "anonym_0            0\n",
       "anonym_2            0\n",
       "anonym_3           43\n",
       "dtype: int64"
      ]
     },
     "execution_count": 114,
     "metadata": {},
     "output_type": "execute_result"
    }
   ],
   "source": [
    "test.isna().sum()"
   ]
  },
  {
   "cell_type": "code",
   "execution_count": 115,
   "metadata": {},
   "outputs": [],
   "source": [
    "test = test.dropna(axis=0)"
   ]
  },
  {
   "cell_type": "code",
   "execution_count": 116,
   "metadata": {},
   "outputs": [],
   "source": [
    "X_test = test"
   ]
  },
  {
   "cell_type": "code",
   "execution_count": null,
   "metadata": {},
   "outputs": [],
   "source": []
  },
  {
   "cell_type": "code",
   "execution_count": null,
   "metadata": {},
   "outputs": [],
   "source": []
  },
  {
   "cell_type": "code",
   "execution_count": 117,
   "metadata": {},
   "outputs": [
    {
     "data": {
      "text/plain": [
       "pandas.core.frame.DataFrame"
      ]
     },
     "execution_count": 117,
     "metadata": {},
     "output_type": "execute_result"
    }
   ],
   "source": [
    "type(y_train)"
   ]
  },
  {
   "cell_type": "code",
   "execution_count": 118,
   "metadata": {},
   "outputs": [],
   "source": [
    "y_train = pd.DataFrame(y_train)"
   ]
  },
  {
   "cell_type": "code",
   "execution_count": null,
   "metadata": {},
   "outputs": [],
   "source": []
  },
  {
   "cell_type": "code",
   "execution_count": 119,
   "metadata": {},
   "outputs": [],
   "source": [
    "from skmultilearn.problem_transform import BinaryRelevance\n",
    "from sklearn.naive_bayes import GaussianNB\n"
   ]
  },
  {
   "cell_type": "code",
   "execution_count": 120,
   "metadata": {},
   "outputs": [],
   "source": [
    "classifier = BinaryRelevance(GaussianNB())\n"
   ]
  },
  {
   "cell_type": "code",
   "execution_count": 121,
   "metadata": {},
   "outputs": [],
   "source": [
    "clf = classifier.fit(X_train, y_train)"
   ]
  },
  {
   "cell_type": "code",
   "execution_count": 122,
   "metadata": {},
   "outputs": [
    {
     "ename": "ValueError",
     "evalue": "operands could not be broadcast together with shapes (53573,13) (24,) ",
     "output_type": "error",
     "traceback": [
      "\u001b[1;31m---------------------------------------------------------------------------\u001b[0m",
      "\u001b[1;31mValueError\u001b[0m                                Traceback (most recent call last)",
      "\u001b[1;32m<ipython-input-122-f7a4cc69b9a5>\u001b[0m in \u001b[0;36m<module>\u001b[1;34m\u001b[0m\n\u001b[1;32m----> 1\u001b[1;33m \u001b[0my_pred\u001b[0m \u001b[1;33m=\u001b[0m \u001b[0mclf\u001b[0m\u001b[1;33m.\u001b[0m\u001b[0mpredict\u001b[0m\u001b[1;33m(\u001b[0m\u001b[0mX_test\u001b[0m\u001b[1;33m)\u001b[0m\u001b[1;33m\u001b[0m\u001b[1;33m\u001b[0m\u001b[0m\n\u001b[0m",
      "\u001b[1;32m~\\AppData\\Local\\Continuum\\anaconda3\\lib\\site-packages\\skmultilearn\\problem_transform\\br.py\u001b[0m in \u001b[0;36mpredict\u001b[1;34m(self, X)\u001b[0m\n\u001b[0;32m    180\u001b[0m         predictions = [self._ensure_multi_label_from_single_class(\n\u001b[0;32m    181\u001b[0m             self.classifiers_[label].predict(self._ensure_input_format(X)))\n\u001b[1;32m--> 182\u001b[1;33m             for label in range(self.model_count_)]\n\u001b[0m\u001b[0;32m    183\u001b[0m \u001b[1;33m\u001b[0m\u001b[0m\n\u001b[0;32m    184\u001b[0m         \u001b[1;32mreturn\u001b[0m \u001b[0mhstack\u001b[0m\u001b[1;33m(\u001b[0m\u001b[0mpredictions\u001b[0m\u001b[1;33m)\u001b[0m\u001b[1;33m\u001b[0m\u001b[1;33m\u001b[0m\u001b[0m\n",
      "\u001b[1;32m~\\AppData\\Local\\Continuum\\anaconda3\\lib\\site-packages\\skmultilearn\\problem_transform\\br.py\u001b[0m in \u001b[0;36m<listcomp>\u001b[1;34m(.0)\u001b[0m\n\u001b[0;32m    180\u001b[0m         predictions = [self._ensure_multi_label_from_single_class(\n\u001b[0;32m    181\u001b[0m             self.classifiers_[label].predict(self._ensure_input_format(X)))\n\u001b[1;32m--> 182\u001b[1;33m             for label in range(self.model_count_)]\n\u001b[0m\u001b[0;32m    183\u001b[0m \u001b[1;33m\u001b[0m\u001b[0m\n\u001b[0;32m    184\u001b[0m         \u001b[1;32mreturn\u001b[0m \u001b[0mhstack\u001b[0m\u001b[1;33m(\u001b[0m\u001b[0mpredictions\u001b[0m\u001b[1;33m)\u001b[0m\u001b[1;33m\u001b[0m\u001b[1;33m\u001b[0m\u001b[0m\n",
      "\u001b[1;32m~\\AppData\\Local\\Continuum\\anaconda3\\lib\\site-packages\\sklearn\\naive_bayes.py\u001b[0m in \u001b[0;36mpredict\u001b[1;34m(self, X)\u001b[0m\n\u001b[0;32m     73\u001b[0m         \u001b[0mcheck_is_fitted\u001b[0m\u001b[1;33m(\u001b[0m\u001b[0mself\u001b[0m\u001b[1;33m)\u001b[0m\u001b[1;33m\u001b[0m\u001b[1;33m\u001b[0m\u001b[0m\n\u001b[0;32m     74\u001b[0m         \u001b[0mX\u001b[0m \u001b[1;33m=\u001b[0m \u001b[0mself\u001b[0m\u001b[1;33m.\u001b[0m\u001b[0m_check_X\u001b[0m\u001b[1;33m(\u001b[0m\u001b[0mX\u001b[0m\u001b[1;33m)\u001b[0m\u001b[1;33m\u001b[0m\u001b[1;33m\u001b[0m\u001b[0m\n\u001b[1;32m---> 75\u001b[1;33m         \u001b[0mjll\u001b[0m \u001b[1;33m=\u001b[0m \u001b[0mself\u001b[0m\u001b[1;33m.\u001b[0m\u001b[0m_joint_log_likelihood\u001b[0m\u001b[1;33m(\u001b[0m\u001b[0mX\u001b[0m\u001b[1;33m)\u001b[0m\u001b[1;33m\u001b[0m\u001b[1;33m\u001b[0m\u001b[0m\n\u001b[0m\u001b[0;32m     76\u001b[0m         \u001b[1;32mreturn\u001b[0m \u001b[0mself\u001b[0m\u001b[1;33m.\u001b[0m\u001b[0mclasses_\u001b[0m\u001b[1;33m[\u001b[0m\u001b[0mnp\u001b[0m\u001b[1;33m.\u001b[0m\u001b[0margmax\u001b[0m\u001b[1;33m(\u001b[0m\u001b[0mjll\u001b[0m\u001b[1;33m,\u001b[0m \u001b[0maxis\u001b[0m\u001b[1;33m=\u001b[0m\u001b[1;36m1\u001b[0m\u001b[1;33m)\u001b[0m\u001b[1;33m]\u001b[0m\u001b[1;33m\u001b[0m\u001b[1;33m\u001b[0m\u001b[0m\n\u001b[0;32m     77\u001b[0m \u001b[1;33m\u001b[0m\u001b[0m\n",
      "\u001b[1;32m~\\AppData\\Local\\Continuum\\anaconda3\\lib\\site-packages\\sklearn\\naive_bayes.py\u001b[0m in \u001b[0;36m_joint_log_likelihood\u001b[1;34m(self, X)\u001b[0m\n\u001b[0;32m    450\u001b[0m             \u001b[0mjointi\u001b[0m \u001b[1;33m=\u001b[0m \u001b[0mnp\u001b[0m\u001b[1;33m.\u001b[0m\u001b[0mlog\u001b[0m\u001b[1;33m(\u001b[0m\u001b[0mself\u001b[0m\u001b[1;33m.\u001b[0m\u001b[0mclass_prior_\u001b[0m\u001b[1;33m[\u001b[0m\u001b[0mi\u001b[0m\u001b[1;33m]\u001b[0m\u001b[1;33m)\u001b[0m\u001b[1;33m\u001b[0m\u001b[1;33m\u001b[0m\u001b[0m\n\u001b[0;32m    451\u001b[0m             \u001b[0mn_ij\u001b[0m \u001b[1;33m=\u001b[0m \u001b[1;33m-\u001b[0m \u001b[1;36m0.5\u001b[0m \u001b[1;33m*\u001b[0m \u001b[0mnp\u001b[0m\u001b[1;33m.\u001b[0m\u001b[0msum\u001b[0m\u001b[1;33m(\u001b[0m\u001b[0mnp\u001b[0m\u001b[1;33m.\u001b[0m\u001b[0mlog\u001b[0m\u001b[1;33m(\u001b[0m\u001b[1;36m2.\u001b[0m \u001b[1;33m*\u001b[0m \u001b[0mnp\u001b[0m\u001b[1;33m.\u001b[0m\u001b[0mpi\u001b[0m \u001b[1;33m*\u001b[0m \u001b[0mself\u001b[0m\u001b[1;33m.\u001b[0m\u001b[0msigma_\u001b[0m\u001b[1;33m[\u001b[0m\u001b[0mi\u001b[0m\u001b[1;33m,\u001b[0m \u001b[1;33m:\u001b[0m\u001b[1;33m]\u001b[0m\u001b[1;33m)\u001b[0m\u001b[1;33m)\u001b[0m\u001b[1;33m\u001b[0m\u001b[1;33m\u001b[0m\u001b[0m\n\u001b[1;32m--> 452\u001b[1;33m             n_ij -= 0.5 * np.sum(((X - self.theta_[i, :]) ** 2) /\n\u001b[0m\u001b[0;32m    453\u001b[0m                                  (self.sigma_[i, :]), 1)\n\u001b[0;32m    454\u001b[0m             \u001b[0mjoint_log_likelihood\u001b[0m\u001b[1;33m.\u001b[0m\u001b[0mappend\u001b[0m\u001b[1;33m(\u001b[0m\u001b[0mjointi\u001b[0m \u001b[1;33m+\u001b[0m \u001b[0mn_ij\u001b[0m\u001b[1;33m)\u001b[0m\u001b[1;33m\u001b[0m\u001b[1;33m\u001b[0m\u001b[0m\n",
      "\u001b[1;31mValueError\u001b[0m: operands could not be broadcast together with shapes (53573,13) (24,) "
     ]
    }
   ],
   "source": [
    "y_pred = clf.predict(X_test)"
   ]
  },
  {
   "cell_type": "code",
   "execution_count": null,
   "metadata": {},
   "outputs": [],
   "source": [
    "#y_pred = pd.DataFrame(y_pred)"
   ]
  },
  {
   "cell_type": "code",
   "execution_count": null,
   "metadata": {},
   "outputs": [],
   "source": [
    "#y_pred"
   ]
  },
  {
   "cell_type": "code",
   "execution_count": 79,
   "metadata": {},
   "outputs": [],
   "source": [
    "from scipy.sparse import csr_matrix"
   ]
  },
  {
   "cell_type": "code",
   "execution_count": 80,
   "metadata": {},
   "outputs": [],
   "source": [
    "csr = csr_matrix.toarray(y_pred, order=None, out=None)"
   ]
  },
  {
   "cell_type": "code",
   "execution_count": 81,
   "metadata": {},
   "outputs": [],
   "source": [
    "creh = pd.DataFrame(csr)"
   ]
  },
  {
   "cell_type": "code",
   "execution_count": 82,
   "metadata": {},
   "outputs": [
    {
     "data": {
      "text/plain": [
       "0    3\n",
       "dtype: int64"
      ]
     },
     "execution_count": 82,
     "metadata": {},
     "output_type": "execute_result"
    }
   ],
   "source": [
    "creh.nunique()"
   ]
  },
  {
   "cell_type": "code",
   "execution_count": null,
   "metadata": {},
   "outputs": [],
   "source": []
  },
  {
   "cell_type": "code",
   "execution_count": 83,
   "metadata": {},
   "outputs": [],
   "source": [
    "from sklearn.metrics import accuracy_score"
   ]
  },
  {
   "cell_type": "code",
   "execution_count": 84,
   "metadata": {},
   "outputs": [
    {
     "data": {
      "text/plain": [
       "70.54193530724268"
      ]
     },
     "execution_count": 84,
     "metadata": {},
     "output_type": "execute_result"
    }
   ],
   "source": [
    "accuracy_score(y_test,creh)*100"
   ]
  },
  {
   "cell_type": "code",
   "execution_count": 85,
   "metadata": {},
   "outputs": [
    {
     "name": "stdout",
     "output_type": "stream",
     "text": [
      "Accuracy is : 0.7054193530724269\n"
     ]
    }
   ],
   "source": [
    "print(\"Accuracy is :\" , accuracy_score(y_test,creh))"
   ]
  },
  {
   "cell_type": "code",
   "execution_count": 86,
   "metadata": {},
   "outputs": [
    {
     "data": {
      "text/plain": [
       "<matplotlib.axes._subplots.AxesSubplot at 0x226a7f8d9b0>"
      ]
     },
     "execution_count": 86,
     "metadata": {},
     "output_type": "execute_result"
    },
    {
     "data": {
      "image/png": "[encoded data removed]",
      "text/plain": [
       "<Figure size 432x288 with 1 Axes>"
      ]
     },
     "metadata": {
      "needs_background": "light"
     },
     "output_type": "display_data"
    }
   ],
   "source": [
    "sns.countplot(x=0,data = creh)"
   ]
  },
  {
   "cell_type": "code",
   "execution_count": 87,
   "metadata": {},
   "outputs": [],
   "source": [
    "from sklearn.metrics import confusion_matrix"
   ]
  },
  {
   "cell_type": "code",
   "execution_count": 88,
   "metadata": {},
   "outputs": [
    {
     "data": {
      "text/plain": [
       "array([[ 81892,  22449,  16761],\n",
       "       [  6327, 113037,   4117],\n",
       "       [ 23764,  34182,  62736]], dtype=int64)"
      ]
     },
     "execution_count": 88,
     "metadata": {},
     "output_type": "execute_result"
    }
   ],
   "source": [
    "confusion_matrix(y_test,creh)"
   ]
  },
  {
   "cell_type": "code",
   "execution_count": null,
   "metadata": {},
   "outputs": [],
   "source": []
  },
  {
   "cell_type": "code",
   "execution_count": null,
   "metadata": {},
   "outputs": [],
   "source": []
  },
  {
   "cell_type": "markdown",
   "metadata": {},
   "source": [
    "# Testing "
   ]
  },
  {
   "cell_type": "code",
   "execution_count": null,
   "metadata": {},
   "outputs": [],
   "source": []
  },
  {
   "cell_type": "code",
   "execution_count": 89,
   "metadata": {},
   "outputs": [],
   "source": [
    "test = pd.read_csv('test_datac.csv')"
   ]
  },
  {
   "cell_type": "code",
   "execution_count": 90,
   "metadata": {},
   "outputs": [
    {
     "data": {
      "text/html": [
       "<div>\n",
       "<style scoped>\n",
       "    .dataframe tbody tr th:only-of-type {\n",
       "        vertical-align: middle;\n",
       "    }\n",
       "\n",
       "    .dataframe tbody tr th {\n",
       "        vertical-align: top;\n",
       "    }\n",
       "\n",
       "    .dataframe thead th {\n",
       "        text-align: right;\n",
       "    }\n",
       "</style>\n",
       "<table border=\"1\" class=\"dataframe\">\n",
       "  <thead>\n",
       "    <tr style=\"text-align: right;\">\n",
       "      <th></th>\n",
       "      <th>row_id</th>\n",
       "      <th>ts_start</th>\n",
       "      <th>lat</th>\n",
       "      <th>lon</th>\n",
       "      <th>ts_valid</th>\n",
       "      <th>temp</th>\n",
       "      <th>dewpt</th>\n",
       "      <th>slp</th>\n",
       "      <th>rh</th>\n",
       "      <th>vis</th>\n",
       "      <th>...</th>\n",
       "      <th>FE_SUN_ALTITUDE</th>\n",
       "      <th>DT_DATA_LAST_UPDATED</th>\n",
       "      <th>SURF_UNIQUE_ID</th>\n",
       "      <th>site_id</th>\n",
       "      <th>anonym_0</th>\n",
       "      <th>anonym_1</th>\n",
       "      <th>anonym_2</th>\n",
       "      <th>anonym_3</th>\n",
       "      <th>anonym_4</th>\n",
       "      <th>anonym_5</th>\n",
       "    </tr>\n",
       "  </thead>\n",
       "  <tbody>\n",
       "    <tr>\n",
       "      <th>0</th>\n",
       "      <td>39062</td>\n",
       "      <td>2019-11-19 04:45:00+00:00</td>\n",
       "      <td>41.02</td>\n",
       "      <td>-92.42</td>\n",
       "      <td>2019-11-19 05:00:00+00:00</td>\n",
       "      <td>5.0</td>\n",
       "      <td>4.0</td>\n",
       "      <td>1005.90</td>\n",
       "      <td>93.0</td>\n",
       "      <td>7.0</td>\n",
       "      <td>...</td>\n",
       "      <td>-63.667340</td>\n",
       "      <td>2019-11-19 04:45:00+00:00</td>\n",
       "      <td>5120360.0</td>\n",
       "      <td>54</td>\n",
       "      <td>0.479819</td>\n",
       "      <td>0.457492</td>\n",
       "      <td>0.715955</td>\n",
       "      <td>-1.974396</td>\n",
       "      <td>-2.088368</td>\n",
       "      <td>-1.184501</td>\n",
       "    </tr>\n",
       "    <tr>\n",
       "      <th>1</th>\n",
       "      <td>42462</td>\n",
       "      <td>2019-11-19 04:45:00+00:00</td>\n",
       "      <td>42.07</td>\n",
       "      <td>-90.68</td>\n",
       "      <td>2019-11-19 05:00:00+00:00</td>\n",
       "      <td>1.0</td>\n",
       "      <td>-1.0</td>\n",
       "      <td>1007.05</td>\n",
       "      <td>85.0</td>\n",
       "      <td>7.0</td>\n",
       "      <td>...</td>\n",
       "      <td>-63.624064</td>\n",
       "      <td>2019-11-19 04:45:00+00:00</td>\n",
       "      <td>5120281.0</td>\n",
       "      <td>39</td>\n",
       "      <td>0.630652</td>\n",
       "      <td>0.829738</td>\n",
       "      <td>0.682391</td>\n",
       "      <td>-1.459596</td>\n",
       "      <td>-1.254026</td>\n",
       "      <td>-1.225418</td>\n",
       "    </tr>\n",
       "    <tr>\n",
       "      <th>2</th>\n",
       "      <td>42461</td>\n",
       "      <td>2019-11-19 04:45:00+00:00</td>\n",
       "      <td>42.07</td>\n",
       "      <td>-90.68</td>\n",
       "      <td>2019-11-19 05:00:00+00:00</td>\n",
       "      <td>1.0</td>\n",
       "      <td>-1.0</td>\n",
       "      <td>1007.05</td>\n",
       "      <td>85.0</td>\n",
       "      <td>7.0</td>\n",
       "      <td>...</td>\n",
       "      <td>-63.624064</td>\n",
       "      <td>2019-11-19 04:45:00+00:00</td>\n",
       "      <td>5120280.0</td>\n",
       "      <td>39</td>\n",
       "      <td>0.610518</td>\n",
       "      <td>0.694695</td>\n",
       "      <td>0.692086</td>\n",
       "      <td>-1.385336</td>\n",
       "      <td>-1.286704</td>\n",
       "      <td>-1.075082</td>\n",
       "    </tr>\n",
       "    <tr>\n",
       "      <th>3</th>\n",
       "      <td>45685</td>\n",
       "      <td>2019-11-19 04:45:00+00:00</td>\n",
       "      <td>41.96</td>\n",
       "      <td>-92.30</td>\n",
       "      <td>2019-11-19 05:00:00+00:00</td>\n",
       "      <td>3.0</td>\n",
       "      <td>2.0</td>\n",
       "      <td>1005.80</td>\n",
       "      <td>96.0</td>\n",
       "      <td>4.5</td>\n",
       "      <td>...</td>\n",
       "      <td>-62.993589</td>\n",
       "      <td>2019-11-19 04:45:00+00:00</td>\n",
       "      <td>5120570.0</td>\n",
       "      <td>13</td>\n",
       "      <td>0.581700</td>\n",
       "      <td>0.471643</td>\n",
       "      <td>0.817873</td>\n",
       "      <td>-1.674626</td>\n",
       "      <td>-1.729747</td>\n",
       "      <td>-0.648543</td>\n",
       "    </tr>\n",
       "    <tr>\n",
       "      <th>4</th>\n",
       "      <td>45686</td>\n",
       "      <td>2019-11-19 04:45:00+00:00</td>\n",
       "      <td>41.96</td>\n",
       "      <td>-92.30</td>\n",
       "      <td>2019-11-19 05:00:00+00:00</td>\n",
       "      <td>3.0</td>\n",
       "      <td>2.0</td>\n",
       "      <td>1005.80</td>\n",
       "      <td>96.0</td>\n",
       "      <td>4.5</td>\n",
       "      <td>...</td>\n",
       "      <td>-62.993589</td>\n",
       "      <td>2019-11-19 04:45:00+00:00</td>\n",
       "      <td>5120571.0</td>\n",
       "      <td>13</td>\n",
       "      <td>0.489562</td>\n",
       "      <td>0.540767</td>\n",
       "      <td>1.007763</td>\n",
       "      <td>-1.653722</td>\n",
       "      <td>-1.813574</td>\n",
       "      <td>-0.595717</td>\n",
       "    </tr>\n",
       "  </tbody>\n",
       "</table>\n",
       "<p>5 rows × 30 columns</p>\n",
       "</div>"
      ],
      "text/plain": [
       "   row_id                   ts_start    lat    lon                   ts_valid  \\\n",
       "0   39062  2019-11-19 04:45:00+00:00  41.02 -92.42  2019-11-19 05:00:00+00:00   \n",
       "1   42462  2019-11-19 04:45:00+00:00  42.07 -90.68  2019-11-19 05:00:00+00:00   \n",
       "2   42461  2019-11-19 04:45:00+00:00  42.07 -90.68  2019-11-19 05:00:00+00:00   \n",
       "3   45685  2019-11-19 04:45:00+00:00  41.96 -92.30  2019-11-19 05:00:00+00:00   \n",
       "4   45686  2019-11-19 04:45:00+00:00  41.96 -92.30  2019-11-19 05:00:00+00:00   \n",
       "\n",
       "   temp  dewpt      slp    rh  vis  ...  FE_SUN_ALTITUDE  \\\n",
       "0   5.0    4.0  1005.90  93.0  7.0  ...       -63.667340   \n",
       "1   1.0   -1.0  1007.05  85.0  7.0  ...       -63.624064   \n",
       "2   1.0   -1.0  1007.05  85.0  7.0  ...       -63.624064   \n",
       "3   3.0    2.0  1005.80  96.0  4.5  ...       -62.993589   \n",
       "4   3.0    2.0  1005.80  96.0  4.5  ...       -62.993589   \n",
       "\n",
       "        DT_DATA_LAST_UPDATED  SURF_UNIQUE_ID  site_id  anonym_0  anonym_1  \\\n",
       "0  2019-11-19 04:45:00+00:00       5120360.0       54  0.479819  0.457492   \n",
       "1  2019-11-19 04:45:00+00:00       5120281.0       39  0.630652  0.829738   \n",
       "2  2019-11-19 04:45:00+00:00       5120280.0       39  0.610518  0.694695   \n",
       "3  2019-11-19 04:45:00+00:00       5120570.0       13  0.581700  0.471643   \n",
       "4  2019-11-19 04:45:00+00:00       5120571.0       13  0.489562  0.540767   \n",
       "\n",
       "   anonym_2  anonym_3  anonym_4  anonym_5  \n",
       "0  0.715955 -1.974396 -2.088368 -1.184501  \n",
       "1  0.682391 -1.459596 -1.254026 -1.225418  \n",
       "2  0.692086 -1.385336 -1.286704 -1.075082  \n",
       "3  0.817873 -1.674626 -1.729747 -0.648543  \n",
       "4  1.007763 -1.653722 -1.813574 -0.595717  \n",
       "\n",
       "[5 rows x 30 columns]"
      ]
     },
     "execution_count": 90,
     "metadata": {},
     "output_type": "execute_result"
    }
   ],
   "source": [
    "test.head()"
   ]
  },
  {
   "cell_type": "code",
   "execution_count": 91,
   "metadata": {},
   "outputs": [
    {
     "data": {
      "text/plain": [
       "Index(['row_id', 'ts_start', 'lat', 'lon', 'ts_valid', 'temp', 'dewpt', 'slp',\n",
       "       'rh', 'vis', 'wspeed', 'wdir', 'wgust', 'pop', 'precip_rate',\n",
       "       'FE_AZIMUTH', 'FE_ZENITH', 'FE_ASCENSION', 'FE_DECLINATION',\n",
       "       'FE_HEIGHT', 'FE_SUN_ALTITUDE', 'DT_DATA_LAST_UPDATED',\n",
       "       'SURF_UNIQUE_ID', 'site_id', 'anonym_0', 'anonym_1', 'anonym_2',\n",
       "       'anonym_3', 'anonym_4', 'anonym_5'],\n",
       "      dtype='object')"
      ]
     },
     "execution_count": 91,
     "metadata": {},
     "output_type": "execute_result"
    }
   ],
   "source": [
    "test.columns"
   ]
  },
  {
   "cell_type": "code",
   "execution_count": 92,
   "metadata": {},
   "outputs": [],
   "source": [
    "test = test.drop(['wgust','ts_valid'],axis=1)"
   ]
  },
  {
   "cell_type": "code",
   "execution_count": 93,
   "metadata": {},
   "outputs": [],
   "source": [
    "test = test.drop(['anonym_5'],axis=1)"
   ]
  },
  {
   "cell_type": "code",
   "execution_count": 94,
   "metadata": {},
   "outputs": [],
   "source": [
    "test = test.drop(['ts_start'],axis=1)"
   ]
  },
  {
   "cell_type": "code",
   "execution_count": 95,
   "metadata": {},
   "outputs": [],
   "source": [
    "test = test.drop(['DT_DATA_LAST_UPDATED'],axis=1)"
   ]
  },
  {
   "cell_type": "code",
   "execution_count": 96,
   "metadata": {},
   "outputs": [
    {
     "data": {
      "text/plain": [
       "<matplotlib.axes._subplots.AxesSubplot at 0x226a8853ef0>"
      ]
     },
     "execution_count": 96,
     "metadata": {},
     "output_type": "execute_result"
    },
    {
     "data": {
      "image/png": "[encoded data removed]",
      "text/plain": [
       "<Figure size 1440x720 with 2 Axes>"
      ]
     },
     "metadata": {
      "needs_background": "light"
     },
     "output_type": "display_data"
    }
   ],
   "source": [
    "plt.figure(figsize=(20,10))\n",
    "sns.heatmap(test.isnull() , yticklabels='False')\n"
   ]
  },
  {
   "cell_type": "code",
   "execution_count": 97,
   "metadata": {},
   "outputs": [],
   "source": [
    "test= test.drop(['anonym_4','anonym_1','site_id','anonym_1',\n",
    "             'SURF_UNIQUE_ID','FE_HEIGHT','FE_AZIMUTH','wdir','wspeed','dewpt','lon','lat'],axis=1)"
   ]
  },
  {
   "cell_type": "code",
   "execution_count": 101,
   "metadata": {},
   "outputs": [
    {
     "data": {
      "text/plain": [
       "(53616, 13)"
      ]
     },
     "execution_count": 101,
     "metadata": {},
     "output_type": "execute_result"
    }
   ],
   "source": [
    "test.shape"
   ]
  },
  {
   "cell_type": "code",
   "execution_count": 99,
   "metadata": {},
   "outputs": [
    {
     "data": {
      "text/plain": [
       "row_id               int64\n",
       "temp               float64\n",
       "slp                float64\n",
       "rh                 float64\n",
       "vis                float64\n",
       "pop                float64\n",
       "precip_rate        float64\n",
       "FE_ZENITH          float64\n",
       "FE_ASCENSION       float64\n",
       "FE_DECLINATION     float64\n",
       "FE_SUN_ALTITUDE    float64\n",
       "anonym_0           float64\n",
       "anonym_2           float64\n",
       "anonym_3           float64\n",
       "dtype: object"
      ]
     },
     "execution_count": 99,
     "metadata": {},
     "output_type": "execute_result"
    }
   ],
   "source": [
    "test.dtypes"
   ]
  },
  {
   "cell_type": "code",
   "execution_count": 100,
   "metadata": {},
   "outputs": [],
   "source": [
    "test = test.drop(['row_id'],axis=1)"
   ]
  },
  {
   "cell_type": "markdown",
   "metadata": {},
   "source": [
    "#  0-->dry   2-->Wet  1-->icy"
   ]
  },
  {
   "cell_type": "code",
   "execution_count": null,
   "metadata": {},
   "outputs": [],
   "source": [
    "dry = df[df['Surface_Condition']==0]"
   ]
  },
  {
   "cell_type": "code",
   "execution_count": null,
   "metadata": {},
   "outputs": [],
   "source": [
    "wet = df[df['Surface_Condition']==1]"
   ]
  },
  {
   "cell_type": "code",
   "execution_count": null,
   "metadata": {},
   "outputs": [],
   "source": [
    "icy = df[df['Surface_Condition']==2]"
   ]
  },
  {
   "cell_type": "code",
   "execution_count": null,
   "metadata": {},
   "outputs": [],
   "source": []
  },
  {
   "cell_type": "code",
   "execution_count": null,
   "metadata": {},
   "outputs": [],
   "source": [
    "print(icy.shape,wet.shape,dry.shape)"
   ]
  },
  {
   "cell_type": "code",
   "execution_count": null,
   "metadata": {},
   "outputs": [],
   "source": [
    "corr = df.corr() \n",
    "corr"
   ]
  },
  {
   "cell_type": "code",
   "execution_count": null,
   "metadata": {},
   "outputs": [],
   "source": [
    "plt.figure(figsize=(20,10))\n",
    "sns.heatmap(corr, annot=True, cbar_kws={'label': 'My Colorbar'})"
   ]
  },
  {
   "cell_type": "code",
   "execution_count": null,
   "metadata": {},
   "outputs": [],
   "source": []
  },
  {
   "cell_type": "markdown",
   "metadata": {},
   "source": [
    "# correlation"
   ]
  },
  {
   "cell_type": "code",
   "execution_count": null,
   "metadata": {},
   "outputs": [],
   "source": [
    "df= df.drop(['anonym_4','anonym_1','site_id','anonym_1',\n",
    "             'SURF_UNIQUE_ID','FE_HEIGHT','FE_AZIMUTH','wdir','wspeed','dewpt','lon','lat'],axis=1)"
   ]
  },
  {
   "cell_type": "code",
   "execution_count": null,
   "metadata": {},
   "outputs": [],
   "source": [
    "df = df.drop(['anonym_0'],axis=1)"
   ]
  },
  {
   "cell_type": "markdown",
   "metadata": {},
   "source": [
    "# Joining\n"
   ]
  },
  {
   "cell_type": "code",
   "execution_count": null,
   "metadata": {},
   "outputs": [],
   "source": []
  }
 ],
 "metadata": {
  "kernelspec": {
   "display_name": "Python 3",
   "language": "python",
   "name": "python3"
  },
  "language_info": {
   "codemirror_mode": {
    "name": "ipython",
    "version": 3
   },
   "file_extension": ".py",
   "mimetype": "text/x-python",
   "name": "python",
   "nbconvert_exporter": "python",
   "pygments_lexer": "ipython3",
   "version": "3.7.1"
  }
 },
 "nbformat": 4,
 "nbformat_minor": 2
}
