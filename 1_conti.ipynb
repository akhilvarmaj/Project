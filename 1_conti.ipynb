{
 "cells": [
  {
   "cell_type": "code",
   "execution_count": 1,
   "metadata": {},
   "outputs": [],
   "source": [
    "import pandas as pd\n",
    "import numpy as np\n",
    "import seaborn as sns\n",
    "import matplotlib.pyplot as plt\n",
    "%matplotlib inline\n",
    "import warnings\n",
    "warnings.filterwarnings('ignore')"
   ]
  },
  {
   "cell_type": "code",
   "execution_count": 34,
   "metadata": {},
   "outputs": [],
   "source": [
    "df = pd.read_csv('train_data.csv')"
   ]
  },
  {
   "cell_type": "code",
   "execution_count": 35,
   "metadata": {},
   "outputs": [
    {
     "data": {
      "text/html": [
       "<div>\n",
       "<style scoped>\n",
       "    .dataframe tbody tr th:only-of-type {\n",
       "        vertical-align: middle;\n",
       "    }\n",
       "\n",
       "    .dataframe tbody tr th {\n",
       "        vertical-align: top;\n",
       "    }\n",
       "\n",
       "    .dataframe thead th {\n",
       "        text-align: right;\n",
       "    }\n",
       "</style>\n",
       "<table border=\"1\" class=\"dataframe\">\n",
       "  <thead>\n",
       "    <tr style=\"text-align: right;\">\n",
       "      <th></th>\n",
       "      <th>ts_start</th>\n",
       "      <th>lat</th>\n",
       "      <th>lon</th>\n",
       "      <th>ts_valid</th>\n",
       "      <th>temp</th>\n",
       "      <th>dewpt</th>\n",
       "      <th>slp</th>\n",
       "      <th>rh</th>\n",
       "      <th>vis</th>\n",
       "      <th>wspeed</th>\n",
       "      <th>...</th>\n",
       "      <th>DT_DATA_LAST_UPDATED</th>\n",
       "      <th>SURF_UNIQUE_ID</th>\n",
       "      <th>SURF_SURFACE_CONDITION</th>\n",
       "      <th>site_id</th>\n",
       "      <th>anonym_0</th>\n",
       "      <th>anonym_1</th>\n",
       "      <th>anonym_2</th>\n",
       "      <th>anonym_3</th>\n",
       "      <th>anonym_4</th>\n",
       "      <th>anonym_5</th>\n",
       "    </tr>\n",
       "  </thead>\n",
       "  <tbody>\n",
       "    <tr>\n",
       "      <th>0</th>\n",
       "      <td>2019-11-01 05:00:00+00:00</td>\n",
       "      <td>40.69</td>\n",
       "      <td>-95.78</td>\n",
       "      <td>NaN</td>\n",
       "      <td>NaN</td>\n",
       "      <td>NaN</td>\n",
       "      <td>NaN</td>\n",
       "      <td>NaN</td>\n",
       "      <td>NaN</td>\n",
       "      <td>NaN</td>\n",
       "      <td>...</td>\n",
       "      <td>2019-11-01 05:00:00+00:00</td>\n",
       "      <td>5120390.0</td>\n",
       "      <td>dry</td>\n",
       "      <td>65.0</td>\n",
       "      <td>NaN</td>\n",
       "      <td>NaN</td>\n",
       "      <td>NaN</td>\n",
       "      <td>NaN</td>\n",
       "      <td>NaN</td>\n",
       "      <td>NaN</td>\n",
       "    </tr>\n",
       "    <tr>\n",
       "      <th>1</th>\n",
       "      <td>2019-11-01 05:00:00+00:00</td>\n",
       "      <td>40.69</td>\n",
       "      <td>-95.78</td>\n",
       "      <td>NaN</td>\n",
       "      <td>NaN</td>\n",
       "      <td>NaN</td>\n",
       "      <td>NaN</td>\n",
       "      <td>NaN</td>\n",
       "      <td>NaN</td>\n",
       "      <td>NaN</td>\n",
       "      <td>...</td>\n",
       "      <td>2019-11-01 05:00:00+00:00</td>\n",
       "      <td>5120391.0</td>\n",
       "      <td>dry</td>\n",
       "      <td>65.0</td>\n",
       "      <td>NaN</td>\n",
       "      <td>NaN</td>\n",
       "      <td>NaN</td>\n",
       "      <td>NaN</td>\n",
       "      <td>NaN</td>\n",
       "      <td>NaN</td>\n",
       "    </tr>\n",
       "    <tr>\n",
       "      <th>2</th>\n",
       "      <td>2019-11-01 05:00:00+00:00</td>\n",
       "      <td>40.69</td>\n",
       "      <td>-95.78</td>\n",
       "      <td>NaN</td>\n",
       "      <td>NaN</td>\n",
       "      <td>NaN</td>\n",
       "      <td>NaN</td>\n",
       "      <td>NaN</td>\n",
       "      <td>NaN</td>\n",
       "      <td>NaN</td>\n",
       "      <td>...</td>\n",
       "      <td>2019-11-01 05:00:00+00:00</td>\n",
       "      <td>5120392.0</td>\n",
       "      <td>dry</td>\n",
       "      <td>65.0</td>\n",
       "      <td>NaN</td>\n",
       "      <td>NaN</td>\n",
       "      <td>NaN</td>\n",
       "      <td>NaN</td>\n",
       "      <td>NaN</td>\n",
       "      <td>NaN</td>\n",
       "    </tr>\n",
       "    <tr>\n",
       "      <th>3</th>\n",
       "      <td>2019-11-01 05:00:00+00:00</td>\n",
       "      <td>40.69</td>\n",
       "      <td>-95.78</td>\n",
       "      <td>NaN</td>\n",
       "      <td>NaN</td>\n",
       "      <td>NaN</td>\n",
       "      <td>NaN</td>\n",
       "      <td>NaN</td>\n",
       "      <td>NaN</td>\n",
       "      <td>NaN</td>\n",
       "      <td>...</td>\n",
       "      <td>2019-11-01 05:00:00+00:00</td>\n",
       "      <td>5120393.0</td>\n",
       "      <td>dry</td>\n",
       "      <td>65.0</td>\n",
       "      <td>NaN</td>\n",
       "      <td>NaN</td>\n",
       "      <td>NaN</td>\n",
       "      <td>NaN</td>\n",
       "      <td>NaN</td>\n",
       "      <td>NaN</td>\n",
       "    </tr>\n",
       "    <tr>\n",
       "      <th>4</th>\n",
       "      <td>2019-11-01 05:15:00+00:00</td>\n",
       "      <td>40.69</td>\n",
       "      <td>-95.78</td>\n",
       "      <td>NaN</td>\n",
       "      <td>NaN</td>\n",
       "      <td>NaN</td>\n",
       "      <td>NaN</td>\n",
       "      <td>NaN</td>\n",
       "      <td>NaN</td>\n",
       "      <td>NaN</td>\n",
       "      <td>...</td>\n",
       "      <td>2019-11-01 05:15:00+00:00</td>\n",
       "      <td>5120390.0</td>\n",
       "      <td>dry</td>\n",
       "      <td>65.0</td>\n",
       "      <td>NaN</td>\n",
       "      <td>NaN</td>\n",
       "      <td>NaN</td>\n",
       "      <td>NaN</td>\n",
       "      <td>NaN</td>\n",
       "      <td>NaN</td>\n",
       "    </tr>\n",
       "  </tbody>\n",
       "</table>\n",
       "<p>5 rows × 30 columns</p>\n",
       "</div>"
      ],
      "text/plain": [
       "                    ts_start    lat    lon ts_valid  temp  dewpt  slp  rh  \\\n",
       "0  2019-11-01 05:00:00+00:00  40.69 -95.78      NaN   NaN    NaN  NaN NaN   \n",
       "1  2019-11-01 05:00:00+00:00  40.69 -95.78      NaN   NaN    NaN  NaN NaN   \n",
       "2  2019-11-01 05:00:00+00:00  40.69 -95.78      NaN   NaN    NaN  NaN NaN   \n",
       "3  2019-11-01 05:00:00+00:00  40.69 -95.78      NaN   NaN    NaN  NaN NaN   \n",
       "4  2019-11-01 05:15:00+00:00  40.69 -95.78      NaN   NaN    NaN  NaN NaN   \n",
       "\n",
       "   vis  wspeed  ...       DT_DATA_LAST_UPDATED  SURF_UNIQUE_ID  \\\n",
       "0  NaN     NaN  ...  2019-11-01 05:00:00+00:00       5120390.0   \n",
       "1  NaN     NaN  ...  2019-11-01 05:00:00+00:00       5120391.0   \n",
       "2  NaN     NaN  ...  2019-11-01 05:00:00+00:00       5120392.0   \n",
       "3  NaN     NaN  ...  2019-11-01 05:00:00+00:00       5120393.0   \n",
       "4  NaN     NaN  ...  2019-11-01 05:15:00+00:00       5120390.0   \n",
       "\n",
       "   SURF_SURFACE_CONDITION  site_id  anonym_0  anonym_1  anonym_2  anonym_3  \\\n",
       "0                     dry     65.0       NaN       NaN       NaN       NaN   \n",
       "1                     dry     65.0       NaN       NaN       NaN       NaN   \n",
       "2                     dry     65.0       NaN       NaN       NaN       NaN   \n",
       "3                     dry     65.0       NaN       NaN       NaN       NaN   \n",
       "4                     dry     65.0       NaN       NaN       NaN       NaN   \n",
       "\n",
       "   anonym_4  anonym_5  \n",
       "0       NaN       NaN  \n",
       "1       NaN       NaN  \n",
       "2       NaN       NaN  \n",
       "3       NaN       NaN  \n",
       "4       NaN       NaN  \n",
       "\n",
       "[5 rows x 30 columns]"
      ]
     },
     "execution_count": 35,
     "metadata": {},
     "output_type": "execute_result"
    }
   ],
   "source": [
    "df.head()"
   ]
  },
  {
   "cell_type": "code",
   "execution_count": 36,
   "metadata": {},
   "outputs": [
    {
     "data": {
      "text/plain": [
       "ts_start                   object\n",
       "lat                       float64\n",
       "lon                       float64\n",
       "ts_valid                   object\n",
       "temp                      float64\n",
       "dewpt                     float64\n",
       "slp                       float64\n",
       "rh                        float64\n",
       "vis                       float64\n",
       "wspeed                    float64\n",
       "wdir                      float64\n",
       "wgust                     float64\n",
       "pop                       float64\n",
       "precip_rate               float64\n",
       "FE_AZIMUTH                float64\n",
       "FE_ZENITH                 float64\n",
       "FE_ASCENSION              float64\n",
       "FE_DECLINATION            float64\n",
       "FE_HEIGHT                 float64\n",
       "FE_SUN_ALTITUDE           float64\n",
       "DT_DATA_LAST_UPDATED       object\n",
       "SURF_UNIQUE_ID            float64\n",
       "SURF_SURFACE_CONDITION     object\n",
       "site_id                   float64\n",
       "anonym_0                  float64\n",
       "anonym_1                  float64\n",
       "anonym_2                  float64\n",
       "anonym_3                  float64\n",
       "anonym_4                  float64\n",
       "anonym_5                  float64\n",
       "dtype: object"
      ]
     },
     "execution_count": 36,
     "metadata": {},
     "output_type": "execute_result"
    }
   ],
   "source": [
    "df.dtypes"
   ]
  },
  {
   "cell_type": "code",
   "execution_count": 37,
   "metadata": {},
   "outputs": [],
   "source": [
    "df= df.drop(['ts_start','ts_valid','DT_DATA_LAST_UPDATED'],axis=1)"
   ]
  },
  {
   "cell_type": "code",
   "execution_count": 38,
   "metadata": {},
   "outputs": [],
   "source": [
    "df = df.drop(['wgust'],axis=1)"
   ]
  },
  {
   "cell_type": "code",
   "execution_count": 39,
   "metadata": {},
   "outputs": [
    {
     "data": {
      "text/plain": [
       "lat                            0\n",
       "lon                            0\n",
       "temp                       33595\n",
       "dewpt                      33595\n",
       "slp                        33595\n",
       "rh                         33595\n",
       "vis                        33595\n",
       "wspeed                     33595\n",
       "wdir                       33595\n",
       "pop                        33595\n",
       "precip_rate                33595\n",
       "FE_AZIMUTH                 33595\n",
       "FE_ZENITH                  33595\n",
       "FE_ASCENSION               33596\n",
       "FE_DECLINATION             33596\n",
       "FE_HEIGHT                  33596\n",
       "FE_SUN_ALTITUDE            33596\n",
       "SURF_UNIQUE_ID                 2\n",
       "SURF_SURFACE_CONDITION    178481\n",
       "site_id                        2\n",
       "anonym_0                   33597\n",
       "anonym_1                   33597\n",
       "anonym_2                   33597\n",
       "anonym_3                   33597\n",
       "anonym_4                   33597\n",
       "anonym_5                   33597\n",
       "dtype: int64"
      ]
     },
     "execution_count": 39,
     "metadata": {},
     "output_type": "execute_result"
    }
   ],
   "source": [
    "df.isnull().sum()"
   ]
  },
  {
   "cell_type": "code",
   "execution_count": 40,
   "metadata": {},
   "outputs": [],
   "source": [
    "df = df.dropna(axis=0)"
   ]
  },
  {
   "cell_type": "code",
   "execution_count": null,
   "metadata": {},
   "outputs": [],
   "source": []
  },
  {
   "cell_type": "code",
   "execution_count": 41,
   "metadata": {},
   "outputs": [],
   "source": [
    "obj_df = df.select_dtypes(include = ['object']).copy()\n",
    "obj_df[\"SURF_SURFACE_CONDITION\"] = obj_df[\"SURF_SURFACE_CONDITION\"].astype('category')\n",
    "obj_df[\"SURF_SURFACE_CONDITION\"] = obj_df[\"SURF_SURFACE_CONDITION\"].cat.codes\n",
    "obj_df = obj_df.rename(columns={'SURF_SURFACE_CONDITION':'Surface_Condition'})"
   ]
  },
  {
   "cell_type": "code",
   "execution_count": null,
   "metadata": {},
   "outputs": [],
   "source": []
  },
  {
   "cell_type": "code",
   "execution_count": 42,
   "metadata": {},
   "outputs": [],
   "source": [
    "df = pd.concat([df,obj_df],axis=1)"
   ]
  },
  {
   "cell_type": "code",
   "execution_count": 43,
   "metadata": {},
   "outputs": [],
   "source": [
    "df = df.drop(['SURF_SURFACE_CONDITION'],axis=1)"
   ]
  },
  {
   "cell_type": "code",
   "execution_count": 44,
   "metadata": {},
   "outputs": [
    {
     "data": {
      "text/html": [
       "<div>\n",
       "<style scoped>\n",
       "    .dataframe tbody tr th:only-of-type {\n",
       "        vertical-align: middle;\n",
       "    }\n",
       "\n",
       "    .dataframe tbody tr th {\n",
       "        vertical-align: top;\n",
       "    }\n",
       "\n",
       "    .dataframe thead th {\n",
       "        text-align: right;\n",
       "    }\n",
       "</style>\n",
       "<table border=\"1\" class=\"dataframe\">\n",
       "  <thead>\n",
       "    <tr style=\"text-align: right;\">\n",
       "      <th></th>\n",
       "      <th>lat</th>\n",
       "      <th>lon</th>\n",
       "      <th>temp</th>\n",
       "      <th>dewpt</th>\n",
       "      <th>slp</th>\n",
       "      <th>rh</th>\n",
       "      <th>vis</th>\n",
       "      <th>wspeed</th>\n",
       "      <th>wdir</th>\n",
       "      <th>pop</th>\n",
       "      <th>...</th>\n",
       "      <th>FE_SUN_ALTITUDE</th>\n",
       "      <th>SURF_UNIQUE_ID</th>\n",
       "      <th>site_id</th>\n",
       "      <th>anonym_0</th>\n",
       "      <th>anonym_1</th>\n",
       "      <th>anonym_2</th>\n",
       "      <th>anonym_3</th>\n",
       "      <th>anonym_4</th>\n",
       "      <th>anonym_5</th>\n",
       "      <th>Surface_Condition</th>\n",
       "    </tr>\n",
       "  </thead>\n",
       "  <tbody>\n",
       "    <tr>\n",
       "      <th>372</th>\n",
       "      <td>40.69</td>\n",
       "      <td>-95.78</td>\n",
       "      <td>3.0</td>\n",
       "      <td>0.0</td>\n",
       "      <td>1027.0</td>\n",
       "      <td>77.0</td>\n",
       "      <td>16.0</td>\n",
       "      <td>15.0</td>\n",
       "      <td>301.0</td>\n",
       "      <td>0.0</td>\n",
       "      <td>...</td>\n",
       "      <td>-54.323244</td>\n",
       "      <td>5120390.0</td>\n",
       "      <td>65.0</td>\n",
       "      <td>0.857639</td>\n",
       "      <td>0.470287</td>\n",
       "      <td>0.354746</td>\n",
       "      <td>-1.272234</td>\n",
       "      <td>-1.350717</td>\n",
       "      <td>-inf</td>\n",
       "      <td>2</td>\n",
       "    </tr>\n",
       "    <tr>\n",
       "      <th>373</th>\n",
       "      <td>40.69</td>\n",
       "      <td>-95.78</td>\n",
       "      <td>3.0</td>\n",
       "      <td>0.0</td>\n",
       "      <td>1027.0</td>\n",
       "      <td>77.0</td>\n",
       "      <td>16.0</td>\n",
       "      <td>15.0</td>\n",
       "      <td>301.0</td>\n",
       "      <td>0.0</td>\n",
       "      <td>...</td>\n",
       "      <td>-54.323244</td>\n",
       "      <td>5120391.0</td>\n",
       "      <td>65.0</td>\n",
       "      <td>0.631902</td>\n",
       "      <td>0.663599</td>\n",
       "      <td>0.224475</td>\n",
       "      <td>-1.215891</td>\n",
       "      <td>-1.283653</td>\n",
       "      <td>-inf</td>\n",
       "      <td>0</td>\n",
       "    </tr>\n",
       "    <tr>\n",
       "      <th>374</th>\n",
       "      <td>40.69</td>\n",
       "      <td>-95.78</td>\n",
       "      <td>3.0</td>\n",
       "      <td>0.0</td>\n",
       "      <td>1027.0</td>\n",
       "      <td>77.0</td>\n",
       "      <td>16.0</td>\n",
       "      <td>15.0</td>\n",
       "      <td>301.0</td>\n",
       "      <td>0.0</td>\n",
       "      <td>...</td>\n",
       "      <td>-54.323244</td>\n",
       "      <td>5120392.0</td>\n",
       "      <td>65.0</td>\n",
       "      <td>0.669398</td>\n",
       "      <td>0.582117</td>\n",
       "      <td>0.453220</td>\n",
       "      <td>-1.093798</td>\n",
       "      <td>-1.233569</td>\n",
       "      <td>-inf</td>\n",
       "      <td>0</td>\n",
       "    </tr>\n",
       "    <tr>\n",
       "      <th>375</th>\n",
       "      <td>40.69</td>\n",
       "      <td>-95.78</td>\n",
       "      <td>3.0</td>\n",
       "      <td>0.0</td>\n",
       "      <td>1027.0</td>\n",
       "      <td>77.0</td>\n",
       "      <td>16.0</td>\n",
       "      <td>15.0</td>\n",
       "      <td>301.0</td>\n",
       "      <td>0.0</td>\n",
       "      <td>...</td>\n",
       "      <td>-54.323244</td>\n",
       "      <td>5120393.0</td>\n",
       "      <td>65.0</td>\n",
       "      <td>0.739336</td>\n",
       "      <td>0.575585</td>\n",
       "      <td>0.270314</td>\n",
       "      <td>-1.095513</td>\n",
       "      <td>-1.241008</td>\n",
       "      <td>-inf</td>\n",
       "      <td>2</td>\n",
       "    </tr>\n",
       "    <tr>\n",
       "      <th>376</th>\n",
       "      <td>40.69</td>\n",
       "      <td>-95.78</td>\n",
       "      <td>3.0</td>\n",
       "      <td>0.0</td>\n",
       "      <td>1027.1</td>\n",
       "      <td>78.0</td>\n",
       "      <td>16.0</td>\n",
       "      <td>15.0</td>\n",
       "      <td>301.0</td>\n",
       "      <td>0.0</td>\n",
       "      <td>...</td>\n",
       "      <td>-56.450661</td>\n",
       "      <td>5120390.0</td>\n",
       "      <td>65.0</td>\n",
       "      <td>0.551431</td>\n",
       "      <td>0.624262</td>\n",
       "      <td>0.327368</td>\n",
       "      <td>-1.113647</td>\n",
       "      <td>-1.275418</td>\n",
       "      <td>-inf</td>\n",
       "      <td>2</td>\n",
       "    </tr>\n",
       "  </tbody>\n",
       "</table>\n",
       "<p>5 rows × 26 columns</p>\n",
       "</div>"
      ],
      "text/plain": [
       "       lat    lon  temp  dewpt     slp    rh   vis  wspeed   wdir  pop  ...  \\\n",
       "372  40.69 -95.78   3.0    0.0  1027.0  77.0  16.0    15.0  301.0  0.0  ...   \n",
       "373  40.69 -95.78   3.0    0.0  1027.0  77.0  16.0    15.0  301.0  0.0  ...   \n",
       "374  40.69 -95.78   3.0    0.0  1027.0  77.0  16.0    15.0  301.0  0.0  ...   \n",
       "375  40.69 -95.78   3.0    0.0  1027.0  77.0  16.0    15.0  301.0  0.0  ...   \n",
       "376  40.69 -95.78   3.0    0.0  1027.1  78.0  16.0    15.0  301.0  0.0  ...   \n",
       "\n",
       "     FE_SUN_ALTITUDE  SURF_UNIQUE_ID  site_id  anonym_0  anonym_1  anonym_2  \\\n",
       "372       -54.323244       5120390.0     65.0  0.857639  0.470287  0.354746   \n",
       "373       -54.323244       5120391.0     65.0  0.631902  0.663599  0.224475   \n",
       "374       -54.323244       5120392.0     65.0  0.669398  0.582117  0.453220   \n",
       "375       -54.323244       5120393.0     65.0  0.739336  0.575585  0.270314   \n",
       "376       -56.450661       5120390.0     65.0  0.551431  0.624262  0.327368   \n",
       "\n",
       "     anonym_3  anonym_4  anonym_5  Surface_Condition  \n",
       "372 -1.272234 -1.350717      -inf                  2  \n",
       "373 -1.215891 -1.283653      -inf                  0  \n",
       "374 -1.093798 -1.233569      -inf                  0  \n",
       "375 -1.095513 -1.241008      -inf                  2  \n",
       "376 -1.113647 -1.275418      -inf                  2  \n",
       "\n",
       "[5 rows x 26 columns]"
      ]
     },
     "execution_count": 44,
     "metadata": {},
     "output_type": "execute_result"
    }
   ],
   "source": [
    "df.head()"
   ]
  },
  {
   "cell_type": "code",
   "execution_count": 45,
   "metadata": {},
   "outputs": [],
   "source": [
    "df = df.replace([np.inf, -np.inf], np.nan)"
   ]
  },
  {
   "cell_type": "code",
   "execution_count": 46,
   "metadata": {},
   "outputs": [],
   "source": [
    "df = df.drop(['anonym_5'],axis=1)"
   ]
  },
  {
   "cell_type": "code",
   "execution_count": 47,
   "metadata": {},
   "outputs": [],
   "source": [
    "df = df.dropna(axis=0)"
   ]
  },
  {
   "cell_type": "markdown",
   "metadata": {},
   "source": [
    "# 0-->dry  1-->icy  2-->wet"
   ]
  },
  {
   "cell_type": "code",
   "execution_count": 48,
   "metadata": {},
   "outputs": [
    {
     "data": {
      "text/plain": [
       "<matplotlib.axes._subplots.AxesSubplot at 0x13c90b4f320>"
      ]
     },
     "execution_count": 48,
     "metadata": {},
     "output_type": "execute_result"
    },
    {
     "data": {
      "image/png": "[encoded data removed]",
      "text/plain": [
       "<Figure size 432x288 with 2 Axes>"
      ]
     },
     "metadata": {
      "needs_background": "light"
     },
     "output_type": "display_data"
    }
   ],
   "source": [
    "sns.heatmap(df.isnull(), yticklabels=False,cmap='winter')"
   ]
  },
  {
   "cell_type": "code",
   "execution_count": 62,
   "metadata": {},
   "outputs": [
    {
     "data": {
      "text/plain": [
       "array([[<matplotlib.axes._subplots.AxesSubplot object at 0x0000013C810CCEB8>,\n",
       "        <matplotlib.axes._subplots.AxesSubplot object at 0x0000013C810F64E0>,\n",
       "        <matplotlib.axes._subplots.AxesSubplot object at 0x0000013C802E3780>,\n",
       "        <matplotlib.axes._subplots.AxesSubplot object at 0x0000013C80301E10>,\n",
       "        <matplotlib.axes._subplots.AxesSubplot object at 0x0000013C803284E0>],\n",
       "       [<matplotlib.axes._subplots.AxesSubplot object at 0x0000013C80328518>,\n",
       "        <matplotlib.axes._subplots.AxesSubplot object at 0x0000013C8037BF60>,\n",
       "        <matplotlib.axes._subplots.AxesSubplot object at 0x0000013C803AA630>,\n",
       "        <matplotlib.axes._subplots.AxesSubplot object at 0x0000013C803D4CC0>,\n",
       "        <matplotlib.axes._subplots.AxesSubplot object at 0x0000013C80404390>],\n",
       "       [<matplotlib.axes._subplots.AxesSubplot object at 0x0000013C8042CA20>,\n",
       "        <matplotlib.axes._subplots.AxesSubplot object at 0x0000013C804600F0>,\n",
       "        <matplotlib.axes._subplots.AxesSubplot object at 0x0000013C80487780>,\n",
       "        <matplotlib.axes._subplots.AxesSubplot object at 0x0000013C812DEE10>,\n",
       "        <matplotlib.axes._subplots.AxesSubplot object at 0x0000013C813104E0>],\n",
       "       [<matplotlib.axes._subplots.AxesSubplot object at 0x0000013C81339B70>,\n",
       "        <matplotlib.axes._subplots.AxesSubplot object at 0x0000013C8136C240>,\n",
       "        <matplotlib.axes._subplots.AxesSubplot object at 0x0000013C813938D0>,\n",
       "        <matplotlib.axes._subplots.AxesSubplot object at 0x0000013C813BDF60>,\n",
       "        <matplotlib.axes._subplots.AxesSubplot object at 0x0000013C813EE630>],\n",
       "       [<matplotlib.axes._subplots.AxesSubplot object at 0x0000013C81414CC0>,\n",
       "        <matplotlib.axes._subplots.AxesSubplot object at 0x0000013C81445390>,\n",
       "        <matplotlib.axes._subplots.AxesSubplot object at 0x0000013C8146EA20>,\n",
       "        <matplotlib.axes._subplots.AxesSubplot object at 0x0000013C816BF0F0>,\n",
       "        <matplotlib.axes._subplots.AxesSubplot object at 0x0000013C816E6780>]],\n",
       "      dtype=object)"
      ]
     },
     "execution_count": 62,
     "metadata": {},
     "output_type": "execute_result"
    },
    {
     "data": {
      "image/png": "[encoded data removed]",
      "text/plain": [
       "<Figure size 432x288 with 25 Axes>"
      ]
     },
     "metadata": {
      "needs_background": "light"
     },
     "output_type": "display_data"
    }
   ],
   "source": [
    "X.hist()"
   ]
  },
  {
   "cell_type": "code",
   "execution_count": 76,
   "metadata": {},
   "outputs": [],
   "source": [
    "test = pd.read_csv('test_clean_conti.csv')"
   ]
  },
  {
   "cell_type": "code",
   "execution_count": 115,
   "metadata": {},
   "outputs": [],
   "source": [
    "test = test[use_cols]"
   ]
  },
  {
   "cell_type": "code",
   "execution_count": 116,
   "metadata": {},
   "outputs": [
    {
     "data": {
      "text/html": [
       "<div>\n",
       "<style scoped>\n",
       "    .dataframe tbody tr th:only-of-type {\n",
       "        vertical-align: middle;\n",
       "    }\n",
       "\n",
       "    .dataframe tbody tr th {\n",
       "        vertical-align: top;\n",
       "    }\n",
       "\n",
       "    .dataframe thead th {\n",
       "        text-align: right;\n",
       "    }\n",
       "</style>\n",
       "<table border=\"1\" class=\"dataframe\">\n",
       "  <thead>\n",
       "    <tr style=\"text-align: right;\">\n",
       "      <th></th>\n",
       "      <th>vis</th>\n",
       "      <th>FE_AZIMUTH</th>\n",
       "      <th>slp</th>\n",
       "      <th>precip_rate</th>\n",
       "      <th>wspeed</th>\n",
       "      <th>FE_ASCENSION</th>\n",
       "      <th>lat</th>\n",
       "      <th>pop</th>\n",
       "      <th>anonym_1</th>\n",
       "      <th>anonym_3</th>\n",
       "      <th>FE_DECLINATION</th>\n",
       "      <th>FE_HEIGHT</th>\n",
       "      <th>anonym_0</th>\n",
       "      <th>rh</th>\n",
       "      <th>anonym_2</th>\n",
       "    </tr>\n",
       "  </thead>\n",
       "  <tbody>\n",
       "    <tr>\n",
       "      <th>0</th>\n",
       "      <td>7.0</td>\n",
       "      <td>320.369888</td>\n",
       "      <td>1005.9</td>\n",
       "      <td>0.0</td>\n",
       "      <td>1.0</td>\n",
       "      <td>233.947649</td>\n",
       "      <td>41.02</td>\n",
       "      <td>0.0</td>\n",
       "      <td>0.457492</td>\n",
       "      <td>-1.974396</td>\n",
       "      <td>-19.289585</td>\n",
       "      <td>162.551725</td>\n",
       "      <td>0.479819</td>\n",
       "      <td>93.0</td>\n",
       "      <td>0.715955</td>\n",
       "    </tr>\n",
       "  </tbody>\n",
       "</table>\n",
       "</div>"
      ],
      "text/plain": [
       "   vis  FE_AZIMUTH     slp  precip_rate  wspeed  FE_ASCENSION    lat  pop  \\\n",
       "0  7.0  320.369888  1005.9          0.0     1.0    233.947649  41.02  0.0   \n",
       "\n",
       "   anonym_1  anonym_3  FE_DECLINATION   FE_HEIGHT  anonym_0    rh  anonym_2  \n",
       "0  0.457492 -1.974396      -19.289585  162.551725  0.479819  93.0  0.715955  "
      ]
     },
     "execution_count": 116,
     "metadata": {},
     "output_type": "execute_result"
    }
   ],
   "source": [
    "test.head(1)"
   ]
  },
  {
   "cell_type": "code",
   "execution_count": 114,
   "metadata": {},
   "outputs": [
    {
     "data": {
      "text/html": [
       "<div>\n",
       "<style scoped>\n",
       "    .dataframe tbody tr th:only-of-type {\n",
       "        vertical-align: middle;\n",
       "    }\n",
       "\n",
       "    .dataframe tbody tr th {\n",
       "        vertical-align: top;\n",
       "    }\n",
       "\n",
       "    .dataframe thead th {\n",
       "        text-align: right;\n",
       "    }\n",
       "</style>\n",
       "<table border=\"1\" class=\"dataframe\">\n",
       "  <thead>\n",
       "    <tr style=\"text-align: right;\">\n",
       "      <th></th>\n",
       "      <th>vis</th>\n",
       "      <th>FE_AZIMUTH</th>\n",
       "      <th>slp</th>\n",
       "      <th>precip_rate</th>\n",
       "      <th>wspeed</th>\n",
       "      <th>FE_ASCENSION</th>\n",
       "      <th>lat</th>\n",
       "      <th>pop</th>\n",
       "      <th>anonym_1</th>\n",
       "      <th>anonym_3</th>\n",
       "      <th>FE_DECLINATION</th>\n",
       "      <th>FE_HEIGHT</th>\n",
       "      <th>anonym_0</th>\n",
       "      <th>rh</th>\n",
       "      <th>anonym_2</th>\n",
       "    </tr>\n",
       "  </thead>\n",
       "  <tbody>\n",
       "    <tr>\n",
       "      <th>838977</th>\n",
       "      <td>16.0</td>\n",
       "      <td>265.722672</td>\n",
       "      <td>1012.09</td>\n",
       "      <td>0.0</td>\n",
       "      <td>15.0</td>\n",
       "      <td>164.181567</td>\n",
       "      <td>42.0</td>\n",
       "      <td>0.0</td>\n",
       "      <td>0.369401</td>\n",
       "      <td>-4.118627</td>\n",
       "      <td>6.727652</td>\n",
       "      <td>436.141078</td>\n",
       "      <td>0.486593</td>\n",
       "      <td>69.0</td>\n",
       "      <td>0.345329</td>\n",
       "    </tr>\n",
       "  </tbody>\n",
       "</table>\n",
       "</div>"
      ],
      "text/plain": [
       "         vis  FE_AZIMUTH      slp  precip_rate  wspeed  FE_ASCENSION   lat  \\\n",
       "838977  16.0  265.722672  1012.09          0.0    15.0    164.181567  42.0   \n",
       "\n",
       "        pop  anonym_1  anonym_3  FE_DECLINATION   FE_HEIGHT  anonym_0    rh  \\\n",
       "838977  0.0  0.369401 -4.118627        6.727652  436.141078  0.486593  69.0   \n",
       "\n",
       "        anonym_2  \n",
       "838977  0.345329  "
      ]
     },
     "execution_count": 114,
     "metadata": {},
     "output_type": "execute_result"
    }
   ],
   "source": [
    "X.head(1)"
   ]
  },
  {
   "cell_type": "code",
   "execution_count": 78,
   "metadata": {},
   "outputs": [
    {
     "data": {
      "text/plain": [
       "((53616, 16), (824395, 15))"
      ]
     },
     "execution_count": 78,
     "metadata": {},
     "output_type": "execute_result"
    }
   ],
   "source": [
    "test.shape,X.shape"
   ]
  },
  {
   "cell_type": "code",
   "execution_count": 79,
   "metadata": {},
   "outputs": [],
   "source": [
    "test = test.drop(['row_id'],axis=1)"
   ]
  },
  {
   "cell_type": "code",
   "execution_count": 91,
   "metadata": {},
   "outputs": [],
   "source": [
    "df = df.sample(500000)"
   ]
  },
  {
   "cell_type": "code",
   "execution_count": 92,
   "metadata": {},
   "outputs": [],
   "source": [
    "X = df.drop(['Surface_Condition'],axis=1)"
   ]
  },
  {
   "cell_type": "code",
   "execution_count": 93,
   "metadata": {},
   "outputs": [],
   "source": [
    "use_cols = {'lat','slp', 'rh', 'vis', 'wspeed','pop', 'precip_rate','FE_AZIMUTH','FE_ASCENSION',\n",
    "       'FE_DECLINATION', 'FE_HEIGHT','anonym_0', 'anonym_1', 'anonym_2', 'anonym_3'}"
   ]
  },
  {
   "cell_type": "code",
   "execution_count": 94,
   "metadata": {},
   "outputs": [],
   "source": [
    "X =X[use_cols]"
   ]
  },
  {
   "cell_type": "code",
   "execution_count": 95,
   "metadata": {},
   "outputs": [],
   "source": [
    "y = df['Surface_Condition']"
   ]
  },
  {
   "cell_type": "code",
   "execution_count": null,
   "metadata": {},
   "outputs": [],
   "source": [
    "from sklearn.multiclass import OneVsOneClassifier"
   ]
  },
  {
   "cell_type": "code",
   "execution_count": 106,
   "metadata": {},
   "outputs": [],
   "source": [
    "from sklearn.multiclass import OneVsRestClassifier\n",
    "from xgboost import XGBClassifier\n"
   ]
  },
  {
   "cell_type": "code",
   "execution_count": 107,
   "metadata": {},
   "outputs": [],
   "source": [
    "clf = OneVsRestClassifier(XGBClassifier(n_jobs=-1))"
   ]
  },
  {
   "cell_type": "code",
   "execution_count": null,
   "metadata": {},
   "outputs": [
    {
     "data": {
      "text/plain": [
       "OneVsRestClassifier(estimator=XGBClassifier(base_score=0.5, booster='gbtree',\n",
       "                                            colsample_bylevel=1,\n",
       "                                            colsample_bynode=1,\n",
       "                                            colsample_bytree=1, gamma=0,\n",
       "                                            learning_rate=0.1, max_delta_step=0,\n",
       "                                            max_depth=3, min_child_weight=1,\n",
       "                                            missing=None, n_estimators=100,\n",
       "                                            n_jobs=-1, nthread=None,\n",
       "                                            objective='binary:logistic',\n",
       "                                            random_state=0, reg_alpha=0,\n",
       "                                            reg_lambda=1, scale_pos_weight=1,\n",
       "                                            seed=None, silent=None, subsample=1,\n",
       "                                            verbosity=1),\n",
       "                    n_jobs=None)"
      ]
     },
     "execution_count": 108,
     "metadata": {},
     "output_type": "execute_result"
    }
   ],
   "source": [
    "clf.fit(X, y)"
   ]
  },
  {
   "cell_type": "code",
   "execution_count": 112,
   "metadata": {},
   "outputs": [
    {
     "name": "stdout",
     "output_type": "stream",
     "text": [
      "Coefficient of determination R^2 <-- on train set: 0.867842\n"
     ]
    }
   ],
   "source": [
    "print(\"Coefficient of determination R^2 <-- on train set: {}\".format(clf.score(X, y)))"
   ]
  },
  {
   "cell_type": "code",
   "execution_count": 117,
   "metadata": {},
   "outputs": [],
   "source": [
    "y_pred = clf.predict(test)"
   ]
  },
  {
   "cell_type": "code",
   "execution_count": 118,
   "metadata": {},
   "outputs": [
    {
     "data": {
      "text/plain": [
       "<matplotlib.axes._subplots.AxesSubplot at 0x13c82ae0c18>"
      ]
     },
     "execution_count": 118,
     "metadata": {},
     "output_type": "execute_result"
    },
    {
     "data": {
      "image/png": "[encoded data removed]",
      "text/plain": [
       "<Figure size 432x288 with 1 Axes>"
      ]
     },
     "metadata": {
      "needs_background": "light"
     },
     "output_type": "display_data"
    }
   ],
   "source": [
    "y_pred = pd.DataFrame(y_pred)\n",
    "prediction = y_pred\n",
    "prediction = prediction.rename(columns={0:'SURF_SURFACE_CONDITION'})\n",
    "prediction = prediction.replace(0,'dry')\n",
    "prediction = prediction.replace(1,'icy')\n",
    "prediction = prediction.replace(2,'wet')\n",
    "sns.countplot(x='SURF_SURFACE_CONDITION',data=prediction)"
   ]
  },
  {
   "cell_type": "code",
   "execution_count": 120,
   "metadata": {},
   "outputs": [],
   "source": [
    "export_csv = prediction.to_csv(r'y_pred.csv',index=None,header=True)"
   ]
  },
  {
   "cell_type": "code",
   "execution_count": null,
   "metadata": {},
   "outputs": [],
   "source": []
  },
  {
   "cell_type": "code",
   "execution_count": null,
   "metadata": {},
   "outputs": [],
   "source": []
  },
  {
   "cell_type": "code",
   "execution_count": null,
   "metadata": {},
   "outputs": [],
   "source": []
  },
  {
   "cell_type": "code",
   "execution_count": null,
   "metadata": {},
   "outputs": [],
   "source": []
  },
  {
   "cell_type": "code",
   "execution_count": null,
   "metadata": {},
   "outputs": [],
   "source": []
  },
  {
   "cell_type": "code",
   "execution_count": 96,
   "metadata": {},
   "outputs": [],
   "source": [
    "from sklearn.model_selection import train_test_split\n",
    "from sklearn.metrics import accuracy_score,confusion_matrix"
   ]
  },
  {
   "cell_type": "code",
   "execution_count": 67,
   "metadata": {},
   "outputs": [],
   "source": [
    "X_train,X_test,y_train,y_test = train_test_split(X,y, test_size = 0.3, random_state = 1)"
   ]
  },
  {
   "cell_type": "code",
   "execution_count": 97,
   "metadata": {},
   "outputs": [],
   "source": [
    "from sklearn.ensemble import RandomForestClassifier"
   ]
  },
  {
   "cell_type": "code",
   "execution_count": 98,
   "metadata": {},
   "outputs": [],
   "source": [
    "clf = RandomForestClassifier(n_jobs=-1)\n"
   ]
  },
  {
   "cell_type": "code",
   "execution_count": 99,
   "metadata": {},
   "outputs": [
    {
     "data": {
      "text/plain": [
       "RandomForestClassifier(bootstrap=True, ccp_alpha=0.0, class_weight=None,\n",
       "                       criterion='gini', max_depth=None, max_features='auto',\n",
       "                       max_leaf_nodes=None, max_samples=None,\n",
       "                       min_impurity_decrease=0.0, min_impurity_split=None,\n",
       "                       min_samples_leaf=1, min_samples_split=2,\n",
       "                       min_weight_fraction_leaf=0.0, n_estimators=100,\n",
       "                       n_jobs=-1, oob_score=False, random_state=None, verbose=0,\n",
       "                       warm_start=False)"
      ]
     },
     "execution_count": 99,
     "metadata": {},
     "output_type": "execute_result"
    }
   ],
   "source": [
    "clf.fit(X,y)"
   ]
  },
  {
   "cell_type": "code",
   "execution_count": 100,
   "metadata": {},
   "outputs": [
    {
     "name": "stdout",
     "output_type": "stream",
     "text": [
      "Coefficient of determination R^2 <-- on train set: 0.9628766401652469\n"
     ]
    }
   ],
   "source": [
    "print(\"Coefficient of determination R^2 <-- on train set: {}\".format(clf.score(X_train, y_train)))"
   ]
  },
  {
   "cell_type": "code",
   "execution_count": 82,
   "metadata": {},
   "outputs": [],
   "source": [
    "\n",
    "#print(\"Coefficient of determination R^2 <-- on train set: {}\".format(clf.score(X_test, y_test)))"
   ]
  },
  {
   "cell_type": "code",
   "execution_count": 27,
   "metadata": {},
   "outputs": [],
   "source": [
    "#from sklearn.model_selection import cross_val_score\n",
    "#score=cross_val_score(clf,X,y,cv=5)"
   ]
  },
  {
   "cell_type": "code",
   "execution_count": 28,
   "metadata": {},
   "outputs": [
    {
     "data": {
      "text/plain": [
       "0.6643393671605073"
      ]
     },
     "execution_count": 28,
     "metadata": {},
     "output_type": "execute_result"
    }
   ],
   "source": [
    "#score.mean()"
   ]
  },
  {
   "cell_type": "code",
   "execution_count": null,
   "metadata": {},
   "outputs": [],
   "source": []
  },
  {
   "cell_type": "code",
   "execution_count": 101,
   "metadata": {},
   "outputs": [],
   "source": [
    "y_pred = clf.predict(test)\n",
    "y_pred = pd.DataFrame(y_pred)\n",
    "#print(\"Acc score is :\",accuracy_score(y_pred,y_test)*100)"
   ]
  },
  {
   "cell_type": "code",
   "execution_count": 102,
   "metadata": {},
   "outputs": [],
   "source": [
    "prediction = y_pred\n",
    "prediction = prediction.rename(columns={0:'SURF_SURFACE_CONDITION'})\n",
    "prediction = prediction.replace(0,'dry')\n",
    "prediction = prediction.replace(1,'icy')\n",
    "prediction = prediction.replace(2,'wet')"
   ]
  },
  {
   "cell_type": "code",
   "execution_count": 105,
   "metadata": {},
   "outputs": [
    {
     "data": {
      "text/plain": [
       "<matplotlib.axes._subplots.AxesSubplot at 0x13cabcd4630>"
      ]
     },
     "execution_count": 105,
     "metadata": {},
     "output_type": "execute_result"
    },
    {
     "data": {
      "image/png": "[encoded data removed]",
      "text/plain": [
       "<Figure size 432x288 with 1 Axes>"
      ]
     },
     "metadata": {
      "needs_background": "light"
     },
     "output_type": "display_data"
    }
   ],
   "source": [
    "sns.countplot(x='SURF_SURFACE_CONDITION',data=prediction)"
   ]
  },
  {
   "cell_type": "code",
   "execution_count": 84,
   "metadata": {},
   "outputs": [],
   "source": [
    "export_csv = y_pred.to_csv(r'y_pred.csv',index=None,header=True)"
   ]
  },
  {
   "cell_type": "code",
   "execution_count": 74,
   "metadata": {},
   "outputs": [],
   "source": [
    "from sklearn.metrics import f1_score"
   ]
  },
  {
   "cell_type": "code",
   "execution_count": 75,
   "metadata": {},
   "outputs": [
    {
     "data": {
      "text/plain": [
       "0.8209466736112899"
      ]
     },
     "execution_count": 75,
     "metadata": {},
     "output_type": "execute_result"
    }
   ],
   "source": [
    "f1_score(y_test, y_pred, average='macro')"
   ]
  },
  {
   "cell_type": "code",
   "execution_count": null,
   "metadata": {},
   "outputs": [],
   "source": [
    "confusion_matrix(y_test,y_pred)"
   ]
  },
  {
   "cell_type": "code",
   "execution_count": null,
   "metadata": {},
   "outputs": [],
   "source": [
    "vmgj"
   ]
  },
  {
   "cell_type": "code",
   "execution_count": null,
   "metadata": {},
   "outputs": [],
   "source": [
    "import xgboost as xgb"
   ]
  },
  {
   "cell_type": "code",
   "execution_count": null,
   "metadata": {},
   "outputs": [],
   "source": [
    "from sklearn.model_selection import RandomizedSearchCV"
   ]
  },
  {
   "cell_type": "code",
   "execution_count": null,
   "metadata": {},
   "outputs": [],
   "source": [
    "n_estimators = [int(x) for x in np.linspace(start = 100, stop = 1200, num = 12)]\n",
    "print(n_estimators)"
   ]
  },
  {
   "cell_type": "code",
   "execution_count": null,
   "metadata": {},
   "outputs": [],
   "source": [
    "\n",
    "#Randomized Search CV\n",
    "\n",
    "# Number of trees in random forest\n",
    "n_estimators = [int(x) for x in np.linspace(start = 100, stop = 1200, num = 12)]\n",
    "# Various learning rate parameters\n",
    "learning_rate = ['0.05','0.1', '0.2','0.3','0.5','0.6']\n",
    "# Maximum number of levels in tree\n",
    "max_depth = [int(x) for x in np.linspace(5, 30, num = 6)]\n",
    "# max_depth.append(None)\n",
    "#Subssample parameter values\n",
    "subsample=[0.7,0.6,0.8]\n",
    "# Minimum child weight parameters\n",
    "min_child_weight=[3,4,5,6,7]"
   ]
  },
  {
   "cell_type": "code",
   "execution_count": null,
   "metadata": {},
   "outputs": [],
   "source": [
    "\n",
    "# Create the random grid\n",
    "random_grid = {'n_estimators': n_estimators,\n",
    "               'learning_rate': learning_rate,\n",
    "               'max_depth': max_depth,\n",
    "               'subsample': subsample,\n",
    "               'min_child_weight': min_child_weight}\n",
    "\n",
    "print(random_grid)"
   ]
  },
  {
   "cell_type": "code",
   "execution_count": null,
   "metadata": {},
   "outputs": [],
   "source": [
    "clf = xgb.XGBClassifier()"
   ]
  },
  {
   "cell_type": "code",
   "execution_count": null,
   "metadata": {},
   "outputs": [],
   "source": [
    "# Random search of parameters, using 3 fold cross validation, \n",
    "# search across 100 different combinations\n",
    "xg_random = RandomizedSearchCV(estimator = clf, param_distributions = random_grid,scoring='neg_mean_squared_error', n_iter = 100, cv = 5, verbose=2, random_state=42, n_jobs = -1)"
   ]
  },
  {
   "cell_type": "code",
   "execution_count": null,
   "metadata": {},
   "outputs": [],
   "source": [
    "xg_random.fit(X_train,y_train)"
   ]
  },
  {
   "cell_type": "code",
   "execution_count": null,
   "metadata": {},
   "outputs": [],
   "source": []
  }
 ],
 "metadata": {
  "kernelspec": {
   "display_name": "Python 3",
   "language": "python",
   "name": "python3"
  },
  "language_info": {
   "codemirror_mode": {
    "name": "ipython",
    "version": 3
   },
   "file_extension": ".py",
   "mimetype": "text/x-python",
   "name": "python",
   "nbconvert_exporter": "python",
   "pygments_lexer": "ipython3",
   "version": "3.7.1"
  }
 },
 "nbformat": 4,
 "nbformat_minor": 2
}
